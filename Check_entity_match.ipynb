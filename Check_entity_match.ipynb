{
  "nbformat": 4,
  "nbformat_minor": 0,
  "metadata": {
    "colab": {
      "name": "check_results2.ipynb",
      "provenance": [],
      "collapsed_sections": [
        "LllYQAxR4-oA",
        "lAnRpKc7mJya",
        "K509E6dZyaI8",
        "LfmvT273zoq2",
        "ge0flmcy0MxZ",
        "5tCCpUcu0pCT",
        "KavKhg913Kfm"
      ]
    },
    "kernelspec": {
      "name": "python3",
      "display_name": "Python 3"
    },
    "accelerator": "GPU"
  },
  "cells": [
    {
      "cell_type": "markdown",
      "metadata": {
        "id": "WaaihTB0mayQ",
        "colab_type": "text"
      },
      "source": [
        "# **CHECK RESULTS**\n",
        "\n",
        "## **Author:** Gema De Vargas Romero\n",
        "\n",
        "## **Master Thesis:** \"Development of a Named Entity Recognition System to automatically assign tumor morphology entity mentions to health-related documents in Spanish.\" \n",
        "\n",
        "The aim of this notebook is to obtain the performance results over the test set with gold standards. This performance focuses on exact entity match, instead of BIOES-V match.\n",
        "\n",
        "In previous notebooks, each model was trainedover the train dataset and evaluated over the development datasets 1 and 2. Once the optimal model regarding each machine learning method was achieved, this was trained over both train and development datasets in order to produce a final model for each method. \n",
        "\n",
        "Then, the final models were employed to obtain the predictions over the test and background files. Since we are only interesting on evaluating the performance of the models just over the test files, these must be distinguished from the background files. For this purpose, the names of the files in the test dataset with gold standards are employed. The match between the name in these two datasets allows to select just the test dataset predictions."
      ]
    },
    {
      "cell_type": "code",
      "metadata": {
        "id": "05N_SwgGTL6t",
        "colab_type": "code",
        "colab": {
          "base_uri": "https://localhost:8080/",
          "height": 646
        },
        "outputId": "d44b42fa-1a21-4033-8393-bb93e8b93b98"
      },
      "source": [
        "from google.colab import drive\n",
        "drive.mount(\"/content/drive/\")\n",
        "\n",
        "path='drive/My Drive/Ejemplos NER - TFM/'\n",
        "!ls 'drive/My Drive/Ejemplos NER - TFM/'"
      ],
      "execution_count": null,
      "outputs": [
        {
          "output_type": "stream",
          "text": [
            "Drive already mounted at /content/drive/; to attempt to forcibly remount, call drive.mount(\"/content/drive/\", force_remount=True).\n",
            " bert\n",
            " check_results2.ipynb\n",
            " check_results.ipynb\n",
            " data\n",
            " dev_set\n",
            " dev_set2\n",
            "'Dictionary based NER (spacy).ipynb'\n",
            "'Ehealth_Dictionary based NER (spacy).ipynb'\n",
            " last_step_cantemist.ipynb\n",
            " last_step_cantemist_TEST.ipynb\n",
            " NER_by_BERT_Cantemist_BIOESV.ipynb\n",
            " NER_by_BERT_Cantemist_Competicion.ipynb\n",
            " NER_by_BERT_Cantemist.ipynb\n",
            " NER_by_BI_LSTM_CRF_Cantemist_BIOESV_2.ipynb\n",
            " NER_by_BI_LSTM_CRF_Cantemist_BIOESV.ipynb\n",
            " NER_by_BI_LSTM_CRF_Cantemist_Competicion.ipynb\n",
            " NER_by_BI_LSTM_CRF_Cantemist.ipynb\n",
            " NER_by_CRF_Cantemist_Competicion.ipynb\n",
            " NER_by_CRF_Cantemist.ipynb\n",
            " NER_by_CRF_Ehealth.ipynb\n",
            " NER_by_CRF.ipynb\n",
            " Preprocessing_NER_Cantemist.ipynb\n",
            " resources\n",
            " results_bert\n",
            " results_bert2\n",
            " results_BILSTM_ap1\n",
            " results_BILSTM_ap2\n",
            " results_BILSTM_ap3\n",
            " results_CRF\n",
            " sample_set\n",
            " Scielo+Wiki_skipgram_cased.bin\n",
            " Scielo+Wiki_skipgram_cased.vec\n",
            " test-background-set-to-publish\n",
            " test_set\n",
            " test_set_predictions\n",
            " train_set\n"
          ],
          "name": "stdout"
        }
      ]
    },
    {
      "cell_type": "markdown",
      "metadata": {
        "id": "IQJM92k5yyLV",
        "colab_type": "text"
      },
      "source": [
        "## **Load libraries**"
      ]
    },
    {
      "cell_type": "code",
      "metadata": {
        "id": "vs2wGon2y3AF",
        "colab_type": "code",
        "colab": {
          "base_uri": "https://localhost:8080/",
          "height": 207
        },
        "outputId": "9d57f5e2-b0d6-4f30-9319-cd4f69ebd8dd"
      },
      "source": [
        "import pandas as pd\n",
        "import numpy as np\n",
        "import pickle as pkl\n",
        "!pip install sklearn-crfsuite\n",
        "from sklearn_crfsuite.metrics import flat_f1_score\n",
        "from sklearn_crfsuite.metrics import flat_precision_score\n",
        "from sklearn_crfsuite.metrics import flat_recall_score\n",
        "from sklearn_crfsuite.metrics import flat_classification_report"
      ],
      "execution_count": null,
      "outputs": [
        {
          "output_type": "stream",
          "text": [
            "Collecting sklearn-crfsuite\n",
            "  Downloading https://files.pythonhosted.org/packages/25/74/5b7befa513482e6dee1f3dd68171a6c9dfc14c0eaa00f885ffeba54fe9b0/sklearn_crfsuite-0.3.6-py2.py3-none-any.whl\n",
            "Collecting python-crfsuite>=0.8.3\n",
            "\u001b[?25l  Downloading https://files.pythonhosted.org/packages/95/99/869dde6dbf3e0d07a013c8eebfb0a3d30776334e0097f8432b631a9a3a19/python_crfsuite-0.9.7-cp36-cp36m-manylinux1_x86_64.whl (743kB)\n",
            "\u001b[K     |████████████████████████████████| 747kB 8.1MB/s \n",
            "\u001b[?25hRequirement already satisfied: tabulate in /usr/local/lib/python3.6/dist-packages (from sklearn-crfsuite) (0.8.7)\n",
            "Requirement already satisfied: tqdm>=2.0 in /usr/local/lib/python3.6/dist-packages (from sklearn-crfsuite) (4.41.1)\n",
            "Requirement already satisfied: six in /usr/local/lib/python3.6/dist-packages (from sklearn-crfsuite) (1.15.0)\n",
            "Installing collected packages: python-crfsuite, sklearn-crfsuite\n",
            "Successfully installed python-crfsuite-0.9.7 sklearn-crfsuite-0.3.6\n"
          ],
          "name": "stdout"
        }
      ]
    },
    {
      "cell_type": "markdown",
      "metadata": {
        "colab_type": "text",
        "id": "tagsZfDrd1lM"
      },
      "source": [
        "## **Read the files**\n",
        "\n",
        "We want the predictions obtained juts for those files in the test and background dataset that are also in the test with gold standards dataset."
      ]
    },
    {
      "cell_type": "code",
      "metadata": {
        "id": "NbIA7_TtazJx",
        "colab_type": "code",
        "colab": {}
      },
      "source": [
        "with open(path+'data/files_txt_test_true', 'rb') as file: \n",
        "  files_txt_test_true = pkl.load(file)\n",
        "file.close()\n",
        "\n",
        "with open(path+'data/files_txt_test', 'rb') as file: \n",
        "  files_txt_test = pkl.load(file)\n",
        "file.close()"
      ],
      "execution_count": null,
      "outputs": []
    },
    {
      "cell_type": "code",
      "metadata": {
        "id": "pTYFXD4Tj4Ty",
        "colab_type": "code",
        "colab": {
          "base_uri": "https://localhost:8080/",
          "height": 85
        },
        "outputId": "e6dd6ba8-eb23-48be-c1bb-838fe78a7705"
      },
      "source": [
        "# Test set with gold standards\n",
        "print(files_txt_test_true[0])\n",
        "print(len(files_txt_test_true))\n",
        "\n",
        "# Test and background set\n",
        "print(files_txt_test[0])\n",
        "print(len(files_txt_test))"
      ],
      "execution_count": null,
      "outputs": [
        {
          "output_type": "stream",
          "text": [
            "drive/My Drive/Ejemplos NER - TFM/test_set/cantemist-ner/cc_onco1006.txt\n",
            "300\n",
            "drive/My Drive/Ejemplos NER - TFM/test-background-set-to-publish/S0004-06142005000100009-1.txt\n",
            "5232\n"
          ],
          "name": "stdout"
        }
      ]
    },
    {
      "cell_type": "code",
      "metadata": {
        "id": "A0rs88PonWYe",
        "colab_type": "code",
        "colab": {
          "base_uri": "https://localhost:8080/",
          "height": 71
        },
        "outputId": "caad491b-ba81-458e-d169-ef7d74eebbff"
      },
      "source": [
        "path_test = 'drive/My Drive/Ejemplos NER - TFM/test-background-set-to-publish/'\n",
        "path_test_true = 'drive/My Drive/Ejemplos NER - TFM/test_set/cantemist-ner/'\n",
        "len_path_test = len(path_test)\n",
        "len_path_test_true = len(path_test_true)\n",
        "\n",
        "file_indices = []\n",
        "\n",
        "for i in range(len(files_txt_test)):\n",
        "  name_file_test = files_txt_test[i][len_path_test:]\n",
        "  for j in range(len(files_txt_test_true)):\n",
        "    name_file_test_true = files_txt_test_true[j][len_path_test_true:]\n",
        "    if name_file_test==name_file_test_true:\n",
        "      file_indices.append(i)\n",
        "\n",
        "print(len(file_indices))\n",
        "\n",
        "print(file_indices)\n",
        "# these are the indices of clinical cases that we must keep"
      ],
      "execution_count": null,
      "outputs": [
        {
          "output_type": "stream",
          "text": [
            "300\n",
            "[4736, 4740, 4743, 4747, 4749, 4750, 4751, 4752, 4754, 4756, 4757, 4758, 4760, 4761, 4762, 4763, 4764, 4765, 4768, 4769, 4770, 4773, 4775, 4782, 4784, 4786, 4788, 4790, 4791, 4793, 4794, 4796, 4797, 4799, 4801, 4806, 4809, 4811, 4812, 4813, 4814, 4815, 4817, 4818, 4823, 4824, 4825, 4830, 4831, 4832, 4834, 4836, 4838, 4840, 4842, 4844, 4845, 4847, 4849, 4853, 4855, 4860, 4863, 4864, 4865, 4867, 4868, 4869, 4871, 4875, 4877, 4879, 4881, 4883, 4884, 4885, 4886, 4887, 4888, 4891, 4892, 4895, 4897, 4898, 4899, 4900, 4901, 4904, 4907, 4908, 4909, 4910, 4914, 4915, 4916, 4917, 4918, 4919, 4920, 4922, 4923, 4925, 4929, 4930, 4932, 4933, 4936, 4940, 4943, 4944, 4945, 4949, 4950, 4953, 4958, 4960, 4961, 4963, 4964, 4966, 4972, 4974, 4975, 4976, 4977, 4978, 4981, 4982, 4985, 4987, 4990, 4991, 4994, 4995, 4997, 4998, 5000, 5001, 5003, 5005, 5006, 5008, 5009, 5010, 5011, 5012, 5015, 5016, 5017, 5018, 5019, 5020, 5021, 5023, 5024, 5025, 5026, 5027, 5028, 5029, 5030, 5031, 5032, 5033, 5034, 5035, 5036, 5037, 5038, 5039, 5040, 5041, 5042, 5044, 5045, 5046, 5047, 5049, 5050, 5052, 5053, 5054, 5056, 5060, 5064, 5066, 5067, 5068, 5069, 5070, 5072, 5075, 5077, 5080, 5082, 5083, 5085, 5086, 5087, 5090, 5091, 5093, 5094, 5095, 5096, 5098, 5100, 5101, 5102, 5103, 5105, 5109, 5110, 5113, 5114, 5115, 5117, 5118, 5121, 5126, 5128, 5133, 5134, 5135, 5137, 5139, 5142, 5144, 5145, 5146, 5148, 5149, 5150, 5151, 5154, 5156, 5157, 5158, 5159, 5162, 5163, 5164, 5165, 5167, 5169, 5171, 5174, 5175, 5178, 5179, 5180, 5181, 5182, 5183, 5184, 5185, 5186, 5187, 5188, 5189, 5191, 5192, 5193, 5194, 5195, 5196, 5197, 5198, 5199, 5200, 5201, 5202, 5203, 5204, 5205, 5206, 5207, 5208, 5209, 5210, 5211, 5212, 5213, 5214, 5215, 5216, 5217, 5218, 5219, 5220, 5221, 5223, 5224, 5225, 5226, 5227, 5228, 5229, 5230, 5231]\n"
          ],
          "name": "stdout"
        }
      ]
    },
    {
      "cell_type": "code",
      "metadata": {
        "id": "61oJlBOmoki8",
        "colab_type": "code",
        "colab": {
          "base_uri": "https://localhost:8080/",
          "height": 204
        },
        "outputId": "83353185-3bc0-40c2-d2cd-e1579304808f"
      },
      "source": [
        "print(files_txt_test[file_indices[0]])\n",
        "print(files_txt_test_true[0])\n",
        "print()\n",
        "print(files_txt_test[file_indices[1]])\n",
        "print(files_txt_test_true[1])\n",
        "print()\n",
        "print(files_txt_test[file_indices[2]])\n",
        "print(files_txt_test_true[2])\n",
        "print()\n",
        "print(files_txt_test[file_indices[-1]])\n",
        "print(files_txt_test_true[-1])"
      ],
      "execution_count": null,
      "outputs": [
        {
          "output_type": "stream",
          "text": [
            "drive/My Drive/Ejemplos NER - TFM/test-background-set-to-publish/cc_onco1006.txt\n",
            "drive/My Drive/Ejemplos NER - TFM/test_set/cantemist-ner/cc_onco1006.txt\n",
            "\n",
            "drive/My Drive/Ejemplos NER - TFM/test-background-set-to-publish/cc_onco1023.txt\n",
            "drive/My Drive/Ejemplos NER - TFM/test_set/cantemist-ner/cc_onco1023.txt\n",
            "\n",
            "drive/My Drive/Ejemplos NER - TFM/test-background-set-to-publish/cc_onco1027.txt\n",
            "drive/My Drive/Ejemplos NER - TFM/test_set/cantemist-ner/cc_onco1027.txt\n",
            "\n",
            "drive/My Drive/Ejemplos NER - TFM/test-background-set-to-publish/cc_onco978.txt\n",
            "drive/My Drive/Ejemplos NER - TFM/test_set/cantemist-ner/cc_onco978.txt\n"
          ],
          "name": "stdout"
        }
      ]
    },
    {
      "cell_type": "markdown",
      "metadata": {
        "id": "j06nw83jfpGW",
        "colab_type": "text"
      },
      "source": [
        "#### **Read gold standard annotation files**"
      ]
    },
    {
      "cell_type": "code",
      "metadata": {
        "id": "HPM32HamfoRx",
        "colab_type": "code",
        "colab": {}
      },
      "source": [
        "def read_ann(files_ann):\n",
        "  ann = []\n",
        "  # Reading .ann files\n",
        "  for file in files_ann:     \n",
        "    f=open(file, mode = 'r')\n",
        "    lines = f.readlines()\n",
        "    ann_aux = []\n",
        "\n",
        "    for line in lines:\n",
        "      # We are only interested in keeping the entities: ID starts by T.\n",
        "      # Remove relations: starting by R     \n",
        "      if str(line[0])== 'T':\n",
        "        data_ann = line.split(\"\\t\")\n",
        "        ann_aux.append(data_ann)  \n",
        "\n",
        "    ann.append(ann_aux)   \n",
        "    f.close()\n",
        "  return ann"
      ],
      "execution_count": null,
      "outputs": []
    },
    {
      "cell_type": "code",
      "metadata": {
        "id": "Cl-sQeZdfoV1",
        "colab_type": "code",
        "colab": {}
      },
      "source": [
        "# READING THE .ann FILES\n",
        "\n",
        "path_Cantemist_test_true = path+\"test_set/cantemist-ner/\"\n",
        "\n",
        "import glob   \n",
        "\n",
        "path_ann_test_true = path_Cantemist_test_true +'*.ann'  \n",
        "\n",
        "files_ann_test_true= glob.glob(path_ann_test_true)   \n",
        "\n",
        "# Sort the files\n",
        "files_ann_test_true = sorted(files_ann_test_true)\n",
        "\n",
        "ann_test_true = read_ann(files_ann_test_true)"
      ],
      "execution_count": null,
      "outputs": []
    },
    {
      "cell_type": "code",
      "metadata": {
        "id": "XNmsQJyoiFkI",
        "colab_type": "code",
        "colab": {
          "base_uri": "https://localhost:8080/",
          "height": 306
        },
        "outputId": "80aa8f72-3f21-4801-b3ae-0ba0e93463a2"
      },
      "source": [
        "ann_test_true[1]"
      ],
      "execution_count": null,
      "outputs": [
        {
          "output_type": "execute_result",
          "data": {
            "text/plain": [
              "[['T1', 'MORFOLOGIA_NEOPLASIA 303 305', 'M1\\n'],\n",
              " ['T2', 'MORFOLOGIA_NEOPLASIA 336 338', 'M1\\n'],\n",
              " ['T3', 'MORFOLOGIA_NEOPLASIA 742 744', 'M1\\n'],\n",
              " ['T4', 'MORFOLOGIA_NEOPLASIA 1144 1146', 'M1\\n'],\n",
              " ['T5', 'MORFOLOGIA_NEOPLASIA 1264 1266', 'M1\\n'],\n",
              " ['T6', 'MORFOLOGIA_NEOPLASIA 1811 1813', 'M1\\n'],\n",
              " ['T7', 'MORFOLOGIA_NEOPLASIA 2955 2974', 'lesiones pulmonares\\n'],\n",
              " ['T8', 'MORFOLOGIA_NEOPLASIA 1644 1657', 'masa pulmonar\\n'],\n",
              " ['T9', 'MORFOLOGIA_NEOPLASIA 2218 2234', 'masa suprarrenal\\n'],\n",
              " ['T10', 'MORFOLOGIA_NEOPLASIA 3561 3571', 'metástasis\\n'],\n",
              " ['T11', 'MORFOLOGIA_NEOPLASIA 970 985', 'nódulo pulmonar\\n'],\n",
              " ['T12', 'MORFOLOGIA_NEOPLASIA 2196 2211', 'nódulo pulmonar\\n'],\n",
              " ['T13', 'MORFOLOGIA_NEOPLASIA 685 703', 'nódulos pulmonares\\n'],\n",
              " ['T14', 'MORFOLOGIA_NEOPLASIA 1096 1114', 'nódulos pulmonares\\n'],\n",
              " ['T15', 'MORFOLOGIA_NEOPLASIA 16 46', 'carcinoma renal células claras\\n'],\n",
              " ['T16', 'MORFOLOGIA_NEOPLASIA 47 54', 'pTxNxM0\\n'],\n",
              " ['T17', 'MORFOLOGIA_NEOPLASIA 146 176', 'carcinoma renal células claras\\n']]"
            ]
          },
          "metadata": {
            "tags": []
          },
          "execution_count": 9
        }
      ]
    },
    {
      "cell_type": "code",
      "metadata": {
        "id": "K6nw4DtSfoUE",
        "colab_type": "code",
        "colab": {
          "base_uri": "https://localhost:8080/",
          "height": 34
        },
        "outputId": "84cb64fd-9937-479e-80c4-de829f46064e"
      },
      "source": [
        "print(\"Number of clinical cases in the gold standard dataset: %d\" %len(ann_test_true))\n",
        "\n",
        "df_ann_test_true = pd.DataFrame(columns = [\"clinical_case\", \"Entity_ID\", \"code\", \"Entity\"])\n",
        "\n",
        "for cc in range(len(ann_test_true)): #300 clinical cases\n",
        "  ann_test_true2 = [np.hstack((cc+1,ann_test_true[cc][j])) for j in range(len(ann_test_true[cc]))]\n",
        "  df = pd.DataFrame(ann_test_true2, columns = [\"clinical_case\", \"Entity_ID\", \"code\", \"Entity\"])\n",
        "\n",
        "  df_ann_test_true = df_ann_test_true.append(df)"
      ],
      "execution_count": null,
      "outputs": [
        {
          "output_type": "stream",
          "text": [
            "Number of clinical cases in the gold standard dataset: 300\n"
          ],
          "name": "stdout"
        }
      ]
    },
    {
      "cell_type": "code",
      "metadata": {
        "id": "TckVWBLpfoPQ",
        "colab_type": "code",
        "colab": {
          "base_uri": "https://localhost:8080/",
          "height": 576
        },
        "outputId": "9c4c48f3-c3d8-44d4-f348-6af2f5878188"
      },
      "source": [
        "df_ann_test_true[df_ann_test_true['clinical_case']=='2']"
      ],
      "execution_count": null,
      "outputs": [
        {
          "output_type": "execute_result",
          "data": {
            "text/html": [
              "<div>\n",
              "<style scoped>\n",
              "    .dataframe tbody tr th:only-of-type {\n",
              "        vertical-align: middle;\n",
              "    }\n",
              "\n",
              "    .dataframe tbody tr th {\n",
              "        vertical-align: top;\n",
              "    }\n",
              "\n",
              "    .dataframe thead th {\n",
              "        text-align: right;\n",
              "    }\n",
              "</style>\n",
              "<table border=\"1\" class=\"dataframe\">\n",
              "  <thead>\n",
              "    <tr style=\"text-align: right;\">\n",
              "      <th></th>\n",
              "      <th>clinical_case</th>\n",
              "      <th>Entity_ID</th>\n",
              "      <th>code</th>\n",
              "      <th>Entity</th>\n",
              "    </tr>\n",
              "  </thead>\n",
              "  <tbody>\n",
              "    <tr>\n",
              "      <th>0</th>\n",
              "      <td>2</td>\n",
              "      <td>T1</td>\n",
              "      <td>MORFOLOGIA_NEOPLASIA 303 305</td>\n",
              "      <td>M1\\n</td>\n",
              "    </tr>\n",
              "    <tr>\n",
              "      <th>1</th>\n",
              "      <td>2</td>\n",
              "      <td>T2</td>\n",
              "      <td>MORFOLOGIA_NEOPLASIA 336 338</td>\n",
              "      <td>M1\\n</td>\n",
              "    </tr>\n",
              "    <tr>\n",
              "      <th>2</th>\n",
              "      <td>2</td>\n",
              "      <td>T3</td>\n",
              "      <td>MORFOLOGIA_NEOPLASIA 742 744</td>\n",
              "      <td>M1\\n</td>\n",
              "    </tr>\n",
              "    <tr>\n",
              "      <th>3</th>\n",
              "      <td>2</td>\n",
              "      <td>T4</td>\n",
              "      <td>MORFOLOGIA_NEOPLASIA 1144 1146</td>\n",
              "      <td>M1\\n</td>\n",
              "    </tr>\n",
              "    <tr>\n",
              "      <th>4</th>\n",
              "      <td>2</td>\n",
              "      <td>T5</td>\n",
              "      <td>MORFOLOGIA_NEOPLASIA 1264 1266</td>\n",
              "      <td>M1\\n</td>\n",
              "    </tr>\n",
              "    <tr>\n",
              "      <th>5</th>\n",
              "      <td>2</td>\n",
              "      <td>T6</td>\n",
              "      <td>MORFOLOGIA_NEOPLASIA 1811 1813</td>\n",
              "      <td>M1\\n</td>\n",
              "    </tr>\n",
              "    <tr>\n",
              "      <th>6</th>\n",
              "      <td>2</td>\n",
              "      <td>T7</td>\n",
              "      <td>MORFOLOGIA_NEOPLASIA 2955 2974</td>\n",
              "      <td>lesiones pulmonares\\n</td>\n",
              "    </tr>\n",
              "    <tr>\n",
              "      <th>7</th>\n",
              "      <td>2</td>\n",
              "      <td>T8</td>\n",
              "      <td>MORFOLOGIA_NEOPLASIA 1644 1657</td>\n",
              "      <td>masa pulmonar\\n</td>\n",
              "    </tr>\n",
              "    <tr>\n",
              "      <th>8</th>\n",
              "      <td>2</td>\n",
              "      <td>T9</td>\n",
              "      <td>MORFOLOGIA_NEOPLASIA 2218 2234</td>\n",
              "      <td>masa suprarrenal\\n</td>\n",
              "    </tr>\n",
              "    <tr>\n",
              "      <th>9</th>\n",
              "      <td>2</td>\n",
              "      <td>T10</td>\n",
              "      <td>MORFOLOGIA_NEOPLASIA 3561 3571</td>\n",
              "      <td>metástasis\\n</td>\n",
              "    </tr>\n",
              "    <tr>\n",
              "      <th>10</th>\n",
              "      <td>2</td>\n",
              "      <td>T11</td>\n",
              "      <td>MORFOLOGIA_NEOPLASIA 970 985</td>\n",
              "      <td>nódulo pulmonar\\n</td>\n",
              "    </tr>\n",
              "    <tr>\n",
              "      <th>11</th>\n",
              "      <td>2</td>\n",
              "      <td>T12</td>\n",
              "      <td>MORFOLOGIA_NEOPLASIA 2196 2211</td>\n",
              "      <td>nódulo pulmonar\\n</td>\n",
              "    </tr>\n",
              "    <tr>\n",
              "      <th>12</th>\n",
              "      <td>2</td>\n",
              "      <td>T13</td>\n",
              "      <td>MORFOLOGIA_NEOPLASIA 685 703</td>\n",
              "      <td>nódulos pulmonares\\n</td>\n",
              "    </tr>\n",
              "    <tr>\n",
              "      <th>13</th>\n",
              "      <td>2</td>\n",
              "      <td>T14</td>\n",
              "      <td>MORFOLOGIA_NEOPLASIA 1096 1114</td>\n",
              "      <td>nódulos pulmonares\\n</td>\n",
              "    </tr>\n",
              "    <tr>\n",
              "      <th>14</th>\n",
              "      <td>2</td>\n",
              "      <td>T15</td>\n",
              "      <td>MORFOLOGIA_NEOPLASIA 16 46</td>\n",
              "      <td>carcinoma renal células claras\\n</td>\n",
              "    </tr>\n",
              "    <tr>\n",
              "      <th>15</th>\n",
              "      <td>2</td>\n",
              "      <td>T16</td>\n",
              "      <td>MORFOLOGIA_NEOPLASIA 47 54</td>\n",
              "      <td>pTxNxM0\\n</td>\n",
              "    </tr>\n",
              "    <tr>\n",
              "      <th>16</th>\n",
              "      <td>2</td>\n",
              "      <td>T17</td>\n",
              "      <td>MORFOLOGIA_NEOPLASIA 146 176</td>\n",
              "      <td>carcinoma renal células claras\\n</td>\n",
              "    </tr>\n",
              "  </tbody>\n",
              "</table>\n",
              "</div>"
            ],
            "text/plain": [
              "   clinical_case  ...                            Entity\n",
              "0              2  ...                              M1\\n\n",
              "1              2  ...                              M1\\n\n",
              "2              2  ...                              M1\\n\n",
              "3              2  ...                              M1\\n\n",
              "4              2  ...                              M1\\n\n",
              "5              2  ...                              M1\\n\n",
              "6              2  ...             lesiones pulmonares\\n\n",
              "7              2  ...                   masa pulmonar\\n\n",
              "8              2  ...                masa suprarrenal\\n\n",
              "9              2  ...                      metástasis\\n\n",
              "10             2  ...                 nódulo pulmonar\\n\n",
              "11             2  ...                 nódulo pulmonar\\n\n",
              "12             2  ...              nódulos pulmonares\\n\n",
              "13             2  ...              nódulos pulmonares\\n\n",
              "14             2  ...  carcinoma renal células claras\\n\n",
              "15             2  ...                         pTxNxM0\\n\n",
              "16             2  ...  carcinoma renal células claras\\n\n",
              "\n",
              "[17 rows x 4 columns]"
            ]
          },
          "metadata": {
            "tags": []
          },
          "execution_count": 11
        }
      ]
    },
    {
      "cell_type": "code",
      "metadata": {
        "id": "rYFkjshEmGrv",
        "colab_type": "code",
        "colab": {}
      },
      "source": [
        "df_ann_test_true = df_ann_test_true.drop_duplicates(['clinical_case', 'code'], keep='first')"
      ],
      "execution_count": null,
      "outputs": []
    },
    {
      "cell_type": "markdown",
      "metadata": {
        "id": "tsRpuJ5GrYWz",
        "colab_type": "text"
      },
      "source": [
        "### **True labels**"
      ]
    },
    {
      "cell_type": "code",
      "metadata": {
        "id": "ncJaZhV-seUF",
        "colab_type": "code",
        "colab": {}
      },
      "source": [
        "labels = ['B-MOR', 'I-MOR', 'E-MOR', 'S-MOR', 'V-MOR']"
      ],
      "execution_count": null,
      "outputs": []
    },
    {
      "cell_type": "markdown",
      "metadata": {
        "id": "LllYQAxR4-oA",
        "colab_type": "text"
      },
      "source": [
        "### **Functions**"
      ]
    },
    {
      "cell_type": "code",
      "metadata": {
        "id": "DHbwswGZwLK0",
        "colab_type": "code",
        "colab": {}
      },
      "source": [
        "def calculate_metrics(df_gs, df_pred):\n",
        "    Pred_Pos_per_cc = df_pred.drop_duplicates(subset=['clinical_case', \n",
        "                                                  \"code\"]).groupby(\"clinical_case\")[\"code\"].count()\n",
        "    Pred_Pos = df_pred.drop_duplicates(subset=['clinical_case', \"code\"]).shape[0]\n",
        "    \n",
        "    # Gold Standard Positives:\n",
        "    GS_Pos_per_cc = df_gs.drop_duplicates(subset=['clinical_case', \n",
        "                                               \"code\"]).groupby(\"clinical_case\")[\"code\"].count()\n",
        "    GS_Pos = df_gs.drop_duplicates(subset=['clinical_case', \"code\"]).shape[0]\n",
        "    cc = set(df_gs.clinical_case.tolist())\n",
        "    TP_per_cc = pd.Series(dtype=float)\n",
        "    for c in cc:\n",
        "        pred = set(df_pred.loc[df_pred['clinical_case']==c,'code'].values)\n",
        "        gs = set(df_gs.loc[df_gs['clinical_case']==c,'code'].values)\n",
        "        TP_per_cc[c] = len(pred.intersection(gs))\n",
        "        \n",
        "    TP = sum(TP_per_cc.values)\n",
        "        \n",
        "    \n",
        "    # Calculate Final Metrics:\n",
        "    P_per_cc =  TP_per_cc / Pred_Pos_per_cc\n",
        "    P = TP / Pred_Pos\n",
        "    R_per_cc = TP_per_cc / GS_Pos_per_cc\n",
        "    R = TP / GS_Pos\n",
        "    F1_per_cc = (2 * P_per_cc * R_per_cc) / (P_per_cc + R_per_cc)\n",
        "    if (P+R) == 0:\n",
        "        F1 = 0\n",
        "        warnings.warn('Global F1 score automatically set to zero to avoid division by zero')\n",
        "        return P_per_cc, P, R_per_cc, R, F1_per_cc, F1\n",
        "    F1 = (2 * P * R) / (P + R)\n",
        "    \n",
        "    return round(P_per_cc,3), round(P,3), round(R_per_cc,3), round(R,3), round(F1_per_cc,3), round(F1,3)"
      ],
      "execution_count": null,
      "outputs": []
    },
    {
      "cell_type": "code",
      "metadata": {
        "id": "w5nd1OOfabxX",
        "colab_type": "code",
        "colab": {}
      },
      "source": [
        "def calculate_errors(df_gs, df_pred):\n",
        "  cc = set(df_gs.clinical_case.tolist())\n",
        "  mismatch_FN_per_cc = []\n",
        "  mismatch_FP_per_cc = []\n",
        "  for c in cc:\n",
        "    pred = set(df_pred.loc[df_pred['clinical_case']==c,'code'].values)\n",
        "    gs = set(df_gs.loc[df_gs['clinical_case']==c,'code'].values)\n",
        "\n",
        "    FN_c = gs.difference(pred)\n",
        "    FP_c = pred.difference(gs)\n",
        "  \n",
        "    mismatch_FN_per_cc.extend([np.hstack([c,FN_c_i]) for FN_c_i in FN_c])\n",
        "    mismatch_FP_per_cc.extend([np.hstack([c,FP_c_i]) for FP_c_i in FP_c])\n",
        "\n",
        "  # 1. df_mismatch_FN: those entities that are in the gold standard but are not in the predictions\n",
        "  df_mismatch_FN = pd.DataFrame(mismatch_FN_per_cc, columns=['clinical_case', 'code_GS'])\n",
        "\n",
        "  # --------------------------------------------------------------------\n",
        "\n",
        "  # 2. df_mismatch_FN: those entities that are in the predictions but are not in the gold standards\n",
        "  df_mismatch_FP = pd.DataFrame(mismatch_FP_per_cc, columns=['clinical_case', 'code_PRED'])\n",
        "\n",
        "  return df_mismatch_FN, df_mismatch_FP"
      ],
      "execution_count": null,
      "outputs": []
    },
    {
      "cell_type": "markdown",
      "metadata": {
        "id": "lAnRpKc7mJya",
        "colab_type": "text"
      },
      "source": [
        "### **CRF predictions**"
      ]
    },
    {
      "cell_type": "markdown",
      "metadata": {
        "id": "GuW5GBWwyUfL",
        "colab_type": "text"
      },
      "source": [
        "**Read the prediction .ann files**\n",
        "\n",
        "We want to read them in the same order as the gold standard dataset."
      ]
    },
    {
      "cell_type": "code",
      "metadata": {
        "id": "lub6y6BGkrSS",
        "colab_type": "code",
        "colab": {}
      },
      "source": [
        "path_crf = 'drive/My Drive/Ejemplos NER - TFM/results_CRF/ann/'\n",
        "path_test_true = 'drive/My Drive/Ejemplos NER - TFM/test_set/cantemist-ner/'\n",
        "len_path_crf = len(path_crf)\n",
        "len_path_test_true = len(path_test_true)\n",
        "\n",
        "files_ann_crf = []\n",
        "\n",
        "for i in range(len(files_ann_test_true)):\n",
        "  name_ann = files_ann_test_true[i][len_path_test_true:] # these are the names of the ann files ex. 'cc_onco1006.ann'\n",
        "  new_name_ann = path_crf + name_ann\n",
        "\n",
        "  files_ann_crf.append(new_name_ann)\n"
      ],
      "execution_count": null,
      "outputs": []
    },
    {
      "cell_type": "code",
      "metadata": {
        "id": "Km9GL1m5ka0M",
        "colab_type": "code",
        "colab": {
          "base_uri": "https://localhost:8080/",
          "height": 119
        },
        "outputId": "01135434-16e1-4431-a1fb-7533e32baad2"
      },
      "source": [
        "print(files_ann_test_true[0])\n",
        "print(files_ann_crf[0])\n",
        "print(files_ann_test_true[-1])\n",
        "print(files_ann_crf[-1])\n",
        "\n",
        "print(len(files_ann_test_true))\n",
        "print(len(files_ann_crf))"
      ],
      "execution_count": null,
      "outputs": [
        {
          "output_type": "stream",
          "text": [
            "drive/My Drive/Ejemplos NER - TFM/test_set/cantemist-ner/cc_onco1006.ann\n",
            "drive/My Drive/Ejemplos NER - TFM/results_CRF/ann/cc_onco1006.ann\n",
            "drive/My Drive/Ejemplos NER - TFM/test_set/cantemist-ner/cc_onco978.ann\n",
            "drive/My Drive/Ejemplos NER - TFM/results_CRF/ann/cc_onco978.ann\n",
            "300\n",
            "300\n"
          ],
          "name": "stdout"
        }
      ]
    },
    {
      "cell_type": "code",
      "metadata": {
        "id": "nltFNDCJjiIb",
        "colab_type": "code",
        "colab": {}
      },
      "source": [
        "ann_crf = read_ann(files_ann_crf)"
      ],
      "execution_count": null,
      "outputs": []
    },
    {
      "cell_type": "code",
      "metadata": {
        "id": "MIOOBV8anIQq",
        "colab_type": "code",
        "colab": {
          "base_uri": "https://localhost:8080/",
          "height": 34
        },
        "outputId": "dceceb2a-1f4e-42c3-d125-8869ab3210c2"
      },
      "source": [
        "print(\"Number of clinical cases in the gold standard dataset: %d\" %len(ann_crf))\n",
        "\n",
        "df_ann_crf = pd.DataFrame(columns = [\"clinical_case\", \"Entity_ID\", \"code\", \"Entity\"])\n",
        "\n",
        "for cc in range(len(ann_crf)): #300 clinical cases\n",
        "  ann_crf2 = [np.hstack((cc+1,ann_crf[cc][j])) for j in range(len(ann_crf[cc]))]\n",
        "  df = pd.DataFrame(ann_crf2, columns = [\"clinical_case\", \"Entity_ID\", \"code\", \"Entity\"])\n",
        "\n",
        "  df_ann_crf = df_ann_crf.append(df)"
      ],
      "execution_count": null,
      "outputs": [
        {
          "output_type": "stream",
          "text": [
            "Number of clinical cases in the gold standard dataset: 300\n"
          ],
          "name": "stdout"
        }
      ]
    },
    {
      "cell_type": "code",
      "metadata": {
        "id": "pqidio8hnQR1",
        "colab_type": "code",
        "colab": {
          "base_uri": "https://localhost:8080/",
          "height": 419
        },
        "outputId": "d2266d0e-42f9-4eed-ed38-3e08f17ba612"
      },
      "source": [
        "df_ann_crf"
      ],
      "execution_count": null,
      "outputs": [
        {
          "output_type": "execute_result",
          "data": {
            "text/html": [
              "<div>\n",
              "<style scoped>\n",
              "    .dataframe tbody tr th:only-of-type {\n",
              "        vertical-align: middle;\n",
              "    }\n",
              "\n",
              "    .dataframe tbody tr th {\n",
              "        vertical-align: top;\n",
              "    }\n",
              "\n",
              "    .dataframe thead th {\n",
              "        text-align: right;\n",
              "    }\n",
              "</style>\n",
              "<table border=\"1\" class=\"dataframe\">\n",
              "  <thead>\n",
              "    <tr style=\"text-align: right;\">\n",
              "      <th></th>\n",
              "      <th>clinical_case</th>\n",
              "      <th>Entity_ID</th>\n",
              "      <th>code</th>\n",
              "      <th>Entity</th>\n",
              "    </tr>\n",
              "  </thead>\n",
              "  <tbody>\n",
              "    <tr>\n",
              "      <th>0</th>\n",
              "      <td>1</td>\n",
              "      <td>T1</td>\n",
              "      <td>MORFOLOGIA_NEOPLASIA 794 806</td>\n",
              "      <td>neoformación\\n</td>\n",
              "    </tr>\n",
              "    <tr>\n",
              "      <th>1</th>\n",
              "      <td>1</td>\n",
              "      <td>T2</td>\n",
              "      <td>MORFOLOGIA_NEOPLASIA 882 894</td>\n",
              "      <td>metastásicas\\n</td>\n",
              "    </tr>\n",
              "    <tr>\n",
              "      <th>2</th>\n",
              "      <td>1</td>\n",
              "      <td>T3</td>\n",
              "      <td>MORFOLOGIA_NEOPLASIA 1115 1147</td>\n",
              "      <td>adenocarcinoma bien diferenciado\\n</td>\n",
              "    </tr>\n",
              "    <tr>\n",
              "      <th>3</th>\n",
              "      <td>1</td>\n",
              "      <td>T4</td>\n",
              "      <td>MORFOLOGIA_NEOPLASIA 1590 1602</td>\n",
              "      <td>neoformación\\n</td>\n",
              "    </tr>\n",
              "    <tr>\n",
              "      <th>4</th>\n",
              "      <td>1</td>\n",
              "      <td>T5</td>\n",
              "      <td>MORFOLOGIA_NEOPLASIA 1678 1690</td>\n",
              "      <td>metastásicas\\n</td>\n",
              "    </tr>\n",
              "    <tr>\n",
              "      <th>...</th>\n",
              "      <td>...</td>\n",
              "      <td>...</td>\n",
              "      <td>...</td>\n",
              "      <td>...</td>\n",
              "    </tr>\n",
              "    <tr>\n",
              "      <th>8</th>\n",
              "      <td>300</td>\n",
              "      <td>T9</td>\n",
              "      <td>MORFOLOGIA_NEOPLASIA 1884 1910</td>\n",
              "      <td>cáncer de mama metastásico\\n</td>\n",
              "    </tr>\n",
              "    <tr>\n",
              "      <th>9</th>\n",
              "      <td>300</td>\n",
              "      <td>T10</td>\n",
              "      <td>MORFOLOGIA_NEOPLASIA 1912 1915</td>\n",
              "      <td>CMm\\n</td>\n",
              "    </tr>\n",
              "    <tr>\n",
              "      <th>10</th>\n",
              "      <td>300</td>\n",
              "      <td>T11</td>\n",
              "      <td>MORFOLOGIA_NEOPLASIA 3350 3397</td>\n",
              "      <td>Carcinoma de mama ductal infiltrante estadio IV\\n</td>\n",
              "    </tr>\n",
              "    <tr>\n",
              "      <th>11</th>\n",
              "      <td>300</td>\n",
              "      <td>T12</td>\n",
              "      <td>MORFOLOGIA_NEOPLASIA 4171 4178</td>\n",
              "      <td>grado I\\n</td>\n",
              "    </tr>\n",
              "    <tr>\n",
              "      <th>12</th>\n",
              "      <td>300</td>\n",
              "      <td>T13</td>\n",
              "      <td>MORFOLOGIA_NEOPLASIA 6198 6209</td>\n",
              "      <td>metastásica\\n</td>\n",
              "    </tr>\n",
              "  </tbody>\n",
              "</table>\n",
              "<p>3487 rows × 4 columns</p>\n",
              "</div>"
            ],
            "text/plain": [
              "   clinical_case  ...                                             Entity\n",
              "0              1  ...                                     neoformación\\n\n",
              "1              1  ...                                     metastásicas\\n\n",
              "2              1  ...                 adenocarcinoma bien diferenciado\\n\n",
              "3              1  ...                                     neoformación\\n\n",
              "4              1  ...                                     metastásicas\\n\n",
              "..           ...  ...                                                ...\n",
              "8            300  ...                       cáncer de mama metastásico\\n\n",
              "9            300  ...                                              CMm\\n\n",
              "10           300  ...  Carcinoma de mama ductal infiltrante estadio IV\\n\n",
              "11           300  ...                                          grado I\\n\n",
              "12           300  ...                                      metastásica\\n\n",
              "\n",
              "[3487 rows x 4 columns]"
            ]
          },
          "metadata": {
            "tags": []
          },
          "execution_count": 20
        }
      ]
    },
    {
      "cell_type": "code",
      "metadata": {
        "id": "MfRc-pkindaP",
        "colab_type": "code",
        "colab": {}
      },
      "source": [
        "P_per_cc, P, R_per_cc, R, F1_per_cc, F1 = calculate_metrics(df_ann_test_true, df_ann_crf)"
      ],
      "execution_count": null,
      "outputs": []
    },
    {
      "cell_type": "code",
      "metadata": {
        "id": "HspBg_Nanebu",
        "colab_type": "code",
        "colab": {
          "base_uri": "https://localhost:8080/",
          "height": 68
        },
        "outputId": "c5dfc4e5-26f9-4622-b3fe-095625043269"
      },
      "source": [
        "print(\"Precision: %f\" %P)\n",
        "print(\"Recall: %f\" %R)\n",
        "print(\"F1 score: %f\" %F1)"
      ],
      "execution_count": null,
      "outputs": [
        {
          "output_type": "stream",
          "text": [
            "Precision: 0.800000\n",
            "Recall: 0.768000\n",
            "F1 score: 0.783000\n"
          ],
          "name": "stdout"
        }
      ]
    },
    {
      "cell_type": "code",
      "metadata": {
        "id": "nW0QrG6Ylz-h",
        "colab_type": "code",
        "colab": {
          "base_uri": "https://localhost:8080/",
          "height": 323
        },
        "outputId": "4ea4d788-ede4-45cf-ff02-083bad288370"
      },
      "source": [
        "df_mismatch_FN, df_mismatch_FP = calculate_errors(df_ann_test_true, df_ann_crf)\n",
        "# df_mismatch_FN2 # these are the entities not found\n",
        "# df_mismatch_FP2 # these are entities found in the predictions that are not in the gold standard\n",
        "# it will usually be due to an entity found with a different number of words than the gold standard\n",
        "\n",
        "# merge\n",
        "df_mismatch_FN_data = df_mismatch_FN.merge(df_ann_test_true[['clinical_case','Entity_ID','code', 'Entity']], \n",
        "                                             how = 'left', left_on=['clinical_case','code_GS'], right_on=['clinical_case','code'])\n",
        "\n",
        "df_mismatch_FP_data = df_mismatch_FP.merge(df_ann_crf[['clinical_case','Entity_ID','code', 'Entity']], \n",
        "                                             how = 'left', left_on=['clinical_case','code_PRED'], right_on=['clinical_case','code'])\n",
        "\n",
        "df_mismatch_FN_data = df_mismatch_FN_data.drop(['code'],axis = 1)\n",
        "df_mismatch_FP_data = df_mismatch_FP_data.drop(['code'],axis = 1)\n",
        "\n",
        "df_mismatch_FN_data['start'] = df_mismatch_FN_data[\"code_GS\"].str.split(\" \", expand = True)[1] \n",
        "df_mismatch_FP_data['start'] = df_mismatch_FP_data[\"code_PRED\"].str.split(\" \", expand = True)[1] \n",
        "\n",
        "df_mismatch = df_mismatch_FN_data.merge(df_mismatch_FP_data[['clinical_case','code_PRED', 'Entity','start']], \n",
        "                                             how = 'outer', left_on=['clinical_case','start'], right_on=['clinical_case','start'])\n",
        "\n",
        "print(df_mismatch.isnull().sum())\n",
        "\n",
        "print(\"\\nTotal number of entities in the gold standard files: %d\" %len(df_ann_test_true))\n",
        "print(\"Total number of entities in the prediction files: %d\" %len(df_ann_crf))\n",
        "print(\"Total number of mismatches %d\" %len(df_mismatch))\n",
        "\n",
        "print(\"Total number of unrecognized entities %d\" %df_mismatch.isnull().sum()['code_PRED'])\n",
        "print(\"Total number of false positives entities %d\" %df_mismatch.isnull().sum()['code_GS'])\n",
        "\n",
        "matches = df_ann_test_true.merge(df_ann_crf[['clinical_case','Entity_ID','code', 'Entity']], \n",
        "                                             how = 'inner', left_on=['clinical_case','code'], right_on=['clinical_case','code'])\n",
        "print(\"\\nTotal number of matches %d\" %len(matches))\n",
        "\n",
        "print(\"Total number of FN %d\" %len(df_mismatch_FN))\n",
        "print(\"Total number of FP %d\" %len(df_mismatch_FP))\n"
      ],
      "execution_count": null,
      "outputs": [
        {
          "output_type": "stream",
          "text": [
            "clinical_case      0\n",
            "code_GS          345\n",
            "Entity_ID        345\n",
            "Entity_x         345\n",
            "start              0\n",
            "code_PRED        481\n",
            "Entity_y         481\n",
            "dtype: int64\n",
            "\n",
            "Total number of entities in the gold standard files: 3633\n",
            "Total number of entities in the prediction files: 3487\n",
            "Total number of mismatches 1189\n",
            "Total number of unrecognized entities 481\n",
            "Total number of false positives entities 345\n",
            "\n",
            "Total number of matches 2789\n",
            "Total number of FN 844\n",
            "Total number of FP 698\n"
          ],
          "name": "stdout"
        }
      ]
    },
    {
      "cell_type": "code",
      "metadata": {
        "id": "Nyh5LWBJHPYR",
        "colab_type": "code",
        "colab": {}
      },
      "source": [
        "#df_mismatch.to_excel(path+'mismatch_crf.xlsx', index = False)"
      ],
      "execution_count": null,
      "outputs": []
    },
    {
      "cell_type": "markdown",
      "metadata": {
        "colab_type": "text",
        "id": "K509E6dZyaI8"
      },
      "source": [
        "### **BILSTM-CRF approach 1 predictions**"
      ]
    },
    {
      "cell_type": "markdown",
      "metadata": {
        "colab_type": "text",
        "id": "E2fyz8Y7yaI8"
      },
      "source": [
        "**Read the prediction .ann files**\n",
        "\n",
        "We want to read them in the same order as the gold standard dataset."
      ]
    },
    {
      "cell_type": "code",
      "metadata": {
        "colab_type": "code",
        "id": "tWCbY_I4yaI9",
        "colab": {}
      },
      "source": [
        "path_bilstm1 = 'drive/My Drive/Ejemplos NER - TFM/results_BILSTM_ap1/ann/'\n",
        "path_test_true = 'drive/My Drive/Ejemplos NER - TFM/test_set/cantemist-ner/'\n",
        "len_path_bilstm1 = len(path_bilstm1)\n",
        "len_path_test_true = len(path_test_true)\n",
        "\n",
        "files_ann_bilstm1 = []\n",
        "\n",
        "for i in range(len(files_ann_test_true)):\n",
        "  name_ann = files_ann_test_true[i][len_path_test_true:] # these are the names of theann files ex. 'cc_onco1006.ann'\n",
        "  new_name_ann = path_bilstm1 + name_ann\n",
        "\n",
        "  files_ann_bilstm1.append(new_name_ann)\n"
      ],
      "execution_count": null,
      "outputs": []
    },
    {
      "cell_type": "code",
      "metadata": {
        "colab_type": "code",
        "id": "lgv4PRnDyaI_",
        "colab": {
          "base_uri": "https://localhost:8080/",
          "height": 119
        },
        "outputId": "a0b06ff9-6c54-4710-b5c0-102d1e624497"
      },
      "source": [
        "print(files_ann_test_true[0])\n",
        "print(files_ann_bilstm1[0])\n",
        "print(files_ann_test_true[-1])\n",
        "print(files_ann_bilstm1[-1])\n",
        "\n",
        "print(len(files_ann_test_true))\n",
        "print(len(files_ann_bilstm1))"
      ],
      "execution_count": null,
      "outputs": [
        {
          "output_type": "stream",
          "text": [
            "drive/My Drive/Ejemplos NER - TFM/test_set/cantemist-ner/cc_onco1006.ann\n",
            "drive/My Drive/Ejemplos NER - TFM/results_BILSTM_ap1/ann/cc_onco1006.ann\n",
            "drive/My Drive/Ejemplos NER - TFM/test_set/cantemist-ner/cc_onco978.ann\n",
            "drive/My Drive/Ejemplos NER - TFM/results_BILSTM_ap1/ann/cc_onco978.ann\n",
            "300\n",
            "300\n"
          ],
          "name": "stdout"
        }
      ]
    },
    {
      "cell_type": "code",
      "metadata": {
        "colab_type": "code",
        "id": "_B_Vd0VQyaJC",
        "colab": {}
      },
      "source": [
        "ann_bilstm1 = read_ann(files_ann_bilstm1)"
      ],
      "execution_count": null,
      "outputs": []
    },
    {
      "cell_type": "code",
      "metadata": {
        "colab_type": "code",
        "id": "nPjzcv8lyaJE",
        "colab": {
          "base_uri": "https://localhost:8080/",
          "height": 34
        },
        "outputId": "2c714226-2566-4236-efed-c0e0cf86f59e"
      },
      "source": [
        "print(\"Number of clinical cases in the gold standard dataset: %d\" %len(ann_bilstm1))\n",
        "\n",
        "df_ann_bilstm1 = pd.DataFrame(columns = [\"clinical_case\", \"Entity_ID\", \"code\", \"Entity\"])\n",
        "\n",
        "for cc in range(len(ann_bilstm1)): #300 clinical cases\n",
        "  ann_bilstm1_2 = [np.hstack((cc+1,ann_bilstm1[cc][j])) for j in range(len(ann_bilstm1[cc]))]\n",
        "  df = pd.DataFrame(ann_bilstm1_2, columns = [\"clinical_case\", \"Entity_ID\", \"code\", \"Entity\"])\n",
        "\n",
        "  df_ann_bilstm1 = df_ann_bilstm1.append(df)"
      ],
      "execution_count": null,
      "outputs": [
        {
          "output_type": "stream",
          "text": [
            "Number of clinical cases in the gold standard dataset: 300\n"
          ],
          "name": "stdout"
        }
      ]
    },
    {
      "cell_type": "code",
      "metadata": {
        "colab_type": "code",
        "id": "WvSlCUdXyaJH",
        "colab": {
          "base_uri": "https://localhost:8080/",
          "height": 419
        },
        "outputId": "b613922d-6c63-44a2-e39a-dad403ef68ef"
      },
      "source": [
        "df_ann_bilstm1"
      ],
      "execution_count": null,
      "outputs": [
        {
          "output_type": "execute_result",
          "data": {
            "text/html": [
              "<div>\n",
              "<style scoped>\n",
              "    .dataframe tbody tr th:only-of-type {\n",
              "        vertical-align: middle;\n",
              "    }\n",
              "\n",
              "    .dataframe tbody tr th {\n",
              "        vertical-align: top;\n",
              "    }\n",
              "\n",
              "    .dataframe thead th {\n",
              "        text-align: right;\n",
              "    }\n",
              "</style>\n",
              "<table border=\"1\" class=\"dataframe\">\n",
              "  <thead>\n",
              "    <tr style=\"text-align: right;\">\n",
              "      <th></th>\n",
              "      <th>clinical_case</th>\n",
              "      <th>Entity_ID</th>\n",
              "      <th>code</th>\n",
              "      <th>Entity</th>\n",
              "    </tr>\n",
              "  </thead>\n",
              "  <tbody>\n",
              "    <tr>\n",
              "      <th>0</th>\n",
              "      <td>1</td>\n",
              "      <td>T1</td>\n",
              "      <td>MORFOLOGIA_NEOPLASIA 794 806</td>\n",
              "      <td>neoformación\\n</td>\n",
              "    </tr>\n",
              "    <tr>\n",
              "      <th>1</th>\n",
              "      <td>1</td>\n",
              "      <td>T2</td>\n",
              "      <td>MORFOLOGIA_NEOPLASIA 882 894</td>\n",
              "      <td>metastásicas\\n</td>\n",
              "    </tr>\n",
              "    <tr>\n",
              "      <th>2</th>\n",
              "      <td>1</td>\n",
              "      <td>T3</td>\n",
              "      <td>MORFOLOGIA_NEOPLASIA 1115 1147</td>\n",
              "      <td>adenocarcinoma bien diferenciado\\n</td>\n",
              "    </tr>\n",
              "    <tr>\n",
              "      <th>3</th>\n",
              "      <td>1</td>\n",
              "      <td>T4</td>\n",
              "      <td>MORFOLOGIA_NEOPLASIA 1590 1602</td>\n",
              "      <td>neoformación\\n</td>\n",
              "    </tr>\n",
              "    <tr>\n",
              "      <th>4</th>\n",
              "      <td>1</td>\n",
              "      <td>T5</td>\n",
              "      <td>MORFOLOGIA_NEOPLASIA 1678 1690</td>\n",
              "      <td>metastásicas\\n</td>\n",
              "    </tr>\n",
              "    <tr>\n",
              "      <th>...</th>\n",
              "      <td>...</td>\n",
              "      <td>...</td>\n",
              "      <td>...</td>\n",
              "      <td>...</td>\n",
              "    </tr>\n",
              "    <tr>\n",
              "      <th>5</th>\n",
              "      <td>300</td>\n",
              "      <td>T6</td>\n",
              "      <td>MORFOLOGIA_NEOPLASIA 1218 1246</td>\n",
              "      <td>carcinoma ductal infiltrante\\n</td>\n",
              "    </tr>\n",
              "    <tr>\n",
              "      <th>6</th>\n",
              "      <td>300</td>\n",
              "      <td>T7</td>\n",
              "      <td>MORFOLOGIA_NEOPLASIA 1464 1474</td>\n",
              "      <td>metástasis\\n</td>\n",
              "    </tr>\n",
              "    <tr>\n",
              "      <th>7</th>\n",
              "      <td>300</td>\n",
              "      <td>T8</td>\n",
              "      <td>MORFOLOGIA_NEOPLASIA 1884 1910</td>\n",
              "      <td>cáncer de mama metastásico\\n</td>\n",
              "    </tr>\n",
              "    <tr>\n",
              "      <th>8</th>\n",
              "      <td>300</td>\n",
              "      <td>T9</td>\n",
              "      <td>MORFOLOGIA_NEOPLASIA 3350 3386</td>\n",
              "      <td>Carcinoma de mama ductal infiltrante\\n</td>\n",
              "    </tr>\n",
              "    <tr>\n",
              "      <th>9</th>\n",
              "      <td>300</td>\n",
              "      <td>T10</td>\n",
              "      <td>MORFOLOGIA_NEOPLASIA 6198 6209</td>\n",
              "      <td>metastásica\\n</td>\n",
              "    </tr>\n",
              "  </tbody>\n",
              "</table>\n",
              "<p>3643 rows × 4 columns</p>\n",
              "</div>"
            ],
            "text/plain": [
              "   clinical_case  ...                                  Entity\n",
              "0              1  ...                          neoformación\\n\n",
              "1              1  ...                          metastásicas\\n\n",
              "2              1  ...      adenocarcinoma bien diferenciado\\n\n",
              "3              1  ...                          neoformación\\n\n",
              "4              1  ...                          metastásicas\\n\n",
              "..           ...  ...                                     ...\n",
              "5            300  ...          carcinoma ductal infiltrante\\n\n",
              "6            300  ...                            metástasis\\n\n",
              "7            300  ...            cáncer de mama metastásico\\n\n",
              "8            300  ...  Carcinoma de mama ductal infiltrante\\n\n",
              "9            300  ...                           metastásica\\n\n",
              "\n",
              "[3643 rows x 4 columns]"
            ]
          },
          "metadata": {
            "tags": []
          },
          "execution_count": 31
        }
      ]
    },
    {
      "cell_type": "code",
      "metadata": {
        "colab_type": "code",
        "id": "6aB1piEcyaJL",
        "colab": {}
      },
      "source": [
        "P_per_cc, P, R_per_cc, R, F1_per_cc, F1 = calculate_metrics(df_ann_test_true, df_ann_bilstm1)"
      ],
      "execution_count": null,
      "outputs": []
    },
    {
      "cell_type": "code",
      "metadata": {
        "colab_type": "code",
        "id": "YhVfFsUjyaJN",
        "colab": {
          "base_uri": "https://localhost:8080/",
          "height": 68
        },
        "outputId": "aa4561a2-fe00-47d5-fb19-61fd1ad14edf"
      },
      "source": [
        "print(\"Precision: %f\" %P)\n",
        "print(\"Recall: %f\" %R)\n",
        "print(\"F1 score: %f\" %F1)"
      ],
      "execution_count": null,
      "outputs": [
        {
          "output_type": "stream",
          "text": [
            "Precision: 0.771000\n",
            "Recall: 0.773000\n",
            "F1 score: 0.772000\n"
          ],
          "name": "stdout"
        }
      ]
    },
    {
      "cell_type": "code",
      "metadata": {
        "id": "EuBPHTZvFyJd",
        "colab_type": "code",
        "colab": {
          "base_uri": "https://localhost:8080/",
          "height": 323
        },
        "outputId": "ccdfc346-b614-4b7e-e7d9-a9e7386f96b9"
      },
      "source": [
        "df_mismatch_FN, df_mismatch_FP = calculate_errors(df_ann_test_true, df_ann_bilstm1)\n",
        "# df_mismatch_FN2 # these are the entities not found\n",
        "# df_mismatch_FP2 # these are entities found in the predictions that are not in the gold standard\n",
        "# it will usually be due to an entity found with a different number of words than the gold standard\n",
        "\n",
        "# merge\n",
        "df_mismatch_FN_data = df_mismatch_FN.merge(df_ann_test_true[['clinical_case','Entity_ID','code', 'Entity']], \n",
        "                                             how = 'left', left_on=['clinical_case','code_GS'], right_on=['clinical_case','code'])\n",
        "\n",
        "df_mismatch_FP_data = df_mismatch_FP.merge(df_ann_bilstm1[['clinical_case','Entity_ID','code', 'Entity']], \n",
        "                                             how = 'left', left_on=['clinical_case','code_PRED'], right_on=['clinical_case','code'])\n",
        "\n",
        "df_mismatch_FN_data = df_mismatch_FN_data.drop(['code'],axis = 1)\n",
        "df_mismatch_FP_data = df_mismatch_FP_data.drop(['code'],axis = 1)\n",
        "\n",
        "df_mismatch_FN_data['start'] = df_mismatch_FN_data[\"code_GS\"].str.split(\" \", expand = True)[1] \n",
        "df_mismatch_FP_data['start'] = df_mismatch_FP_data[\"code_PRED\"].str.split(\" \", expand = True)[1] \n",
        "\n",
        "df_mismatch = df_mismatch_FN_data.merge(df_mismatch_FP_data[['clinical_case','code_PRED', 'Entity','start']], \n",
        "                                             how = 'outer', left_on=['clinical_case','start'], right_on=['clinical_case','start'])\n",
        "\n",
        "print(df_mismatch.isnull().sum())\n",
        "\n",
        "print(\"\\nTotal number of entities in the gold standard files: %d\" %len(df_ann_test_true))\n",
        "print(\"Total number of entities in the prediction files: %d\" %len(df_ann_bilstm1))\n",
        "\n",
        "print(\"Total number of mismatches %d\" %len(df_mismatch))\n",
        "\n",
        "print(\"Total number of unrecognized entities %d\" %df_mismatch.isnull().sum()['code_PRED'])\n",
        "print(\"Total number of false positives entities %d\" %df_mismatch.isnull().sum()['code_GS'])\n",
        "\n",
        "matches = df_ann_test_true.merge(df_ann_bilstm1[['clinical_case','Entity_ID','code', 'Entity']], \n",
        "                                             how = 'inner', left_on=['clinical_case','code'], right_on=['clinical_case','code'])\n",
        "print(\"\\nTotal number of matches %d\" %len(matches))\n",
        "\n",
        "print(\"Total number of FN %d\" %len(df_mismatch_FN))\n",
        "print(\"Total number of FP %d\" %len(df_mismatch_FP))"
      ],
      "execution_count": null,
      "outputs": [
        {
          "output_type": "stream",
          "text": [
            "clinical_case      0\n",
            "code_GS          493\n",
            "Entity_ID        493\n",
            "Entity_x         493\n",
            "start              0\n",
            "code_PRED        474\n",
            "Entity_y         474\n",
            "dtype: int64\n",
            "\n",
            "Total number of entities in the gold standard files: 3633\n",
            "Total number of entities in the prediction files: 3643\n",
            "Total number of mismatches 1319\n",
            "Total number of unrecognized entities 474\n",
            "Total number of false positives entities 493\n",
            "\n",
            "Total number of matches 2807\n",
            "Total number of FN 826\n",
            "Total number of FP 836\n"
          ],
          "name": "stdout"
        }
      ]
    },
    {
      "cell_type": "code",
      "metadata": {
        "id": "g0LT_oJyGKoz",
        "colab_type": "code",
        "colab": {}
      },
      "source": [
        "#df_mismatch.to_excel(path+'mismatch_bilstm1.xlsx', index = False)"
      ],
      "execution_count": null,
      "outputs": []
    },
    {
      "cell_type": "markdown",
      "metadata": {
        "colab_type": "text",
        "id": "LfmvT273zoq2"
      },
      "source": [
        "### **BILSTM-CRF approach 2 predictions**"
      ]
    },
    {
      "cell_type": "markdown",
      "metadata": {
        "colab_type": "text",
        "id": "eXwCqAN7zoq2"
      },
      "source": [
        "**Read the prediction .ann files**\n",
        "\n",
        "We want to read them in the same order as the gold standard dataset."
      ]
    },
    {
      "cell_type": "code",
      "metadata": {
        "colab_type": "code",
        "id": "kD-NURWKzoq3",
        "colab": {}
      },
      "source": [
        "path_bilstm2 = 'drive/My Drive/Ejemplos NER - TFM/results_BILSTM_ap2/ann/'\n",
        "path_test_true = 'drive/My Drive/Ejemplos NER - TFM/test_set/cantemist-ner/'\n",
        "len_path_bilstm2 = len(path_bilstm2)\n",
        "len_path_test_true = len(path_test_true)\n",
        "\n",
        "files_ann_bilstm2 = []\n",
        "\n",
        "for i in range(len(files_ann_test_true)):\n",
        "  name_ann = files_ann_test_true[i][len_path_test_true:] # these are the names of theann files ex. 'cc_onco1006.ann'\n",
        "  new_name_ann = path_bilstm2 + name_ann\n",
        "\n",
        "  files_ann_bilstm2.append(new_name_ann)\n"
      ],
      "execution_count": null,
      "outputs": []
    },
    {
      "cell_type": "code",
      "metadata": {
        "colab_type": "code",
        "id": "mwgbo60bzoq5",
        "colab": {
          "base_uri": "https://localhost:8080/",
          "height": 119
        },
        "outputId": "bac044b2-83cc-4386-a0a0-e5b5bfa6266b"
      },
      "source": [
        "print(files_ann_test_true[0])\n",
        "print(files_ann_bilstm2[0])\n",
        "print(files_ann_test_true[-1])\n",
        "print(files_ann_bilstm2[-1])\n",
        "\n",
        "print(len(files_ann_test_true))\n",
        "print(len(files_ann_bilstm2))"
      ],
      "execution_count": null,
      "outputs": [
        {
          "output_type": "stream",
          "text": [
            "drive/My Drive/Ejemplos NER - TFM/test_set/cantemist-ner/cc_onco1006.ann\n",
            "drive/My Drive/Ejemplos NER - TFM/results_BILSTM_ap2/ann/cc_onco1006.ann\n",
            "drive/My Drive/Ejemplos NER - TFM/test_set/cantemist-ner/cc_onco978.ann\n",
            "drive/My Drive/Ejemplos NER - TFM/results_BILSTM_ap2/ann/cc_onco978.ann\n",
            "300\n",
            "300\n"
          ],
          "name": "stdout"
        }
      ]
    },
    {
      "cell_type": "code",
      "metadata": {
        "colab_type": "code",
        "id": "izbaZTUUzoq7",
        "colab": {}
      },
      "source": [
        "ann_bilstm2 = read_ann(files_ann_bilstm2)"
      ],
      "execution_count": null,
      "outputs": []
    },
    {
      "cell_type": "code",
      "metadata": {
        "colab_type": "code",
        "id": "AqSo73o2zoq8",
        "colab": {
          "base_uri": "https://localhost:8080/"
        },
        "outputId": "04b48e5a-233d-4707-ee8a-fd9e80785241"
      },
      "source": [
        "print(\"Number of clinical cases in the gold standard dataset: %d\" %len(ann_bilstm2))\n",
        "\n",
        "df_ann_bilstm2 = pd.DataFrame(columns = [\"clinical_case\", \"Entity_ID\", \"code\", \"Entity\"])\n",
        "\n",
        "for cc in range(len(ann_bilstm2)): #300 clinical cases\n",
        "  ann_bilstm2_2 = [np.hstack((cc+1,ann_bilstm2[cc][j])) for j in range(len(ann_bilstm2[cc]))]\n",
        "  df = pd.DataFrame(ann_bilstm2_2, columns = [\"clinical_case\", \"Entity_ID\", \"code\", \"Entity\"])\n",
        "\n",
        "  df_ann_bilstm2 = df_ann_bilstm2.append(df)"
      ],
      "execution_count": null,
      "outputs": [
        {
          "output_type": "stream",
          "text": [
            "Number of clinical cases in the gold standard dataset: 300\n"
          ],
          "name": "stdout"
        }
      ]
    },
    {
      "cell_type": "code",
      "metadata": {
        "colab_type": "code",
        "id": "z8Fa7UH3zoq_",
        "colab": {
          "base_uri": "https://localhost:8080/"
        },
        "outputId": "0c1f2053-ec23-419a-9d2e-85e4e3db2450"
      },
      "source": [
        "df_ann_bilstm2"
      ],
      "execution_count": null,
      "outputs": [
        {
          "output_type": "execute_result",
          "data": {
            "text/html": [
              "<div>\n",
              "<style scoped>\n",
              "    .dataframe tbody tr th:only-of-type {\n",
              "        vertical-align: middle;\n",
              "    }\n",
              "\n",
              "    .dataframe tbody tr th {\n",
              "        vertical-align: top;\n",
              "    }\n",
              "\n",
              "    .dataframe thead th {\n",
              "        text-align: right;\n",
              "    }\n",
              "</style>\n",
              "<table border=\"1\" class=\"dataframe\">\n",
              "  <thead>\n",
              "    <tr style=\"text-align: right;\">\n",
              "      <th></th>\n",
              "      <th>clinical_case</th>\n",
              "      <th>Entity_ID</th>\n",
              "      <th>code</th>\n",
              "      <th>Entity</th>\n",
              "    </tr>\n",
              "  </thead>\n",
              "  <tbody>\n",
              "    <tr>\n",
              "      <th>0</th>\n",
              "      <td>1</td>\n",
              "      <td>T1</td>\n",
              "      <td>MORFOLOGIA_NEOPLASIA 794 806</td>\n",
              "      <td>neoformación\\n</td>\n",
              "    </tr>\n",
              "    <tr>\n",
              "      <th>1</th>\n",
              "      <td>1</td>\n",
              "      <td>T2</td>\n",
              "      <td>MORFOLOGIA_NEOPLASIA 882 894</td>\n",
              "      <td>metastásicas\\n</td>\n",
              "    </tr>\n",
              "    <tr>\n",
              "      <th>2</th>\n",
              "      <td>1</td>\n",
              "      <td>T3</td>\n",
              "      <td>MORFOLOGIA_NEOPLASIA 1115 1147</td>\n",
              "      <td>adenocarcinoma bien diferenciado\\n</td>\n",
              "    </tr>\n",
              "    <tr>\n",
              "      <th>3</th>\n",
              "      <td>1</td>\n",
              "      <td>T4</td>\n",
              "      <td>MORFOLOGIA_NEOPLASIA 1590 1602</td>\n",
              "      <td>neoformación\\n</td>\n",
              "    </tr>\n",
              "    <tr>\n",
              "      <th>4</th>\n",
              "      <td>1</td>\n",
              "      <td>T5</td>\n",
              "      <td>MORFOLOGIA_NEOPLASIA 1678 1690</td>\n",
              "      <td>metastásicas\\n</td>\n",
              "    </tr>\n",
              "    <tr>\n",
              "      <th>...</th>\n",
              "      <td>...</td>\n",
              "      <td>...</td>\n",
              "      <td>...</td>\n",
              "      <td>...</td>\n",
              "    </tr>\n",
              "    <tr>\n",
              "      <th>5</th>\n",
              "      <td>300</td>\n",
              "      <td>T6</td>\n",
              "      <td>MORFOLOGIA_NEOPLASIA 1218 1246</td>\n",
              "      <td>carcinoma ductal infiltrante\\n</td>\n",
              "    </tr>\n",
              "    <tr>\n",
              "      <th>6</th>\n",
              "      <td>300</td>\n",
              "      <td>T7</td>\n",
              "      <td>MORFOLOGIA_NEOPLASIA 1464 1477</td>\n",
              "      <td>metástasis M1\\n</td>\n",
              "    </tr>\n",
              "    <tr>\n",
              "      <th>7</th>\n",
              "      <td>300</td>\n",
              "      <td>T8</td>\n",
              "      <td>MORFOLOGIA_NEOPLASIA 1884 1910</td>\n",
              "      <td>cáncer de mama metastásico\\n</td>\n",
              "    </tr>\n",
              "    <tr>\n",
              "      <th>8</th>\n",
              "      <td>300</td>\n",
              "      <td>T9</td>\n",
              "      <td>MORFOLOGIA_NEOPLASIA 3350 3399</td>\n",
              "      <td>Carcinoma de mama ductal infiltrante estadio I...</td>\n",
              "    </tr>\n",
              "    <tr>\n",
              "      <th>9</th>\n",
              "      <td>300</td>\n",
              "      <td>T10</td>\n",
              "      <td>MORFOLOGIA_NEOPLASIA 6198 6209</td>\n",
              "      <td>metastásica\\n</td>\n",
              "    </tr>\n",
              "  </tbody>\n",
              "</table>\n",
              "<p>3372 rows × 4 columns</p>\n",
              "</div>"
            ],
            "text/plain": [
              "   clinical_case  ...                                             Entity\n",
              "0              1  ...                                     neoformación\\n\n",
              "1              1  ...                                     metastásicas\\n\n",
              "2              1  ...                 adenocarcinoma bien diferenciado\\n\n",
              "3              1  ...                                     neoformación\\n\n",
              "4              1  ...                                     metastásicas\\n\n",
              "..           ...  ...                                                ...\n",
              "5            300  ...                     carcinoma ductal infiltrante\\n\n",
              "6            300  ...                                    metástasis M1\\n\n",
              "7            300  ...                       cáncer de mama metastásico\\n\n",
              "8            300  ...  Carcinoma de mama ductal infiltrante estadio I...\n",
              "9            300  ...                                      metastásica\\n\n",
              "\n",
              "[3372 rows x 4 columns]"
            ]
          },
          "metadata": {
            "tags": []
          },
          "execution_count": 55
        }
      ]
    },
    {
      "cell_type": "code",
      "metadata": {
        "colab_type": "code",
        "id": "uf5HxfTmzorA",
        "colab": {}
      },
      "source": [
        "P_per_cc, P, R_per_cc, R, F1_per_cc, F1 = calculate_metrics(df_ann_test_true, df_ann_bilstm2)"
      ],
      "execution_count": null,
      "outputs": []
    },
    {
      "cell_type": "code",
      "metadata": {
        "colab_type": "code",
        "id": "i_J36KWQzorC",
        "colab": {
          "base_uri": "https://localhost:8080/"
        },
        "outputId": "716acb93-0a81-48dc-9268-7b54861c6433"
      },
      "source": [
        "print(\"Precision: %f\" %P)\n",
        "print(\"Recall: %f\" %R)\n",
        "print(\"F1 score: %f\" %F1)"
      ],
      "execution_count": null,
      "outputs": [
        {
          "output_type": "stream",
          "text": [
            "Precision: 0.828000\n",
            "Recall: 0.769000\n",
            "F1 score: 0.797000\n"
          ],
          "name": "stdout"
        }
      ]
    },
    {
      "cell_type": "code",
      "metadata": {
        "id": "c7NDjUoMJ9hM",
        "colab_type": "code",
        "colab": {
          "base_uri": "https://localhost:8080/"
        },
        "outputId": "cdfc0375-3e36-4384-df89-b91fc666d4b4"
      },
      "source": [
        "df_mismatch_FN, df_mismatch_FP = calculate_errors(df_ann_test_true, df_ann_bilstm2)\n",
        "# df_mismatch_FN2 # these are the entities not found\n",
        "# df_mismatch_FP2 # these are entities found in the predictions that are not in the gold standard\n",
        "# it will usually be due to an entity found with a different number of words than the gold standard\n",
        "\n",
        "# merge\n",
        "df_mismatch_FN_data = df_mismatch_FN.merge(df_ann_test_true[['clinical_case','Entity_ID','code', 'Entity']], \n",
        "                                             how = 'left', left_on=['clinical_case','code_GS'], right_on=['clinical_case','code'])\n",
        "\n",
        "df_mismatch_FP_data = df_mismatch_FP.merge(df_ann_bilstm2[['clinical_case','Entity_ID','code', 'Entity']], \n",
        "                                             how = 'left', left_on=['clinical_case','code_PRED'], right_on=['clinical_case','code'])\n",
        "\n",
        "df_mismatch_FN_data = df_mismatch_FN_data.drop(['code'],axis = 1)\n",
        "df_mismatch_FP_data = df_mismatch_FP_data.drop(['code'],axis = 1)\n",
        "\n",
        "df_mismatch_FN_data['start'] = df_mismatch_FN_data[\"code_GS\"].str.split(\" \", expand = True)[1] \n",
        "df_mismatch_FP_data['start'] = df_mismatch_FP_data[\"code_PRED\"].str.split(\" \", expand = True)[1] \n",
        "\n",
        "df_mismatch = df_mismatch_FN_data.merge(df_mismatch_FP_data[['clinical_case','code_PRED', 'Entity','start']], \n",
        "                                             how = 'outer', left_on=['clinical_case','start'], right_on=['clinical_case','start'])\n",
        "\n",
        "print(df_mismatch.isnull().sum())\n",
        "\n",
        "print(\"\\nTotal number of entities in the gold standard files: %d\" %len(df_ann_test_true))\n",
        "print(\"Total number of entities in the prediction files: %d\" %len(df_ann_bilstm2))\n",
        "\n",
        "print(\"Total number of mismatches %d\" %len(df_mismatch))\n",
        "\n",
        "print(\"Total number of unrecognized entities %d\" %df_mismatch.isnull().sum()['code_PRED'])\n",
        "print(\"Total number of false positives entities %d\" %df_mismatch.isnull().sum()['code_GS'])\n",
        "\n",
        "matches = df_ann_test_true.merge(df_ann_bilstm2[['clinical_case','Entity_ID','code', 'Entity']], \n",
        "                                             how = 'inner', left_on=['clinical_case','code'], right_on=['clinical_case','code'])\n",
        "print(\"\\nTotal number of matches %d\" %len(matches))\n",
        "\n",
        "print(\"Total number of FN %d\" %len(df_mismatch_FN))\n",
        "print(\"Total number of FP %d\" %len(df_mismatch_FP))"
      ],
      "execution_count": null,
      "outputs": [
        {
          "output_type": "stream",
          "text": [
            "clinical_case      0\n",
            "code_GS          270\n",
            "Entity_ID        270\n",
            "Entity_x         270\n",
            "start              0\n",
            "code_PRED        518\n",
            "Entity_y         518\n",
            "dtype: int64\n",
            "\n",
            "Total number of entities in the gold standard files: 3633\n",
            "Total number of entities in the prediction files: 3372\n",
            "Total number of mismatches 1111\n",
            "Total number of unrecognized entities 518\n",
            "Total number of false positives entities 270\n",
            "\n",
            "Total number of matches 2792\n",
            "Total number of FN 841\n",
            "Total number of FP 580\n"
          ],
          "name": "stdout"
        }
      ]
    },
    {
      "cell_type": "code",
      "metadata": {
        "id": "papuvJf9R7p-",
        "colab_type": "code",
        "colab": {}
      },
      "source": [
        "#df_mismatch.to_excel(path+'mismatch_bilstm2.xlsx', index = False)"
      ],
      "execution_count": null,
      "outputs": []
    },
    {
      "cell_type": "markdown",
      "metadata": {
        "colab_type": "text",
        "id": "ge0flmcy0MxZ"
      },
      "source": [
        "### **BILSTM-CRF approach 3 predictions**"
      ]
    },
    {
      "cell_type": "markdown",
      "metadata": {
        "colab_type": "text",
        "id": "JqN64NIG0Mxa"
      },
      "source": [
        "**Read the prediction .ann files**\n",
        "\n",
        "We want to read them in the same order as the gold standard dataset."
      ]
    },
    {
      "cell_type": "code",
      "metadata": {
        "colab_type": "code",
        "id": "SJ19m71a0Mxa",
        "colab": {}
      },
      "source": [
        "path_bilstm3 = 'drive/My Drive/Ejemplos NER - TFM/results_BILSTM_ap3/ann/'\n",
        "path_test_true = 'drive/My Drive/Ejemplos NER - TFM/test_set/cantemist-ner/'\n",
        "len_path_bilstm3 = len(path_bilstm3)\n",
        "len_path_test_true = len(path_test_true)\n",
        "\n",
        "files_ann_bilstm3 = []\n",
        "\n",
        "for i in range(len(files_ann_test_true)):\n",
        "  name_ann = files_ann_test_true[i][len_path_test_true:] # these are the names of theann files ex. 'cc_onco1006.ann'\n",
        "  new_name_ann = path_bilstm3 + name_ann\n",
        "\n",
        "  files_ann_bilstm3.append(new_name_ann)\n"
      ],
      "execution_count": null,
      "outputs": []
    },
    {
      "cell_type": "code",
      "metadata": {
        "colab_type": "code",
        "id": "M-jUrnB70Mxc",
        "colab": {
          "base_uri": "https://localhost:8080/"
        },
        "outputId": "802ed4d5-d80a-46e5-c545-95f78e5e69df"
      },
      "source": [
        "print(files_ann_test_true[0])\n",
        "print(files_ann_bilstm3[0])\n",
        "print(files_ann_test_true[-1])\n",
        "print(files_ann_bilstm3[-1])\n",
        "\n",
        "print(len(files_ann_test_true))\n",
        "print(len(files_ann_bilstm3))"
      ],
      "execution_count": null,
      "outputs": [
        {
          "output_type": "stream",
          "text": [
            "drive/My Drive/Ejemplos NER - TFM/test_set/cantemist-ner/cc_onco1006.ann\n",
            "drive/My Drive/Ejemplos NER - TFM/results_BILSTM_ap3/ann/cc_onco1006.ann\n",
            "drive/My Drive/Ejemplos NER - TFM/test_set/cantemist-ner/cc_onco978.ann\n",
            "drive/My Drive/Ejemplos NER - TFM/results_BILSTM_ap3/ann/cc_onco978.ann\n",
            "300\n",
            "300\n"
          ],
          "name": "stdout"
        }
      ]
    },
    {
      "cell_type": "code",
      "metadata": {
        "colab_type": "code",
        "id": "epxDEdQ60Mxf",
        "colab": {}
      },
      "source": [
        "ann_bilstm3 = read_ann(files_ann_bilstm3)"
      ],
      "execution_count": null,
      "outputs": []
    },
    {
      "cell_type": "code",
      "metadata": {
        "colab_type": "code",
        "id": "Fp9YdmCD0Mxg",
        "colab": {
          "base_uri": "https://localhost:8080/"
        },
        "outputId": "abd46a8d-30ea-4d16-8e18-ff60015c8854"
      },
      "source": [
        "print(\"Number of clinical cases in the gold standard dataset: %d\" %len(ann_bilstm3))\n",
        "\n",
        "df_ann_bilstm3 = pd.DataFrame(columns = [\"clinical_case\", \"Entity_ID\", \"code\", \"Entity\"])\n",
        "\n",
        "for cc in range(len(ann_bilstm3)): #300 clinical cases\n",
        "  ann_bilstm3_2 = [np.hstack((cc+1,ann_bilstm3[cc][j])) for j in range(len(ann_bilstm3[cc]))]\n",
        "  df = pd.DataFrame(ann_bilstm3_2, columns = [\"clinical_case\", \"Entity_ID\", \"code\", \"Entity\"])\n",
        "\n",
        "  df_ann_bilstm3 = df_ann_bilstm3.append(df)"
      ],
      "execution_count": null,
      "outputs": [
        {
          "output_type": "stream",
          "text": [
            "Number of clinical cases in the gold standard dataset: 300\n"
          ],
          "name": "stdout"
        }
      ]
    },
    {
      "cell_type": "code",
      "metadata": {
        "colab_type": "code",
        "id": "CFBhvQMs0Mxj",
        "colab": {
          "base_uri": "https://localhost:8080/"
        },
        "outputId": "5eb9de14-1f72-4ba8-bc7f-c9cebbdcf1d2"
      },
      "source": [
        "df_ann_bilstm3"
      ],
      "execution_count": null,
      "outputs": [
        {
          "output_type": "execute_result",
          "data": {
            "text/html": [
              "<div>\n",
              "<style scoped>\n",
              "    .dataframe tbody tr th:only-of-type {\n",
              "        vertical-align: middle;\n",
              "    }\n",
              "\n",
              "    .dataframe tbody tr th {\n",
              "        vertical-align: top;\n",
              "    }\n",
              "\n",
              "    .dataframe thead th {\n",
              "        text-align: right;\n",
              "    }\n",
              "</style>\n",
              "<table border=\"1\" class=\"dataframe\">\n",
              "  <thead>\n",
              "    <tr style=\"text-align: right;\">\n",
              "      <th></th>\n",
              "      <th>clinical_case</th>\n",
              "      <th>Entity_ID</th>\n",
              "      <th>code</th>\n",
              "      <th>Entity</th>\n",
              "    </tr>\n",
              "  </thead>\n",
              "  <tbody>\n",
              "    <tr>\n",
              "      <th>0</th>\n",
              "      <td>1</td>\n",
              "      <td>T1</td>\n",
              "      <td>MORFOLOGIA_NEOPLASIA 794 806</td>\n",
              "      <td>neoformación\\n</td>\n",
              "    </tr>\n",
              "    <tr>\n",
              "      <th>1</th>\n",
              "      <td>1</td>\n",
              "      <td>T2</td>\n",
              "      <td>MORFOLOGIA_NEOPLASIA 882 894</td>\n",
              "      <td>metastásicas\\n</td>\n",
              "    </tr>\n",
              "    <tr>\n",
              "      <th>2</th>\n",
              "      <td>1</td>\n",
              "      <td>T3</td>\n",
              "      <td>MORFOLOGIA_NEOPLASIA 1115 1147</td>\n",
              "      <td>adenocarcinoma bien diferenciado\\n</td>\n",
              "    </tr>\n",
              "    <tr>\n",
              "      <th>3</th>\n",
              "      <td>1</td>\n",
              "      <td>T4</td>\n",
              "      <td>MORFOLOGIA_NEOPLASIA 1590 1602</td>\n",
              "      <td>neoformación\\n</td>\n",
              "    </tr>\n",
              "    <tr>\n",
              "      <th>4</th>\n",
              "      <td>1</td>\n",
              "      <td>T5</td>\n",
              "      <td>MORFOLOGIA_NEOPLASIA 1678 1690</td>\n",
              "      <td>metastásicas\\n</td>\n",
              "    </tr>\n",
              "    <tr>\n",
              "      <th>...</th>\n",
              "      <td>...</td>\n",
              "      <td>...</td>\n",
              "      <td>...</td>\n",
              "      <td>...</td>\n",
              "    </tr>\n",
              "    <tr>\n",
              "      <th>6</th>\n",
              "      <td>300</td>\n",
              "      <td>T7</td>\n",
              "      <td>MORFOLOGIA_NEOPLASIA 1464 1474</td>\n",
              "      <td>metástasis\\n</td>\n",
              "    </tr>\n",
              "    <tr>\n",
              "      <th>7</th>\n",
              "      <td>300</td>\n",
              "      <td>T8</td>\n",
              "      <td>MORFOLOGIA_NEOPLASIA 1884 1910</td>\n",
              "      <td>cáncer de mama metastásico\\n</td>\n",
              "    </tr>\n",
              "    <tr>\n",
              "      <th>8</th>\n",
              "      <td>300</td>\n",
              "      <td>T9</td>\n",
              "      <td>MORFOLOGIA_NEOPLASIA 1912 1915</td>\n",
              "      <td>CMm\\n</td>\n",
              "    </tr>\n",
              "    <tr>\n",
              "      <th>9</th>\n",
              "      <td>300</td>\n",
              "      <td>T10</td>\n",
              "      <td>MORFOLOGIA_NEOPLASIA 3350 3399</td>\n",
              "      <td>Carcinoma de mama ductal infiltrante estadio I...</td>\n",
              "    </tr>\n",
              "    <tr>\n",
              "      <th>10</th>\n",
              "      <td>300</td>\n",
              "      <td>T11</td>\n",
              "      <td>MORFOLOGIA_NEOPLASIA 6198 6209</td>\n",
              "      <td>metastásica\\n</td>\n",
              "    </tr>\n",
              "  </tbody>\n",
              "</table>\n",
              "<p>3521 rows × 4 columns</p>\n",
              "</div>"
            ],
            "text/plain": [
              "   clinical_case  ...                                             Entity\n",
              "0              1  ...                                     neoformación\\n\n",
              "1              1  ...                                     metastásicas\\n\n",
              "2              1  ...                 adenocarcinoma bien diferenciado\\n\n",
              "3              1  ...                                     neoformación\\n\n",
              "4              1  ...                                     metastásicas\\n\n",
              "..           ...  ...                                                ...\n",
              "6            300  ...                                       metástasis\\n\n",
              "7            300  ...                       cáncer de mama metastásico\\n\n",
              "8            300  ...                                              CMm\\n\n",
              "9            300  ...  Carcinoma de mama ductal infiltrante estadio I...\n",
              "10           300  ...                                      metastásica\\n\n",
              "\n",
              "[3521 rows x 4 columns]"
            ]
          },
          "metadata": {
            "tags": []
          },
          "execution_count": 64
        }
      ]
    },
    {
      "cell_type": "code",
      "metadata": {
        "colab_type": "code",
        "id": "5coozwPj0Mxk",
        "colab": {}
      },
      "source": [
        "P_per_cc, P, R_per_cc, R, F1_per_cc, F1 = calculate_metrics(df_ann_test_true, df_ann_bilstm3)"
      ],
      "execution_count": null,
      "outputs": []
    },
    {
      "cell_type": "code",
      "metadata": {
        "colab_type": "code",
        "id": "W0DsKXqk0Mxn",
        "colab": {
          "base_uri": "https://localhost:8080/"
        },
        "outputId": "1622cc42-3369-489f-a595-9241990b1519"
      },
      "source": [
        "print(\"Precision: %f\" %P)\n",
        "print(\"Recall: %f\" %R)\n",
        "print(\"F1 score: %f\" %F1)"
      ],
      "execution_count": null,
      "outputs": [
        {
          "output_type": "stream",
          "text": [
            "Precision: 0.784000\n",
            "Recall: 0.759000\n",
            "F1 score: 0.771000\n"
          ],
          "name": "stdout"
        }
      ]
    },
    {
      "cell_type": "code",
      "metadata": {
        "id": "_D7vBxSYKKqs",
        "colab_type": "code",
        "colab": {
          "base_uri": "https://localhost:8080/"
        },
        "outputId": "e8375b48-f385-4d35-ac15-32740a749dc3"
      },
      "source": [
        "df_mismatch_FN, df_mismatch_FP = calculate_errors(df_ann_test_true, df_ann_bilstm3)\n",
        "# df_mismatch_FN2 # these are the entities not found\n",
        "# df_mismatch_FP2 # these are entities found in the predictions that are not in the gold standard\n",
        "# it will usually be due to an entity found with a different number of words than the gold standard\n",
        "\n",
        "# merge\n",
        "df_mismatch_FN_data = df_mismatch_FN.merge(df_ann_test_true[['clinical_case','Entity_ID','code', 'Entity']], \n",
        "                                             how = 'left', left_on=['clinical_case','code_GS'], right_on=['clinical_case','code'])\n",
        "\n",
        "df_mismatch_FP_data = df_mismatch_FP.merge(df_ann_bilstm3[['clinical_case','Entity_ID','code', 'Entity']], \n",
        "                                             how = 'left', left_on=['clinical_case','code_PRED'], right_on=['clinical_case','code'])\n",
        "\n",
        "df_mismatch_FN_data = df_mismatch_FN_data.drop(['code'],axis = 1)\n",
        "df_mismatch_FP_data = df_mismatch_FP_data.drop(['code'],axis = 1)\n",
        "\n",
        "df_mismatch_FN_data['start'] = df_mismatch_FN_data[\"code_GS\"].str.split(\" \", expand = True)[1] \n",
        "df_mismatch_FP_data['start'] = df_mismatch_FP_data[\"code_PRED\"].str.split(\" \", expand = True)[1] \n",
        "\n",
        "df_mismatch = df_mismatch_FN_data.merge(df_mismatch_FP_data[['clinical_case','code_PRED', 'Entity','start']], \n",
        "                                             how = 'outer', left_on=['clinical_case','start'], right_on=['clinical_case','start'])\n",
        "\n",
        "print(df_mismatch.isnull().sum())\n",
        "\n",
        "print(\"\\nTotal number of entities in the gold standard files: %d\" %len(df_ann_test_true))\n",
        "print(\"Total number of entities in the prediction files: %d\" %len(df_ann_bilstm3))\n",
        "\n",
        "print(\"Total number of mismatches %d\" %len(df_mismatch))\n",
        "\n",
        "print(\"Total number of unrecognized entities %d\" %df_mismatch.isnull().sum()['code_PRED'])\n",
        "print(\"Total number of false positives entities %d\" %df_mismatch.isnull().sum()['code_GS'])\n",
        "\n",
        "matches = df_ann_test_true.merge(df_ann_bilstm3[['clinical_case','Entity_ID','code', 'Entity']], \n",
        "                                             how = 'inner', left_on=['clinical_case','code'], right_on=['clinical_case','code'])\n",
        "print(\"\\nTotal number of matches %d\" %len(matches))\n",
        "\n",
        "print(\"Total number of FN %d\" %len(df_mismatch_FN))\n",
        "print(\"Total number of FP %d\" %len(df_mismatch_FP))"
      ],
      "execution_count": null,
      "outputs": [
        {
          "output_type": "stream",
          "text": [
            "clinical_case      0\n",
            "code_GS          422\n",
            "Entity_ID        422\n",
            "Entity_x         422\n",
            "start              0\n",
            "code_PRED        525\n",
            "Entity_y         525\n",
            "dtype: int64\n",
            "\n",
            "Total number of entities in the gold standard files: 3633\n",
            "Total number of entities in the prediction files: 3521\n",
            "Total number of mismatches 1296\n",
            "Total number of unrecognized entities 525\n",
            "Total number of false positives entities 422\n",
            "\n",
            "Total number of matches 2759\n",
            "Total number of FN 874\n",
            "Total number of FP 762\n"
          ],
          "name": "stdout"
        }
      ]
    },
    {
      "cell_type": "code",
      "metadata": {
        "id": "pRv8VzPWSCjR",
        "colab_type": "code",
        "colab": {}
      },
      "source": [
        "#df_mismatch.to_excel(path+'mismatch_bilstm3.xlsx', index = False)"
      ],
      "execution_count": null,
      "outputs": []
    },
    {
      "cell_type": "markdown",
      "metadata": {
        "colab_type": "text",
        "id": "5tCCpUcu0pCT"
      },
      "source": [
        "### **BERT predictions**"
      ]
    },
    {
      "cell_type": "markdown",
      "metadata": {
        "colab_type": "text",
        "id": "i9MEmtEW0pCT"
      },
      "source": [
        "**Read the prediction .ann files**\n",
        "\n",
        "We want to read them in the same order as the gold standard dataset."
      ]
    },
    {
      "cell_type": "code",
      "metadata": {
        "colab_type": "code",
        "id": "aGCPPOEo0pCV",
        "colab": {}
      },
      "source": [
        "path_bert = 'drive/My Drive/Ejemplos NER - TFM/results_bert/annotations/'\n",
        "path_test_true = 'drive/My Drive/Ejemplos NER - TFM/test_set/cantemist-ner/'\n",
        "len_path_bert = len(path_bert)\n",
        "len_path_test_true = len(path_test_true)\n",
        "\n",
        "files_ann_bert = []\n",
        "\n",
        "for i in range(len(files_ann_test_true)):\n",
        "  name_ann = files_ann_test_true[i][len_path_test_true:] # these are the names of theann files ex. 'cc_onco1006.ann'\n",
        "  new_name_ann = path_bert + name_ann\n",
        "\n",
        "  files_ann_bert.append(new_name_ann)\n"
      ],
      "execution_count": null,
      "outputs": []
    },
    {
      "cell_type": "code",
      "metadata": {
        "colab_type": "code",
        "id": "X9vNdtTH0pCX",
        "colab": {
          "base_uri": "https://localhost:8080/",
          "height": 119
        },
        "outputId": "0f793073-9e4b-4520-febd-dbfd987195e8"
      },
      "source": [
        "print(files_ann_test_true[0])\n",
        "print(files_ann_bert[0])\n",
        "print(files_ann_test_true[-1])\n",
        "print(files_ann_bert[-1])\n",
        "\n",
        "print(len(files_ann_test_true))\n",
        "print(len(files_ann_bert))"
      ],
      "execution_count": null,
      "outputs": [
        {
          "output_type": "stream",
          "text": [
            "drive/My Drive/Ejemplos NER - TFM/test_set/cantemist-ner/cc_onco1006.ann\n",
            "drive/My Drive/Ejemplos NER - TFM/results_bert/annotations/cc_onco1006.ann\n",
            "drive/My Drive/Ejemplos NER - TFM/test_set/cantemist-ner/cc_onco978.ann\n",
            "drive/My Drive/Ejemplos NER - TFM/results_bert/annotations/cc_onco978.ann\n",
            "300\n",
            "300\n"
          ],
          "name": "stdout"
        }
      ]
    },
    {
      "cell_type": "code",
      "metadata": {
        "colab_type": "code",
        "id": "lEuBYI2E0pCY",
        "colab": {}
      },
      "source": [
        "ann_bert = read_ann(files_ann_bert)"
      ],
      "execution_count": null,
      "outputs": []
    },
    {
      "cell_type": "code",
      "metadata": {
        "colab_type": "code",
        "id": "WFv0nWx10pCb",
        "colab": {
          "base_uri": "https://localhost:8080/",
          "height": 34
        },
        "outputId": "458eb16d-6523-44f5-8732-5edb1eed39e1"
      },
      "source": [
        "print(\"Number of clinical cases in the gold standard dataset: %d\" %len(ann_bert))\n",
        "\n",
        "df_ann_bert = pd.DataFrame(columns = [\"clinical_case\", \"Entity_ID\", \"code\", \"Entity\"])\n",
        "\n",
        "for cc in range(len(ann_bert)): #300 clinical cases\n",
        "  ann_bert2 = [np.hstack((cc+1,ann_bert[cc][j])) for j in range(len(ann_bert[cc]))]\n",
        "  df = pd.DataFrame(ann_bert2, columns = [\"clinical_case\", \"Entity_ID\", \"code\", \"Entity\"])\n",
        "\n",
        "  df_ann_bert = df_ann_bert.append(df)"
      ],
      "execution_count": null,
      "outputs": [
        {
          "output_type": "stream",
          "text": [
            "Number of clinical cases in the gold standard dataset: 300\n"
          ],
          "name": "stdout"
        }
      ]
    },
    {
      "cell_type": "code",
      "metadata": {
        "colab_type": "code",
        "id": "hdmAA-8K0pCc",
        "colab": {
          "base_uri": "https://localhost:8080/",
          "height": 419
        },
        "outputId": "1b51a897-93b2-4d76-f98d-504accde679a"
      },
      "source": [
        "df_ann_bert"
      ],
      "execution_count": null,
      "outputs": [
        {
          "output_type": "execute_result",
          "data": {
            "text/html": [
              "<div>\n",
              "<style scoped>\n",
              "    .dataframe tbody tr th:only-of-type {\n",
              "        vertical-align: middle;\n",
              "    }\n",
              "\n",
              "    .dataframe tbody tr th {\n",
              "        vertical-align: top;\n",
              "    }\n",
              "\n",
              "    .dataframe thead th {\n",
              "        text-align: right;\n",
              "    }\n",
              "</style>\n",
              "<table border=\"1\" class=\"dataframe\">\n",
              "  <thead>\n",
              "    <tr style=\"text-align: right;\">\n",
              "      <th></th>\n",
              "      <th>clinical_case</th>\n",
              "      <th>Entity_ID</th>\n",
              "      <th>code</th>\n",
              "      <th>Entity</th>\n",
              "    </tr>\n",
              "  </thead>\n",
              "  <tbody>\n",
              "    <tr>\n",
              "      <th>0</th>\n",
              "      <td>1</td>\n",
              "      <td>T1</td>\n",
              "      <td>MORFOLOGIA_NEOPLASIA 794 806</td>\n",
              "      <td>neoformación\\n</td>\n",
              "    </tr>\n",
              "    <tr>\n",
              "      <th>1</th>\n",
              "      <td>1</td>\n",
              "      <td>T2</td>\n",
              "      <td>MORFOLOGIA_NEOPLASIA 882 894</td>\n",
              "      <td>metastásicas\\n</td>\n",
              "    </tr>\n",
              "    <tr>\n",
              "      <th>2</th>\n",
              "      <td>1</td>\n",
              "      <td>T3</td>\n",
              "      <td>MORFOLOGIA_NEOPLASIA 1115 1147</td>\n",
              "      <td>adenocarcinoma bien diferenciado\\n</td>\n",
              "    </tr>\n",
              "    <tr>\n",
              "      <th>3</th>\n",
              "      <td>1</td>\n",
              "      <td>T4</td>\n",
              "      <td>MORFOLOGIA_NEOPLASIA 1590 1602</td>\n",
              "      <td>neoformación\\n</td>\n",
              "    </tr>\n",
              "    <tr>\n",
              "      <th>4</th>\n",
              "      <td>1</td>\n",
              "      <td>T5</td>\n",
              "      <td>MORFOLOGIA_NEOPLASIA 1678 1690</td>\n",
              "      <td>metastásicas\\n</td>\n",
              "    </tr>\n",
              "    <tr>\n",
              "      <th>...</th>\n",
              "      <td>...</td>\n",
              "      <td>...</td>\n",
              "      <td>...</td>\n",
              "      <td>...</td>\n",
              "    </tr>\n",
              "    <tr>\n",
              "      <th>7</th>\n",
              "      <td>300</td>\n",
              "      <td>T8</td>\n",
              "      <td>MORFOLOGIA_NEOPLASIA 1596 1614</td>\n",
              "      <td>afectación anexial\\n</td>\n",
              "    </tr>\n",
              "    <tr>\n",
              "      <th>8</th>\n",
              "      <td>300</td>\n",
              "      <td>T9</td>\n",
              "      <td>MORFOLOGIA_NEOPLASIA 1884 1910</td>\n",
              "      <td>cáncer de mama metastásico\\n</td>\n",
              "    </tr>\n",
              "    <tr>\n",
              "      <th>9</th>\n",
              "      <td>300</td>\n",
              "      <td>T10</td>\n",
              "      <td>MORFOLOGIA_NEOPLASIA 1912 1915</td>\n",
              "      <td>CMm\\n</td>\n",
              "    </tr>\n",
              "    <tr>\n",
              "      <th>10</th>\n",
              "      <td>300</td>\n",
              "      <td>T11</td>\n",
              "      <td>MORFOLOGIA_NEOPLASIA 3350 3386</td>\n",
              "      <td>Carcinoma de mama ductal infiltrante\\n</td>\n",
              "    </tr>\n",
              "    <tr>\n",
              "      <th>11</th>\n",
              "      <td>300</td>\n",
              "      <td>T12</td>\n",
              "      <td>MORFOLOGIA_NEOPLASIA 6198 6209</td>\n",
              "      <td>metastásica\\n</td>\n",
              "    </tr>\n",
              "  </tbody>\n",
              "</table>\n",
              "<p>3728 rows × 4 columns</p>\n",
              "</div>"
            ],
            "text/plain": [
              "   clinical_case  ...                                  Entity\n",
              "0              1  ...                          neoformación\\n\n",
              "1              1  ...                          metastásicas\\n\n",
              "2              1  ...      adenocarcinoma bien diferenciado\\n\n",
              "3              1  ...                          neoformación\\n\n",
              "4              1  ...                          metastásicas\\n\n",
              "..           ...  ...                                     ...\n",
              "7            300  ...                    afectación anexial\\n\n",
              "8            300  ...            cáncer de mama metastásico\\n\n",
              "9            300  ...                                   CMm\\n\n",
              "10           300  ...  Carcinoma de mama ductal infiltrante\\n\n",
              "11           300  ...                           metastásica\\n\n",
              "\n",
              "[3728 rows x 4 columns]"
            ]
          },
          "metadata": {
            "tags": []
          },
          "execution_count": 73
        }
      ]
    },
    {
      "cell_type": "code",
      "metadata": {
        "colab_type": "code",
        "id": "N7hYmDYk0pCe",
        "colab": {}
      },
      "source": [
        "P_per_cc, P, R_per_cc, R, F1_per_cc, F1 = calculate_metrics(df_ann_test_true, df_ann_bert)"
      ],
      "execution_count": null,
      "outputs": []
    },
    {
      "cell_type": "code",
      "metadata": {
        "colab_type": "code",
        "id": "lKLmejES0pCh",
        "colab": {
          "base_uri": "https://localhost:8080/",
          "height": 68
        },
        "outputId": "9b4853c1-4674-4e2e-d638-dd329acfca5f"
      },
      "source": [
        "print(\"Precision: %f\" %P)\n",
        "print(\"Recall: %f\" %R)\n",
        "print(\"F1 score: %f\" %F1)"
      ],
      "execution_count": null,
      "outputs": [
        {
          "output_type": "stream",
          "text": [
            "Precision: 0.756000\n",
            "Recall: 0.775000\n",
            "F1 score: 0.765000\n"
          ],
          "name": "stdout"
        }
      ]
    },
    {
      "cell_type": "code",
      "metadata": {
        "id": "Xo2woEJhKbyR",
        "colab_type": "code",
        "colab": {
          "base_uri": "https://localhost:8080/",
          "height": 323
        },
        "outputId": "4a4c1671-e105-4b45-baaf-3adaa394098d"
      },
      "source": [
        "df_mismatch_FN, df_mismatch_FP = calculate_errors(df_ann_test_true, df_ann_bert)\n",
        "# df_mismatch_FN2 # these are the entities not found\n",
        "# df_mismatch_FP2 # these are entities found in the predictions that are not in the gold standard\n",
        "# it will usually be due to an entity found with a different number of words than the gold standard\n",
        "\n",
        "# merge\n",
        "df_mismatch_FN_data = df_mismatch_FN.merge(df_ann_test_true[['clinical_case','Entity_ID','code', 'Entity']], \n",
        "                                             how = 'left', left_on=['clinical_case','code_GS'], right_on=['clinical_case','code'])\n",
        "\n",
        "df_mismatch_FP_data = df_mismatch_FP.merge(df_ann_bert[['clinical_case','Entity_ID','code', 'Entity']], \n",
        "                                             how = 'left', left_on=['clinical_case','code_PRED'], right_on=['clinical_case','code'])\n",
        "\n",
        "df_mismatch_FN_data = df_mismatch_FN_data.drop(['code'],axis = 1)\n",
        "df_mismatch_FP_data = df_mismatch_FP_data.drop(['code'],axis = 1)\n",
        "\n",
        "df_mismatch_FN_data['start'] = df_mismatch_FN_data[\"code_GS\"].str.split(\" \", expand = True)[1] \n",
        "df_mismatch_FP_data['start'] = df_mismatch_FP_data[\"code_PRED\"].str.split(\" \", expand = True)[1] \n",
        "\n",
        "df_mismatch = df_mismatch_FN_data.merge(df_mismatch_FP_data[['clinical_case','code_PRED', 'Entity','start']], \n",
        "                                             how = 'outer', left_on=['clinical_case','start'], right_on=['clinical_case','start'])\n",
        "\n",
        "print(df_mismatch.isnull().sum())\n",
        "\n",
        "print(\"\\nTotal number of entities in the gold standard files: %d\" %len(df_ann_test_true))\n",
        "print(\"Total number of entities in the prediction files: %d\" %len(df_ann_bert))\n",
        "\n",
        "print(\"Total number of mismatches %d\" %len(df_mismatch))\n",
        "\n",
        "print(\"Total number of unrecognized entities %d\" %df_mismatch.isnull().sum()['code_PRED'])\n",
        "print(\"Total number of false positives entities %d\" %df_mismatch.isnull().sum()['code_GS'])\n",
        "\n",
        "matches = df_ann_test_true.merge(df_ann_bert[['clinical_case','Entity_ID','code', 'Entity']], \n",
        "                                             how = 'inner', left_on=['clinical_case','code'], right_on=['clinical_case','code'])\n",
        "print(\"\\nTotal number of matches %d\" %len(matches))\n",
        "\n",
        "print(\"Total number of FN %d\" %len(df_mismatch_FN))\n",
        "print(\"Total number of FP %d\" %len(df_mismatch_FP))"
      ],
      "execution_count": null,
      "outputs": [
        {
          "output_type": "stream",
          "text": [
            "clinical_case      0\n",
            "code_GS          574\n",
            "Entity_ID        574\n",
            "Entity_x         574\n",
            "start              0\n",
            "code_PRED        470\n",
            "Entity_y         470\n",
            "dtype: int64\n",
            "\n",
            "Total number of entities in the gold standard files: 3633\n",
            "Total number of entities in the prediction files: 3728\n",
            "Total number of mismatches 1390\n",
            "Total number of unrecognized entities 470\n",
            "Total number of false positives entities 574\n",
            "\n",
            "Total number of matches 2817\n",
            "Total number of FN 816\n",
            "Total number of FP 911\n"
          ],
          "name": "stdout"
        }
      ]
    },
    {
      "cell_type": "code",
      "metadata": {
        "id": "Cd_YybgwSFfM",
        "colab_type": "code",
        "colab": {}
      },
      "source": [
        "#df_mismatch.to_excel(path+'mismatch_bert.xlsx', index = False)"
      ],
      "execution_count": null,
      "outputs": []
    },
    {
      "cell_type": "markdown",
      "metadata": {
        "id": "KavKhg913Kfm",
        "colab_type": "text"
      },
      "source": [
        "### **Comparison**"
      ]
    },
    {
      "cell_type": "code",
      "metadata": {
        "id": "nRTT33Wx3O-4",
        "colab_type": "code",
        "colab": {}
      },
      "source": [
        "df_results = pd.DataFrame(columns=['Model', 'Precision', 'Recall', 'F1 score'])\n",
        "\n",
        "P_per_cc, P, R_per_cc, R, F1_per_cc, F1 = calculate_metrics(df_ann_test_true, df_ann_crf)\n",
        "df_results = df_results.append(pd.DataFrame(np.matrix(['Crf',P,R,F1]), \n",
        "                                            columns=['Model', 'Precision', 'Recall', 'F1 score']),ignore_index=True)\n",
        "\n",
        "P_per_cc, P, R_per_cc, R, F1_per_cc, F1 = calculate_metrics(df_ann_test_true, df_ann_bilstm1)\n",
        "df_results = df_results.append(pd.DataFrame(np.matrix(['Bilstm-crf approach 1',P,R,F1]), \n",
        "                                            columns=['Model', 'Precision', 'Recall', 'F1 score']),ignore_index=True)\n",
        "\n",
        "P_per_cc, P, R_per_cc, R, F1_per_cc, F1 = calculate_metrics(df_ann_test_true, df_ann_bilstm2)\n",
        "df_results = df_results.append(pd.DataFrame(np.matrix(['Bilstm-crf approach 2',P,R,F1]), \n",
        "                                            columns=['Model', 'Precision', 'Recall', 'F1 score']),ignore_index=True)\n",
        "\n",
        "P_per_cc, P, R_per_cc, R, F1_per_cc, F1 = calculate_metrics(df_ann_test_true, df_ann_bilstm3)\n",
        "df_results = df_results.append(pd.DataFrame(np.matrix(['Bilstm-crf approach 3',P,R,F1]), \n",
        "                                            columns=['Model', 'Precision', 'Recall', 'F1 score']),ignore_index=True)\n",
        "\n",
        "P_per_cc, P, R_per_cc, R, F1_per_cc, F1 = calculate_metrics(df_ann_test_true, df_ann_bert)\n",
        "df_results = df_results.append(pd.DataFrame(np.matrix(['Bert',P,R,F1]), \n",
        "                                            columns=['Model', 'Precision', 'Recall', 'F1 score']),ignore_index=True)\n"
      ],
      "execution_count": null,
      "outputs": []
    },
    {
      "cell_type": "code",
      "metadata": {
        "id": "ahO00CbK4a5Y",
        "colab_type": "code",
        "colab": {
          "base_uri": "https://localhost:8080/"
        },
        "outputId": "93a7dfae-ee5f-4333-b478-531b3033ed7e"
      },
      "source": [
        "df_results"
      ],
      "execution_count": null,
      "outputs": [
        {
          "output_type": "execute_result",
          "data": {
            "text/html": [
              "<div>\n",
              "<style scoped>\n",
              "    .dataframe tbody tr th:only-of-type {\n",
              "        vertical-align: middle;\n",
              "    }\n",
              "\n",
              "    .dataframe tbody tr th {\n",
              "        vertical-align: top;\n",
              "    }\n",
              "\n",
              "    .dataframe thead th {\n",
              "        text-align: right;\n",
              "    }\n",
              "</style>\n",
              "<table border=\"1\" class=\"dataframe\">\n",
              "  <thead>\n",
              "    <tr style=\"text-align: right;\">\n",
              "      <th></th>\n",
              "      <th>Model</th>\n",
              "      <th>Precision</th>\n",
              "      <th>Recall</th>\n",
              "      <th>F1 score</th>\n",
              "    </tr>\n",
              "  </thead>\n",
              "  <tbody>\n",
              "    <tr>\n",
              "      <th>0</th>\n",
              "      <td>Crf</td>\n",
              "      <td>0.8</td>\n",
              "      <td>0.768</td>\n",
              "      <td>0.783</td>\n",
              "    </tr>\n",
              "    <tr>\n",
              "      <th>1</th>\n",
              "      <td>Bilstm-crf approach 1</td>\n",
              "      <td>0.771</td>\n",
              "      <td>0.773</td>\n",
              "      <td>0.772</td>\n",
              "    </tr>\n",
              "    <tr>\n",
              "      <th>2</th>\n",
              "      <td>Bilstm-crf approach 2</td>\n",
              "      <td>0.828</td>\n",
              "      <td>0.769</td>\n",
              "      <td>0.797</td>\n",
              "    </tr>\n",
              "    <tr>\n",
              "      <th>3</th>\n",
              "      <td>Bilstm-crf approach 3</td>\n",
              "      <td>0.784</td>\n",
              "      <td>0.759</td>\n",
              "      <td>0.771</td>\n",
              "    </tr>\n",
              "    <tr>\n",
              "      <th>4</th>\n",
              "      <td>Bert</td>\n",
              "      <td>0.756</td>\n",
              "      <td>0.775</td>\n",
              "      <td>0.765</td>\n",
              "    </tr>\n",
              "  </tbody>\n",
              "</table>\n",
              "</div>"
            ],
            "text/plain": [
              "                   Model Precision Recall F1 score\n",
              "0                    Crf       0.8  0.768    0.783\n",
              "1  Bilstm-crf approach 1     0.771  0.773    0.772\n",
              "2  Bilstm-crf approach 2     0.828  0.769    0.797\n",
              "3  Bilstm-crf approach 3     0.784  0.759    0.771\n",
              "4                   Bert     0.756  0.775    0.765"
            ]
          },
          "metadata": {
            "tags": []
          },
          "execution_count": 65
        }
      ]
    },
    {
      "cell_type": "code",
      "metadata": {
        "id": "ne36clz46N7c",
        "colab_type": "code",
        "colab": {}
      },
      "source": [
        ""
      ],
      "execution_count": null,
      "outputs": []
    }
  ]
}