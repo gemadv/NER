{
  "nbformat": 4,
  "nbformat_minor": 0,
  "metadata": {
    "colab": {
      "name": "Preprocessing_NER_Cantemist.ipynb",
      "provenance": [],
      "collapsed_sections": [
        "CRntenQMv9fb",
        "7elpNN5y5nrQ",
        "LUyYBpK1NYg1"
      ]
    },
    "kernelspec": {
      "name": "python3",
      "display_name": "Python 3"
    }
  },
  "cells": [
    {
      "cell_type": "markdown",
      "metadata": {
        "id": "-LGVaDj6PupB",
        "colab_type": "text"
      },
      "source": [
        "# **Preprocessing_NER**\n",
        "\n",
        "## **Author:** Gema De Vargas Romero\n",
        "\n",
        "## **Master Thesis:** \"Development of a Named Entity Recognition System to automatically assign tumor morphology entity mentions to health-related documents in Spanish.\" \n"
      ]
    },
    {
      "cell_type": "code",
      "metadata": {
        "id": "05N_SwgGTL6t",
        "colab_type": "code",
        "colab": {
          "base_uri": "https://localhost:8080/",
          "height": 734
        },
        "outputId": "34ba9f1a-9223-4599-bda7-f1dacc7cb389"
      },
      "source": [
        "from google.colab import drive\n",
        "drive.mount(\"/content/drive/\")\n",
        "\n",
        "path='drive/My Drive/Ejemplos NER - TFM/'\n",
        "!ls 'drive/My Drive/Ejemplos NER - TFM/'"
      ],
      "execution_count": null,
      "outputs": [
        {
          "output_type": "stream",
          "text": [
            "Go to this URL in a browser: https://accounts.google.com/o/oauth2/auth?client_id=947318989803-6bn6qk8qdgf4n4g3pfee6491hc0brc4i.apps.googleusercontent.com&redirect_uri=urn%3aietf%3awg%3aoauth%3a2.0%3aoob&scope=email%20https%3a%2f%2fwww.googleapis.com%2fauth%2fdocs.test%20https%3a%2f%2fwww.googleapis.com%2fauth%2fdrive%20https%3a%2f%2fwww.googleapis.com%2fauth%2fdrive.photos.readonly%20https%3a%2f%2fwww.googleapis.com%2fauth%2fpeopleapi.readonly&response_type=code\n",
            "\n",
            "Enter your authorization code:\n",
            "··········\n",
            "Mounted at /content/drive/\n",
            " bert\n",
            " check_results2.ipynb\n",
            " check_results.ipynb\n",
            " data\n",
            " dev_set\n",
            " dev_set2\n",
            "'Dictionary based NER (spacy).ipynb'\n",
            "'Ehealth_Dictionary based NER (spacy).ipynb'\n",
            " last_step_cantemist.ipynb\n",
            " last_step_cantemist_TEST.ipynb\n",
            " NER_by_BERT_Cantemist_BIOESV.ipynb\n",
            " NER_by_BERT_Cantemist_Competicion.ipynb\n",
            " NER_by_BERT_Cantemist.ipynb\n",
            " NER_by_BI_LSTM_CRF_Cantemist_BIOESV_2.ipynb\n",
            " NER_by_BI_LSTM_CRF_Cantemist_BIOESV.ipynb\n",
            " NER_by_BI_LSTM_CRF_Cantemist_Competicion.ipynb\n",
            " NER_by_BI_LSTM_CRF_Cantemist.ipynb\n",
            " NER_by_CRF_Cantemist_Competicion.ipynb\n",
            " NER_by_CRF_Cantemist.ipynb\n",
            " NER_by_CRF_Ehealth.ipynb\n",
            " NER_by_CRF.ipynb\n",
            " Preprocessing_NER_Cantemist.ipynb\n",
            " resources\n",
            " results_bert\n",
            " results_bert2\n",
            " results_BILSTM_ap1\n",
            " results_BILSTM_ap2\n",
            " results_BILSTM_ap3\n",
            " results_CRF\n",
            " sample_set\n",
            " Scielo+Wiki_skipgram_cased.bin\n",
            " Scielo+Wiki_skipgram_cased.vec\n",
            " test-background-set-to-publish\n",
            " test_set\n",
            " test_set_predictions\n",
            " train_set\n"
          ],
          "name": "stdout"
        }
      ]
    },
    {
      "cell_type": "markdown",
      "metadata": {
        "id": "5Mt4hDPDvdSb",
        "colab_type": "text"
      },
      "source": [
        "## **Loading libraries**"
      ]
    },
    {
      "cell_type": "code",
      "metadata": {
        "id": "EtRt1ONNabh8",
        "colab_type": "code",
        "colab": {
          "base_uri": "https://localhost:8080/",
          "height": 207
        },
        "outputId": "ee934a85-18e3-450e-a36a-aea246125250"
      },
      "source": [
        "!pip install sklearn-crfsuite\n",
        "from sklearn.model_selection import train_test_split\n",
        "from sklearn_crfsuite import CRF\n",
        "from sklearn_crfsuite.metrics import flat_f1_score\n",
        "from sklearn_crfsuite.metrics import flat_precision_score\n",
        "from sklearn_crfsuite.metrics import flat_recall_score\n",
        "from sklearn_crfsuite.metrics import flat_classification_report\n",
        "import numpy as np\n",
        "import pandas as pd\n",
        "import time\n",
        "import random\n",
        "#import nltk\n",
        "import matplotlib.pyplot as plt"
      ],
      "execution_count": null,
      "outputs": [
        {
          "output_type": "stream",
          "text": [
            "Collecting sklearn-crfsuite\n",
            "  Downloading https://files.pythonhosted.org/packages/25/74/5b7befa513482e6dee1f3dd68171a6c9dfc14c0eaa00f885ffeba54fe9b0/sklearn_crfsuite-0.3.6-py2.py3-none-any.whl\n",
            "Requirement already satisfied: tabulate in /usr/local/lib/python3.6/dist-packages (from sklearn-crfsuite) (0.8.7)\n",
            "Requirement already satisfied: tqdm>=2.0 in /usr/local/lib/python3.6/dist-packages (from sklearn-crfsuite) (4.41.1)\n",
            "Collecting python-crfsuite>=0.8.3\n",
            "\u001b[?25l  Downloading https://files.pythonhosted.org/packages/95/99/869dde6dbf3e0d07a013c8eebfb0a3d30776334e0097f8432b631a9a3a19/python_crfsuite-0.9.7-cp36-cp36m-manylinux1_x86_64.whl (743kB)\n",
            "\u001b[K     |████████████████████████████████| 747kB 2.0MB/s \n",
            "\u001b[?25hRequirement already satisfied: six in /usr/local/lib/python3.6/dist-packages (from sklearn-crfsuite) (1.15.0)\n",
            "Installing collected packages: python-crfsuite, sklearn-crfsuite\n",
            "Successfully installed python-crfsuite-0.9.7 sklearn-crfsuite-0.3.6\n"
          ],
          "name": "stdout"
        }
      ]
    },
    {
      "cell_type": "code",
      "metadata": {
        "id": "xzcWUWl2aWqM",
        "colab_type": "code",
        "colab": {
          "base_uri": "https://localhost:8080/",
          "height": 1000
        },
        "outputId": "a762ea5c-5cc2-4ddb-fb64-c3a37bd87b91"
      },
      "source": [
        "# Library spacy\n",
        "!pip install -U spacy \n",
        "#!python -m spacy validate\n",
        "!python -m spacy download es_core_news_lg\n",
        "import spacy\n",
        "\n",
        "# nlp = spacy.load(\"es\") # no longer works with updated version of spacy 2.3.1\n",
        "import es_core_news_lg\n",
        "nlp = es_core_news_lg.load()"
      ],
      "execution_count": null,
      "outputs": [
        {
          "output_type": "stream",
          "text": [
            "Collecting spacy\n",
            "\u001b[?25l  Downloading https://files.pythonhosted.org/packages/10/b5/c7a92c7ce5d4b353b70b4b5b4385687206c8b230ddfe08746ab0fd310a3a/spacy-2.3.2-cp36-cp36m-manylinux1_x86_64.whl (9.9MB)\n",
            "\u001b[K     |████████████████████████████████| 10.0MB 1.8MB/s \n",
            "\u001b[?25hCollecting thinc==7.4.1\n",
            "\u001b[?25l  Downloading https://files.pythonhosted.org/packages/10/ae/ef3ae5e93639c0ef8e3eb32e3c18341e511b3c515fcfc603f4b808087651/thinc-7.4.1-cp36-cp36m-manylinux1_x86_64.whl (2.1MB)\n",
            "\u001b[K     |████████████████████████████████| 2.1MB 36.1MB/s \n",
            "\u001b[?25hRequirement already satisfied, skipping upgrade: requests<3.0.0,>=2.13.0 in /usr/local/lib/python3.6/dist-packages (from spacy) (2.23.0)\n",
            "Requirement already satisfied, skipping upgrade: cymem<2.1.0,>=2.0.2 in /usr/local/lib/python3.6/dist-packages (from spacy) (2.0.3)\n",
            "Requirement already satisfied, skipping upgrade: catalogue<1.1.0,>=0.0.7 in /usr/local/lib/python3.6/dist-packages (from spacy) (1.0.0)\n",
            "Requirement already satisfied, skipping upgrade: plac<1.2.0,>=0.9.6 in /usr/local/lib/python3.6/dist-packages (from spacy) (1.1.3)\n",
            "Requirement already satisfied, skipping upgrade: blis<0.5.0,>=0.4.0 in /usr/local/lib/python3.6/dist-packages (from spacy) (0.4.1)\n",
            "Requirement already satisfied, skipping upgrade: wasabi<1.1.0,>=0.4.0 in /usr/local/lib/python3.6/dist-packages (from spacy) (0.7.1)\n",
            "Requirement already satisfied, skipping upgrade: murmurhash<1.1.0,>=0.28.0 in /usr/local/lib/python3.6/dist-packages (from spacy) (1.0.2)\n",
            "Requirement already satisfied, skipping upgrade: numpy>=1.15.0 in /usr/local/lib/python3.6/dist-packages (from spacy) (1.18.5)\n",
            "Requirement already satisfied, skipping upgrade: preshed<3.1.0,>=3.0.2 in /usr/local/lib/python3.6/dist-packages (from spacy) (3.0.2)\n",
            "Requirement already satisfied, skipping upgrade: setuptools in /usr/local/lib/python3.6/dist-packages (from spacy) (49.2.0)\n",
            "Requirement already satisfied, skipping upgrade: srsly<1.1.0,>=1.0.2 in /usr/local/lib/python3.6/dist-packages (from spacy) (1.0.2)\n",
            "Requirement already satisfied, skipping upgrade: tqdm<5.0.0,>=4.38.0 in /usr/local/lib/python3.6/dist-packages (from spacy) (4.41.1)\n",
            "Requirement already satisfied, skipping upgrade: idna<3,>=2.5 in /usr/local/lib/python3.6/dist-packages (from requests<3.0.0,>=2.13.0->spacy) (2.10)\n",
            "Requirement already satisfied, skipping upgrade: certifi>=2017.4.17 in /usr/local/lib/python3.6/dist-packages (from requests<3.0.0,>=2.13.0->spacy) (2020.6.20)\n",
            "Requirement already satisfied, skipping upgrade: urllib3!=1.25.0,!=1.25.1,<1.26,>=1.21.1 in /usr/local/lib/python3.6/dist-packages (from requests<3.0.0,>=2.13.0->spacy) (1.24.3)\n",
            "Requirement already satisfied, skipping upgrade: chardet<4,>=3.0.2 in /usr/local/lib/python3.6/dist-packages (from requests<3.0.0,>=2.13.0->spacy) (3.0.4)\n",
            "Requirement already satisfied, skipping upgrade: importlib-metadata>=0.20; python_version < \"3.8\" in /usr/local/lib/python3.6/dist-packages (from catalogue<1.1.0,>=0.0.7->spacy) (1.7.0)\n",
            "Requirement already satisfied, skipping upgrade: zipp>=0.5 in /usr/local/lib/python3.6/dist-packages (from importlib-metadata>=0.20; python_version < \"3.8\"->catalogue<1.1.0,>=0.0.7->spacy) (3.1.0)\n",
            "Installing collected packages: thinc, spacy\n",
            "  Found existing installation: thinc 7.4.0\n",
            "    Uninstalling thinc-7.4.0:\n",
            "      Successfully uninstalled thinc-7.4.0\n",
            "  Found existing installation: spacy 2.2.4\n",
            "    Uninstalling spacy-2.2.4:\n",
            "      Successfully uninstalled spacy-2.2.4\n",
            "Successfully installed spacy-2.3.2 thinc-7.4.1\n",
            "Collecting es_core_news_lg==2.3.1\n",
            "\u001b[?25l  Downloading https://github.com/explosion/spacy-models/releases/download/es_core_news_lg-2.3.1/es_core_news_lg-2.3.1.tar.gz (573.1MB)\n",
            "\u001b[K     |████████████████████████████████| 573.1MB 1.2MB/s \n",
            "\u001b[?25hRequirement already satisfied: spacy<2.4.0,>=2.3.0 in /usr/local/lib/python3.6/dist-packages (from es_core_news_lg==2.3.1) (2.3.2)\n",
            "Requirement already satisfied: requests<3.0.0,>=2.13.0 in /usr/local/lib/python3.6/dist-packages (from spacy<2.4.0,>=2.3.0->es_core_news_lg==2.3.1) (2.23.0)\n",
            "Requirement already satisfied: preshed<3.1.0,>=3.0.2 in /usr/local/lib/python3.6/dist-packages (from spacy<2.4.0,>=2.3.0->es_core_news_lg==2.3.1) (3.0.2)\n",
            "Requirement already satisfied: wasabi<1.1.0,>=0.4.0 in /usr/local/lib/python3.6/dist-packages (from spacy<2.4.0,>=2.3.0->es_core_news_lg==2.3.1) (0.7.1)\n",
            "Requirement already satisfied: cymem<2.1.0,>=2.0.2 in /usr/local/lib/python3.6/dist-packages (from spacy<2.4.0,>=2.3.0->es_core_news_lg==2.3.1) (2.0.3)\n",
            "Requirement already satisfied: setuptools in /usr/local/lib/python3.6/dist-packages (from spacy<2.4.0,>=2.3.0->es_core_news_lg==2.3.1) (49.2.0)\n",
            "Requirement already satisfied: tqdm<5.0.0,>=4.38.0 in /usr/local/lib/python3.6/dist-packages (from spacy<2.4.0,>=2.3.0->es_core_news_lg==2.3.1) (4.41.1)\n",
            "Requirement already satisfied: plac<1.2.0,>=0.9.6 in /usr/local/lib/python3.6/dist-packages (from spacy<2.4.0,>=2.3.0->es_core_news_lg==2.3.1) (1.1.3)\n",
            "Requirement already satisfied: thinc==7.4.1 in /usr/local/lib/python3.6/dist-packages (from spacy<2.4.0,>=2.3.0->es_core_news_lg==2.3.1) (7.4.1)\n",
            "Requirement already satisfied: srsly<1.1.0,>=1.0.2 in /usr/local/lib/python3.6/dist-packages (from spacy<2.4.0,>=2.3.0->es_core_news_lg==2.3.1) (1.0.2)\n",
            "Requirement already satisfied: catalogue<1.1.0,>=0.0.7 in /usr/local/lib/python3.6/dist-packages (from spacy<2.4.0,>=2.3.0->es_core_news_lg==2.3.1) (1.0.0)\n",
            "Requirement already satisfied: blis<0.5.0,>=0.4.0 in /usr/local/lib/python3.6/dist-packages (from spacy<2.4.0,>=2.3.0->es_core_news_lg==2.3.1) (0.4.1)\n",
            "Requirement already satisfied: murmurhash<1.1.0,>=0.28.0 in /usr/local/lib/python3.6/dist-packages (from spacy<2.4.0,>=2.3.0->es_core_news_lg==2.3.1) (1.0.2)\n",
            "Requirement already satisfied: numpy>=1.15.0 in /usr/local/lib/python3.6/dist-packages (from spacy<2.4.0,>=2.3.0->es_core_news_lg==2.3.1) (1.18.5)\n",
            "Requirement already satisfied: urllib3!=1.25.0,!=1.25.1,<1.26,>=1.21.1 in /usr/local/lib/python3.6/dist-packages (from requests<3.0.0,>=2.13.0->spacy<2.4.0,>=2.3.0->es_core_news_lg==2.3.1) (1.24.3)\n",
            "Requirement already satisfied: chardet<4,>=3.0.2 in /usr/local/lib/python3.6/dist-packages (from requests<3.0.0,>=2.13.0->spacy<2.4.0,>=2.3.0->es_core_news_lg==2.3.1) (3.0.4)\n",
            "Requirement already satisfied: certifi>=2017.4.17 in /usr/local/lib/python3.6/dist-packages (from requests<3.0.0,>=2.13.0->spacy<2.4.0,>=2.3.0->es_core_news_lg==2.3.1) (2020.6.20)\n",
            "Requirement already satisfied: idna<3,>=2.5 in /usr/local/lib/python3.6/dist-packages (from requests<3.0.0,>=2.13.0->spacy<2.4.0,>=2.3.0->es_core_news_lg==2.3.1) (2.10)\n",
            "Requirement already satisfied: importlib-metadata>=0.20; python_version < \"3.8\" in /usr/local/lib/python3.6/dist-packages (from catalogue<1.1.0,>=0.0.7->spacy<2.4.0,>=2.3.0->es_core_news_lg==2.3.1) (1.7.0)\n",
            "Requirement already satisfied: zipp>=0.5 in /usr/local/lib/python3.6/dist-packages (from importlib-metadata>=0.20; python_version < \"3.8\"->catalogue<1.1.0,>=0.0.7->spacy<2.4.0,>=2.3.0->es_core_news_lg==2.3.1) (3.1.0)\n",
            "Building wheels for collected packages: es-core-news-lg\n",
            "  Building wheel for es-core-news-lg (setup.py) ... \u001b[?25l\u001b[?25hdone\n",
            "  Created wheel for es-core-news-lg: filename=es_core_news_lg-2.3.1-cp36-none-any.whl size=573139081 sha256=6f52d840e1567471adab587c36f274eb06ae5cb2855971c493b55740f4ab2da2\n",
            "  Stored in directory: /tmp/pip-ephem-wheel-cache-2fnfqehp/wheels/48/59/33/558e7f48e924c6cac0cbd3679ee7c84f5ae02964c335232e5a\n",
            "Successfully built es-core-news-lg\n",
            "Installing collected packages: es-core-news-lg\n",
            "Successfully installed es-core-news-lg-2.3.1\n",
            "\u001b[38;5;2m✔ Download and installation successful\u001b[0m\n",
            "You can now load the model via spacy.load('es_core_news_lg')\n"
          ],
          "name": "stdout"
        }
      ]
    },
    {
      "cell_type": "markdown",
      "metadata": {
        "id": "MtJ16mqaHHlr",
        "colab_type": "text"
      },
      "source": [
        "## **Cantemist dataset:**\n",
        "\n",
        "Training foulder:\n",
        "\n",
        "The annotated files can have Entities and Relations.\n",
        "\n",
        "The entity can be formed by more than one word. The position of each word is separated by ';'\n",
        "\n",
        "\n",
        "The start-offset is the index of the first character of the annotated span in the text \n",
        "\n",
        "The end-offset is the index of the first character after the annotated span. Thus, the character in the end-offset position is not included in the annotated span\n"
      ]
    },
    {
      "cell_type": "markdown",
      "metadata": {
        "id": "z9hXs_pfulDO",
        "colab_type": "text"
      },
      "source": [
        "### **Loading the files**"
      ]
    },
    {
      "cell_type": "code",
      "metadata": {
        "id": "6z9PtvSUzrcd",
        "colab_type": "code",
        "colab": {}
      },
      "source": [
        "def read_data_ann(files_txt, files_ann):\n",
        "  data_txt = []\n",
        "  ann = []\n",
        "\n",
        "  # Reading .txt files\n",
        "  for file in files_txt:     \n",
        "    f=open(file, mode = 'r')  \n",
        "    data_txt.append(f.read())\n",
        "    f.close()\n",
        "\n",
        "  # Reading .ann files\n",
        "  for file in files_ann:     \n",
        "    f=open(file, mode = 'r')\n",
        "    lines = f.readlines()\n",
        "    ann_aux = []\n",
        "\n",
        "    for line in lines:\n",
        "      # We are only interested in keeping the entities: ID starts by T.\n",
        "      # Remove relations: starting by R     \n",
        "      if str(line[0])== 'T':\n",
        "        data_ann = line.split(\"\\t\")\n",
        "        ann_aux.append(data_ann)  \n",
        "\n",
        "    ann.append(ann_aux)   \n",
        "    f.close()\n",
        "\n",
        "  return data_txt, ann"
      ],
      "execution_count": null,
      "outputs": []
    },
    {
      "cell_type": "markdown",
      "metadata": {
        "id": "5hKX13Yq02TU",
        "colab_type": "text"
      },
      "source": [
        "#### **Reading the train files**"
      ]
    },
    {
      "cell_type": "code",
      "metadata": {
        "id": "HAj1a1M84bEw",
        "colab_type": "code",
        "colab": {}
      },
      "source": [
        "# READING THE .txt AND .ann FILES\n",
        "\n",
        "path_Cantemist_train = path+\"train_set/cantemist-ner/\"\n",
        "\n",
        "# code to read all the files in this folder\n",
        "# There are 501 annotated files (.ann) and 501 txt file\n",
        "# The txt and ann files share the same name.  Ex. cc_onco85.ann and cc_onco85.txt\n",
        "\n",
        "import glob   \n",
        "\n",
        "path_txt_train = path_Cantemist_train +'*.txt'   \n",
        "path_ann_train = path_Cantemist_train +'*.ann'  \n",
        "\n",
        "files_txt_train = glob.glob(path_txt_train)   \n",
        "files_ann_train = glob.glob(path_ann_train)   \n",
        "\n",
        "# Sort the files to read the .txt and .ann files in the same order\n",
        "files_txt_train = sorted(files_txt_train)\n",
        "files_ann_train = sorted(files_ann_train)\n",
        "\n",
        "data_txt_train, ann_train = read_data_ann(files_txt_train, files_ann_train)"
      ],
      "execution_count": null,
      "outputs": []
    },
    {
      "cell_type": "code",
      "metadata": {
        "id": "6UY84ky47iEr",
        "colab_type": "code",
        "colab": {
          "base_uri": "https://localhost:8080/",
          "height": 119
        },
        "outputId": "367b2646-fdde-4f9a-ed73-fe03b2bccd87"
      },
      "source": [
        "# Storing the names of the txt files into a list: names_txt\n",
        "len_path = len(path_Cantemist_train)\n",
        "names_txt_train = [files_txt_train[i][len_path:] for i in range(len(files_txt_train))]\n",
        "print(names_txt_train[:3]) # the names of the files with the sentences\n",
        "\n",
        "# Storing the names of the ann files into a list: names_txt\n",
        "names_ann_train = [files_ann_train[i][len_path:] for i in range(len(files_ann_train))]\n",
        "print(names_ann_train[:3]) # the names of the files with the sentences\n",
        "\n",
        "# As it can be observed there are pairs of .txt and .ann files stored with the same name \n",
        "# Before reading them, they were sorted so they were read in the same order\n",
        "\n",
        "print(\"\\nNumber of .txt files read: %d\" %len(files_txt_train))\n",
        "print(\"\\nNumber of .ann files read: %d\" %len(files_ann_train))"
      ],
      "execution_count": null,
      "outputs": [
        {
          "output_type": "stream",
          "text": [
            "['cc_onco1.txt', 'cc_onco10.txt', 'cc_onco1000.txt']\n",
            "['cc_onco1.ann', 'cc_onco10.ann', 'cc_onco1000.ann']\n",
            "\n",
            "Number of .txt files read: 501\n",
            "\n",
            "Number of .ann files read: 501\n"
          ],
          "name": "stdout"
        }
      ]
    },
    {
      "cell_type": "markdown",
      "metadata": {
        "id": "iB5txhMDTJ0d",
        "colab_type": "text"
      },
      "source": [
        "**Example file 60:**\n",
        "\n",
        "**1. txt file: data_txt[59]**\n",
        "\n",
        "Anamnesis\n",
        "Varón de 57 años, residente en núcleo rural y agricultor de profesión, refería contacto habitual con fertilizantes. No tenía alergias medicamentosas conocidas ni antecedentes personales de interés, salvo la extirpación de un carcinoma basocelular de la mejilla derecha en 2013.\n",
        "No tomaba tratamiento médico habitual.\n",
        "Consultó en su médico de atención primaria por disfagia mixta progresiva de 12 meses de evolución sin otra clínica acompañante. Había perdido 14 kg en los últimos 8 meses de manera voluntaria.\n",
        "El resto de la anamnesis por aparatos no reflejaba datos relevantes.\n",
        "\n",
        "Exploración física\n",
        "El paciente presentaba buen estado general, ECOG1, y la exploración física rsultaba anodina. El abdomen era blando y depresible, no doloroso y no se palpaban masas ni megalias.\n",
        "\n",
        "Pruebas complementarias\n",
        "» La primera prueba complementaria realizada fue una gastroscopia que demostraba la presencia de una lesión exofítica irregular, dura y friable a 35 cm de la arcada dental, en la unión esofagogástrica (UGE), que impedía el paso del endoscopio. Las biopsias tomadas de la lesión fueron compatibles con adenocarcinoma indiferenciado.\n",
        "» El estudio se completó con una TC toracoabdominal que confirmaba la presencia de un tumor en la unión esofagogástrica y de adenopatías yuxtaesofágicas y en ligamento gastrohepático. No se identificaban metástasis a distancia.\n",
        "» Los marcadores tumorales (CEA y Ca 19,9) se encontraban dentro de los límites de la normalidad.\n",
        "\n",
        "Diagnóstico\n",
        "Con el diagnóstico de adecarcinoma indiferenciado de UGE localmente avanzado (cT3N+) se presentó en el Comité Multidisciplinar de Tumores esofagogástricos y se optó por la intervención quirúrgica.\n",
        "\n",
        "Tratamiento\n",
        "Se realizó una esofaguectomía total y gastrectomía de tercio superior tipo Ivor-Lewis.\n",
        "\n",
        "El estudio anatomopatológico de la pieza quirúrgica mostraba un patrón glandular compatible con adenocarcinoma pobremente diferenciado grado 3 difuso con células en anillo de sello de la UGE que infiltraba todas las capas de la mucosa gástrica. Presentaba extensa linfangitis carcinomatosa extramural, infiltración de linfáticos perineurales e infiltración metastásica en 15 de los 23 ganglios extirpados por células de adenocarcinoma. Por la clasificación TNM se trataba de un pT3N3, estadio IIIC.\n",
        "\n",
        "El análisis inmunohistoquímico, sin embargo, revelaba positividad par citoqueratina 7 y de forma extensa y difusa positividad para sinaptofisina, cromogranina y E-cadherina en las membranas celulares; el Ki-67% era superior al 60% en más del 30% de las células. HER-2 no estaba amplificado.\n",
        "Todo ello confería al tumor una diferenciación neuroendocrina.\n",
        "Teniendo en cuenta el resultado IHQ y el patrón aquitectural de la muestra, el diagnóstico final fue de tumor mixto: adenocarcinoma pobremente diferenciado con células en anillo de sello y carcinoma neuroendocrino con Ki-67 del 60% de la UGE (MANEC). pT3N3. Estadio IIIC.\n",
        "\n",
        "Evolución\n",
        "Ante el diagnóstico definitivo y atendiendo a la agresividad de ambos componentes histológicos, optamos por un esquema de quimioterapia activo frente a ambos componentes basado en cisplatino y capecitabina adyuvantes; tratamiento que continua recibiendo actualmente con buena tolerancia.\n",
        "\n",
        "**2. annotation file: ann[59]**"
      ]
    },
    {
      "cell_type": "code",
      "metadata": {
        "id": "iv1WjRgZO8cp",
        "colab_type": "code",
        "colab": {
          "base_uri": "https://localhost:8080/",
          "height": 442
        },
        "outputId": "d92e8bdd-c4f0-44cf-fc1a-0423f5ad413d"
      },
      "source": [
        "ann_train[59]"
      ],
      "execution_count": null,
      "outputs": [
        {
          "output_type": "execute_result",
          "data": {
            "text/plain": [
              "[['T1', 'MORFOLOGIA_NEOPLASIA 2200 2214', 'adenocarcinoma\\n'],\n",
              " ['T2', 'MORFOLOGIA_NEOPLASIA 235 256', 'carcinoma basocelular\\n'],\n",
              " ['T3', 'MORFOLOGIA_NEOPLASIA 2823 2847', 'carcinoma neuroendocrino\\n'],\n",
              " ['T4', 'MORFOLOGIA_NEOPLASIA 2044 2069', 'linfangitis carcinomatosa\\n'],\n",
              " ['T5', 'MORFOLOGIA_NEOPLASIA 2137 2148', 'metastásica\\n'],\n",
              " ['T6', 'MORFOLOGIA_NEOPLASIA 1347 1357', 'metástasis\\n'],\n",
              " ['T7', 'MORFOLOGIA_NEOPLASIA 1229 1234', 'tumor\\n'],\n",
              " ['T8', 'MORFOLOGIA_NEOPLASIA 2738 2749', 'tumor mixto\\n'],\n",
              " ['T9', 'MORFOLOGIA_NEOPLASIA 1112 1141', 'adenocarcinoma indiferenciado\\n'],\n",
              " ['T10', 'MORFOLOGIA_NEOPLASIA 1504 1531', 'adecarcinoma indiferenciado\\n'],\n",
              " ['T11',\n",
              "  'MORFOLOGIA_NEOPLASIA 1876 1960',\n",
              "  'adenocarcinoma pobremente diferenciado grado 3 difuso con células en anillo de sello\\n'],\n",
              " ['T12',\n",
              "  'MORFOLOGIA_NEOPLASIA 2593 2632',\n",
              "  'tumor una diferenciación neuroendocrina\\n'],\n",
              " ['T13',\n",
              "  'MORFOLOGIA_NEOPLASIA 2751 2820',\n",
              "  'adenocarcinoma pobremente diferenciado con células en anillo de sello\\n'],\n",
              " ['T14',\n",
              "  'MORFOLOGIA_NEOPLASIA 1876 1929',\n",
              "  'adenocarcinoma pobremente diferenciado grado 3 difuso\\n'],\n",
              " ['T15',\n",
              "  'MORFOLOGIA_NEOPLASIA 2738 2847',\n",
              "  'tumor mixto: adenocarcinoma pobremente diferenciado con células en anillo de sello y carcinoma neuroendocrino\\n']]"
            ]
          },
          "metadata": {
            "tags": []
          },
          "execution_count": 8
        }
      ]
    },
    {
      "cell_type": "code",
      "metadata": {
        "id": "jtnoKZbM9xpm",
        "colab_type": "code",
        "colab": {
          "base_uri": "https://localhost:8080/",
          "height": 156
        },
        "outputId": "abab2885-8788-42a2-923d-714e9b24c54e"
      },
      "source": [
        "# Example employing the first file: \n",
        "print(\"Name of the first file is: %s\" %names_txt_train[0])\n",
        "\n",
        "print(\"\\nIts corresponding annotated file is:\\n\")\n",
        "print(ann_train[0])\n",
        "\n",
        "# This annotated file states that there are 12 entities in the first file (BRAT format)\n",
        "# first column: Entity ID\n",
        "# second column: Entity Type\n",
        "# Third column: Start_End_offset\n",
        "# fourth column: Entity (formed by one or various words)\n",
        "\n",
        "# The first line indicates that there is an entity \"carcinoma renal de células claras\" in the txt\n",
        "# file, that starts at character 4603 and ends at character 4636 and is formed by 5 words\n",
        "print(\"\\nThe characters in the position defined by the first entity are: %s\" %(data_txt_train[0][4603:4636]))\n",
        "\n",
        "# Indeed, they are the same"
      ],
      "execution_count": null,
      "outputs": [
        {
          "output_type": "stream",
          "text": [
            "Name of the first file is: cc_onco1.txt\n",
            "\n",
            "Its corresponding annotated file is:\n",
            "\n",
            "[['T1', 'MORFOLOGIA_NEOPLASIA 2719 2740', 'Carcinoma microcítico\\n'], ['T2', 'MORFOLOGIA_NEOPLASIA 2950 2971', 'carcinoma microcítico\\n'], ['T3', 'MORFOLOGIA_NEOPLASIA 2988 2990', 'M0\\n']]\n",
            "\n",
            "The characters in the position defined by the first entity are: echo y un nódulo de 7 mm en lóbul\n"
          ],
          "name": "stdout"
        }
      ]
    },
    {
      "cell_type": "markdown",
      "metadata": {
        "id": "CRntenQMv9fb",
        "colab_type": "text"
      },
      "source": [
        "#### **Reading the development files**"
      ]
    },
    {
      "cell_type": "code",
      "metadata": {
        "id": "pFdYrUBIwSXv",
        "colab_type": "code",
        "colab": {}
      },
      "source": [
        "# READING THE .txt AND .ann FILES\n",
        "\n",
        "path_Cantemist_dev = path+\"dev_set/cantemist-ner/\"\n",
        "\n",
        "# code to read all the files in this folder\n",
        "# There are 501 annotated files (.ann) and 501 txt file\n",
        "# The txt and ann files share the same name.  Ex. cc_onco85.ann and cc_onco85.txt\n",
        "\n",
        "import glob   \n",
        "\n",
        "path_txt_dev = path_Cantemist_dev +'*.txt'   \n",
        "path_ann_dev = path_Cantemist_dev +'*.ann'  \n",
        "\n",
        "files_txt_dev = glob.glob(path_txt_dev)   \n",
        "files_ann_dev = glob.glob(path_ann_dev)   \n",
        "\n",
        "# Sort the files to read the .txt and .ann files in the same order\n",
        "files_txt_dev = sorted(files_txt_dev)\n",
        "files_ann_dev = sorted(files_ann_dev)\n",
        "\n",
        "data_txt_dev, ann_dev = read_data_ann(files_txt_dev, files_ann_dev)"
      ],
      "execution_count": null,
      "outputs": []
    },
    {
      "cell_type": "code",
      "metadata": {
        "id": "nN2DcI48xAAZ",
        "colab_type": "code",
        "colab": {
          "base_uri": "https://localhost:8080/",
          "height": 119
        },
        "outputId": "bf2e1bd1-5384-4b87-b770-7c513a20334a"
      },
      "source": [
        "# Storing the names of the txt files into a list: names_txt\n",
        "len_path = len(path_Cantemist_dev)\n",
        "names_txt_dev = [files_txt_dev[i][len_path:] for i in range(len(files_txt_dev))]\n",
        "print(names_txt_dev[:3]) # the names of the files with the sentences\n",
        "\n",
        "# Storing the names of the ann files into a list: names_txt\n",
        "names_ann_dev = [files_ann_dev[i][len_path:] for i in range(len(files_ann_dev))]\n",
        "print(names_ann_dev[:3]) # the names of the files with the sentences\n",
        "\n",
        "# As it can be observed there are pairs of .txt and .ann files stored with the same name \n",
        "# Before reading them, they were sorted so they were read in the same order\n",
        "\n",
        "print(\"\\nNumber of .txt files read: %d\" %len(files_txt_dev))\n",
        "print(\"\\nNumber of .ann files read: %d\" %len(files_ann_dev))"
      ],
      "execution_count": null,
      "outputs": [
        {
          "output_type": "stream",
          "text": [
            "['cc_onco100.txt', 'cc_onco101.txt', 'cc_onco106.txt']\n",
            "['cc_onco100.ann', 'cc_onco101.ann', 'cc_onco106.ann']\n",
            "\n",
            "Number of .txt files read: 250\n",
            "\n",
            "Number of .ann files read: 250\n"
          ],
          "name": "stdout"
        }
      ]
    },
    {
      "cell_type": "code",
      "metadata": {
        "id": "QBGLQbsC-4Qu",
        "colab_type": "code",
        "colab": {
          "base_uri": "https://localhost:8080/",
          "height": 323
        },
        "outputId": "300161c6-7b3f-40bc-d7c6-66efc50e362a"
      },
      "source": [
        "ann_dev[0]"
      ],
      "execution_count": null,
      "outputs": [
        {
          "output_type": "execute_result",
          "data": {
            "text/plain": [
              "[['T1', 'MORFOLOGIA_NEOPLASIA 2428 2445', 'lesiones cutáneas\\n'],\n",
              " ['T2',\n",
              "  'MORFOLOGIA_NEOPLASIA 994 1030',\n",
              "  'lesiones osteoblásticas en la calota\\n'],\n",
              " ['T3', 'MORFOLOGIA_NEOPLASIA 1700 1719', 'lesiones pulmonares\\n'],\n",
              " ['T4', 'MORFOLOGIA_NEOPLASIA 1253 1267', 'lesión cutánea\\n'],\n",
              " ['T5', 'MORFOLOGIA_NEOPLASIA 273 284', 'metastásica\\n'],\n",
              " ['T6', 'MORFOLOGIA_NEOPLASIA 826 837', 'metastásica\\n'],\n",
              " ['T7', 'MORFOLOGIA_NEOPLASIA 938 949', 'metastásica\\n'],\n",
              " ['T8', 'MORFOLOGIA_NEOPLASIA 1283 1307', 'metástasis por carcinoma\\n'],\n",
              " ['T9',\n",
              "  'MORFOLOGIA_NEOPLASIA 164 226',\n",
              "  'carcinoma de células transicionales de vejiga E-IV (pulmonares\\n'],\n",
              " ['T10',\n",
              "  'MORFOLOGIA_NEOPLASIA 1456 1529',\n",
              "  'Progresión cutánea y ósea múltiple de carcinoma de células transicionales\\n'],\n",
              " ['T11', 'MORFOLOGIA_NEOPLASIA 1652 1675', 'progresión a nivel óseo\\n'],\n",
              " ['T12', 'MORFOLOGIA_NEOPLASIA 2471 2480', 'cutánides\\n']]"
            ]
          },
          "metadata": {
            "tags": []
          },
          "execution_count": 113
        }
      ]
    },
    {
      "cell_type": "markdown",
      "metadata": {
        "id": "iSpdIW5ELQXe",
        "colab_type": "text"
      },
      "source": [
        "#### **Reading the test and background files**"
      ]
    },
    {
      "cell_type": "code",
      "metadata": {
        "id": "f34LNBqSLXzB",
        "colab_type": "code",
        "colab": {}
      },
      "source": [
        "# READING THE .txtFILES\n",
        "\n",
        "# 5232 txt files\n",
        "\n",
        "path_Cantemist_test = path+\"test-background-set-to-publish/\"\n",
        "\n",
        "import glob   \n",
        "\n",
        "path_txt_test = path_Cantemist_test +'*.txt'   \n",
        "files_txt_test = glob.glob(path_txt_test)   \n",
        "\n",
        "# Sort the files to read the .txt in the order\n",
        "files_txt_test = sorted(files_txt_test)\n",
        "\n",
        "# Reading .txt files\n",
        "data_txt_test = []\n",
        "for file in files_txt_test:     \n",
        "  f=open(file, mode = 'r')  \n",
        "  data_txt_test.append(f.read())\n",
        "  f.close()"
      ],
      "execution_count": null,
      "outputs": []
    },
    {
      "cell_type": "markdown",
      "metadata": {
        "id": "wF-UACxvJhRT",
        "colab_type": "text"
      },
      "source": [
        "#### **Reading the test with gold standard files**"
      ]
    },
    {
      "cell_type": "code",
      "metadata": {
        "id": "-_xftSkeJoqO",
        "colab_type": "code",
        "colab": {}
      },
      "source": [
        "# READING THE .txt AND .ann FILES\n",
        "\n",
        "path_Cantemist_test = path+\"test_set/cantemist-ner/\"\n",
        "\n",
        "# code to read all the files in this folder\n",
        "# There are 501 annotated files (.ann) and 501 txt file\n",
        "# The txt and ann files share the same name.  Ex. cc_onco85.ann and cc_onco85.txt\n",
        "\n",
        "import glob   \n",
        "\n",
        "path_txt_test_true = path_Cantemist_test +'*.txt'   \n",
        "path_ann_test_true = path_Cantemist_test +'*.ann'  \n",
        "\n",
        "files_txt_test_true = glob.glob(path_txt_test_true)   \n",
        "files_ann_test_true = glob.glob(path_ann_test_true)   \n",
        "\n",
        "# Sort the files to read the .txt and .ann files in the same order\n",
        "files_txt_test_true = sorted(files_txt_test_true)\n",
        "files_ann_test_true = sorted(files_ann_test_true)\n",
        "\n",
        "data_txt_test_true, ann_test_true = read_data_ann(files_txt_test_true, files_ann_test_true)"
      ],
      "execution_count": null,
      "outputs": []
    },
    {
      "cell_type": "code",
      "metadata": {
        "id": "eygiBRI_JrXa",
        "colab_type": "code",
        "colab": {
          "base_uri": "https://localhost:8080/",
          "height": 119
        },
        "outputId": "97d1f3bc-ffb6-4270-c1fe-ff9e29b6a1cf"
      },
      "source": [
        "# Storing the names of the txt files into a list: names_txt\n",
        "len_path = len(path_Cantemist_test)\n",
        "names_txt_test_true = [files_txt_test_true[i][len_path:] for i in range(len(files_txt_test_true))]\n",
        "print(names_txt_test_true[:3]) # the names of the files with the sentences\n",
        "\n",
        "# Storing the names of the ann files into a list: names_txt\n",
        "names_ann_test_true = [files_ann_test_true[i][len_path:] for i in range(len(files_ann_test_true))]\n",
        "print(names_ann_test_true[:3]) # the names of the files with the sentences\n",
        "\n",
        "# As it can be observed there are pairs of .txt and .ann files stored with the same name \n",
        "# Before reading them, they were sorted so they were read in the same order\n",
        "\n",
        "print(\"\\nNumber of .txt files read: %d\" %len(files_txt_test_true))\n",
        "print(\"\\nNumber of .ann files read: %d\" %len(files_ann_test_true))"
      ],
      "execution_count": null,
      "outputs": [
        {
          "output_type": "stream",
          "text": [
            "['cc_onco1006.txt', 'cc_onco1023.txt', 'cc_onco1027.txt']\n",
            "['cc_onco1006.ann', 'cc_onco1023.ann', 'cc_onco1027.ann']\n",
            "\n",
            "Number of .txt files read: 300\n",
            "\n",
            "Number of .ann files read: 300\n"
          ],
          "name": "stdout"
        }
      ]
    },
    {
      "cell_type": "code",
      "metadata": {
        "id": "655KKieLKkoE",
        "colab_type": "code",
        "colab": {
          "base_uri": "https://localhost:8080/",
          "height": 54
        },
        "outputId": "903d115a-bac6-451f-aa8b-d2366fc34c08"
      },
      "source": [
        "print(ann_test_true[0])"
      ],
      "execution_count": null,
      "outputs": [
        {
          "output_type": "stream",
          "text": [
            "[['T1', 'MORFOLOGIA_NEOPLASIA 2810 2824', 'adenocarcinoma\\n'], ['T2', 'MORFOLOGIA_NEOPLASIA 2979 2993', 'adenocarcinoma\\n'], ['T3', 'MORFOLOGIA_NEOPLASIA 1115 1147', 'adenocarcinoma bien diferenciado\\n'], ['T4', 'MORFOLOGIA_NEOPLASIA 1911 1943', 'adenocarcinoma bien diferenciado\\n'], ['T5', 'MORFOLOGIA_NEOPLASIA 4046 4072', 'adenopatía supraclavicular\\n'], ['T6', 'MORFOLOGIA_NEOPLASIA 2172 2191', 'afectación hepática\\n'], ['T7', 'MORFOLOGIA_NEOPLASIA 3531 3549', 'lesiones hepáticas\\n'], ['T8', 'MORFOLOGIA_NEOPLASIA 882 894', 'metastásicas\\n'], ['T9', 'MORFOLOGIA_NEOPLASIA 1678 1690', 'metastásicas\\n'], ['T10', 'MORFOLOGIA_NEOPLASIA 2494 2504', 'metástasis\\n'], ['T11', 'MORFOLOGIA_NEOPLASIA 2784 2794', 'metástasis\\n'], ['T12', 'MORFOLOGIA_NEOPLASIA 4093 4103', 'metástasis\\n'], ['T13', 'MORFOLOGIA_NEOPLASIA 4156 4166', 'metástasis\\n'], ['T14', 'MORFOLOGIA_NEOPLASIA 794 806', 'neoformación\\n'], ['T15', 'MORFOLOGIA_NEOPLASIA 1590 1602', 'neoformación\\n'], ['T16', 'MORFOLOGIA_NEOPLASIA 2347 2352', 'tumor\\n'], ['T17', 'MORFOLOGIA_NEOPLASIA 2891 2896', 'tumor\\n'], ['T18', 'MORFOLOGIA_NEOPLASIA 2121 2166', 'adenocarcinoma de sigma estenosante, pT3N2bM1\\n'], ['T19', 'MORFOLOGIA_NEOPLASIA 2593 2622', 'masa indurada supraclavicular\\n'], ['T20', 'MORFOLOGIA_NEOPLASIA 3263 3290', 'adenopática supraclavicular\\n'], ['T21', 'MORFOLOGIA_NEOPLASIA 3417 3451', 'enfermedad a nivel supraclavicular\\n'], ['T22', 'MORFOLOGIA_NEOPLASIA 3846 3873', 'adenopática supraclavicular\\n'], ['T23', 'MORFOLOGIA_NEOPLASIA 5136 5170', 'progresión a nivel supraclavicular\\n']]\n"
          ],
          "name": "stdout"
        }
      ]
    },
    {
      "cell_type": "markdown",
      "metadata": {
        "id": "SE2CZMhRYbpw",
        "colab_type": "text"
      },
      "source": [
        "### **Text files:**"
      ]
    },
    {
      "cell_type": "code",
      "metadata": {
        "id": "rNpUl5CAZ6g3",
        "colab_type": "code",
        "colab": {}
      },
      "source": [
        "def tokenize_txt(files_txt, data_txt):\n",
        "  num_files = len(files_txt)\n",
        "  sentence_counter = 0\n",
        "\n",
        "  data_tokens = []\n",
        "  for f in range(num_files): # loop through all the files\n",
        "    doc = nlp(data_txt[f])\n",
        "    for i,s in enumerate(doc.sents): # loop through all the sentences in a file\n",
        "      #b_ij = []\n",
        "      sentence_counter = sentence_counter + 1\n",
        "      for token in s: # loop through all the words in a sentence\n",
        "        data_tokens.append((\"File: \"+str(f+1),\"Sentence: \"+str(sentence_counter), token.text, token.pos_, token.idx))\n",
        "\n",
        "  #data_tokens.extend(b_ij)\n",
        "\n",
        "  df_data = pd.DataFrame(data_tokens, columns = [\"File_Index\",\"Sentence_Index\", \"Word\", \"POS\", \"Start_Char_position\"])\n",
        "  # the column 'POS' contains the pos tag of the tokens computed\n",
        "  return df_data\n"
      ],
      "execution_count": null,
      "outputs": []
    },
    {
      "cell_type": "markdown",
      "metadata": {
        "id": "eFoOZ3HT4iPm",
        "colab_type": "text"
      },
      "source": [
        "#### **Creating the train dataframe of text**"
      ]
    },
    {
      "cell_type": "code",
      "metadata": {
        "id": "3ddE54Vi5PYm",
        "colab_type": "code",
        "colab": {
          "base_uri": "https://localhost:8080/",
          "height": 419
        },
        "outputId": "6f197329-714a-4ddd-d3d9-8e68c27350c2"
      },
      "source": [
        "df_data_train = tokenize_txt(files_txt_train, data_txt_train)\n",
        "df_data_train"
      ],
      "execution_count": null,
      "outputs": [
        {
          "output_type": "execute_result",
          "data": {
            "text/html": [
              "<div>\n",
              "<style scoped>\n",
              "    .dataframe tbody tr th:only-of-type {\n",
              "        vertical-align: middle;\n",
              "    }\n",
              "\n",
              "    .dataframe tbody tr th {\n",
              "        vertical-align: top;\n",
              "    }\n",
              "\n",
              "    .dataframe thead th {\n",
              "        text-align: right;\n",
              "    }\n",
              "</style>\n",
              "<table border=\"1\" class=\"dataframe\">\n",
              "  <thead>\n",
              "    <tr style=\"text-align: right;\">\n",
              "      <th></th>\n",
              "      <th>File_Index</th>\n",
              "      <th>Sentence_Index</th>\n",
              "      <th>Word</th>\n",
              "      <th>POS</th>\n",
              "      <th>Start_Char_position</th>\n",
              "    </tr>\n",
              "  </thead>\n",
              "  <tbody>\n",
              "    <tr>\n",
              "      <th>0</th>\n",
              "      <td>File: 1</td>\n",
              "      <td>Sentence: 1</td>\n",
              "      <td>ANAMNESIS</td>\n",
              "      <td>NOUN</td>\n",
              "      <td>0</td>\n",
              "    </tr>\n",
              "    <tr>\n",
              "      <th>1</th>\n",
              "      <td>File: 1</td>\n",
              "      <td>Sentence: 1</td>\n",
              "      <td>\\n</td>\n",
              "      <td>SPACE</td>\n",
              "      <td>9</td>\n",
              "    </tr>\n",
              "    <tr>\n",
              "      <th>2</th>\n",
              "      <td>File: 1</td>\n",
              "      <td>Sentence: 1</td>\n",
              "      <td>Mujer</td>\n",
              "      <td>NOUN</td>\n",
              "      <td>10</td>\n",
              "    </tr>\n",
              "    <tr>\n",
              "      <th>3</th>\n",
              "      <td>File: 1</td>\n",
              "      <td>Sentence: 1</td>\n",
              "      <td>de</td>\n",
              "      <td>ADP</td>\n",
              "      <td>16</td>\n",
              "    </tr>\n",
              "    <tr>\n",
              "      <th>4</th>\n",
              "      <td>File: 1</td>\n",
              "      <td>Sentence: 1</td>\n",
              "      <td>67</td>\n",
              "      <td>NUM</td>\n",
              "      <td>19</td>\n",
              "    </tr>\n",
              "    <tr>\n",
              "      <th>...</th>\n",
              "      <td>...</td>\n",
              "      <td>...</td>\n",
              "      <td>...</td>\n",
              "      <td>...</td>\n",
              "      <td>...</td>\n",
              "    </tr>\n",
              "    <tr>\n",
              "      <th>454353</th>\n",
              "      <td>File: 501</td>\n",
              "      <td>Sentence: 19502</td>\n",
              "      <td>deshidrogenasa</td>\n",
              "      <td>PROPN</td>\n",
              "      <td>7856</td>\n",
              "    </tr>\n",
              "    <tr>\n",
              "      <th>454354</th>\n",
              "      <td>File: 501</td>\n",
              "      <td>Sentence: 19502</td>\n",
              "      <td>(</td>\n",
              "      <td>PUNCT</td>\n",
              "      <td>7871</td>\n",
              "    </tr>\n",
              "    <tr>\n",
              "      <th>454355</th>\n",
              "      <td>File: 501</td>\n",
              "      <td>Sentence: 19502</td>\n",
              "      <td>SDHB</td>\n",
              "      <td>PROPN</td>\n",
              "      <td>7872</td>\n",
              "    </tr>\n",
              "    <tr>\n",
              "      <th>454356</th>\n",
              "      <td>File: 501</td>\n",
              "      <td>Sentence: 19502</td>\n",
              "      <td>)</td>\n",
              "      <td>PUNCT</td>\n",
              "      <td>7876</td>\n",
              "    </tr>\n",
              "    <tr>\n",
              "      <th>454357</th>\n",
              "      <td>File: 501</td>\n",
              "      <td>Sentence: 19502</td>\n",
              "      <td>.</td>\n",
              "      <td>PUNCT</td>\n",
              "      <td>7877</td>\n",
              "    </tr>\n",
              "  </tbody>\n",
              "</table>\n",
              "<p>454358 rows × 5 columns</p>\n",
              "</div>"
            ],
            "text/plain": [
              "       File_Index   Sentence_Index            Word    POS  Start_Char_position\n",
              "0         File: 1      Sentence: 1       ANAMNESIS   NOUN                    0\n",
              "1         File: 1      Sentence: 1              \\n  SPACE                    9\n",
              "2         File: 1      Sentence: 1           Mujer   NOUN                   10\n",
              "3         File: 1      Sentence: 1              de    ADP                   16\n",
              "4         File: 1      Sentence: 1              67    NUM                   19\n",
              "...           ...              ...             ...    ...                  ...\n",
              "454353  File: 501  Sentence: 19502  deshidrogenasa  PROPN                 7856\n",
              "454354  File: 501  Sentence: 19502               (  PUNCT                 7871\n",
              "454355  File: 501  Sentence: 19502            SDHB  PROPN                 7872\n",
              "454356  File: 501  Sentence: 19502               )  PUNCT                 7876\n",
              "454357  File: 501  Sentence: 19502               .  PUNCT                 7877\n",
              "\n",
              "[454358 rows x 5 columns]"
            ]
          },
          "metadata": {
            "tags": []
          },
          "execution_count": 15
        }
      ]
    },
    {
      "cell_type": "code",
      "metadata": {
        "id": "IpUvdz-O5aJ7",
        "colab_type": "code",
        "colab": {
          "base_uri": "https://localhost:8080/",
          "height": 68
        },
        "outputId": "86726b60-c324-48b3-f14d-0d871e8eb0cc"
      },
      "source": [
        "df_data_train['POS'].unique()"
      ],
      "execution_count": null,
      "outputs": [
        {
          "output_type": "execute_result",
          "data": {
            "text/plain": [
              "array(['NOUN', 'SPACE', 'ADP', 'NUM', 'ADJ', 'CCONJ', 'PUNCT', 'VERB',\n",
              "       'PROPN', 'ADV', 'SCONJ', 'DET', 'AUX', 'PRON', 'INTJ', 'PART',\n",
              "       'SYM'], dtype=object)"
            ]
          },
          "metadata": {
            "tags": []
          },
          "execution_count": 16
        }
      ]
    },
    {
      "cell_type": "code",
      "metadata": {
        "id": "GUs9pk3rN0Jc",
        "colab_type": "code",
        "colab": {
          "base_uri": "https://localhost:8080/",
          "height": 51
        },
        "outputId": "f1453467-9b04-4251-b28d-67d6db77fb8a"
      },
      "source": [
        "print(\"Number of rows in the collection of train files: %d\" %df_data_train.shape[0])\n",
        "print(\"Number of sentences in all the train files: %s\" %df_data_train['Sentence_Index'].unique()[-1])"
      ],
      "execution_count": null,
      "outputs": [
        {
          "output_type": "stream",
          "text": [
            "Number of rows in the collection of train files: 454358\n",
            "Number of sentences in all the train files: Sentence: 19502\n"
          ],
          "name": "stdout"
        }
      ]
    },
    {
      "cell_type": "markdown",
      "metadata": {
        "id": "7elpNN5y5nrQ",
        "colab_type": "text"
      },
      "source": [
        "#### **Creating the development dataframe of text**"
      ]
    },
    {
      "cell_type": "code",
      "metadata": {
        "colab_type": "code",
        "id": "ekkQ-BSNNYg3",
        "colab": {
          "base_uri": "https://localhost:8080/",
          "height": 419
        },
        "outputId": "e91341ea-69c0-4499-e7fd-0dfabe184c29"
      },
      "source": [
        "df_data_dev = tokenize_txt(files_txt_dev, data_txt_dev)\n",
        "df_data_dev"
      ],
      "execution_count": null,
      "outputs": [
        {
          "output_type": "execute_result",
          "data": {
            "text/html": [
              "<div>\n",
              "<style scoped>\n",
              "    .dataframe tbody tr th:only-of-type {\n",
              "        vertical-align: middle;\n",
              "    }\n",
              "\n",
              "    .dataframe tbody tr th {\n",
              "        vertical-align: top;\n",
              "    }\n",
              "\n",
              "    .dataframe thead th {\n",
              "        text-align: right;\n",
              "    }\n",
              "</style>\n",
              "<table border=\"1\" class=\"dataframe\">\n",
              "  <thead>\n",
              "    <tr style=\"text-align: right;\">\n",
              "      <th></th>\n",
              "      <th>File_Index</th>\n",
              "      <th>Sentence_Index</th>\n",
              "      <th>Word</th>\n",
              "      <th>POS</th>\n",
              "      <th>Start_Char_position</th>\n",
              "    </tr>\n",
              "  </thead>\n",
              "  <tbody>\n",
              "    <tr>\n",
              "      <th>0</th>\n",
              "      <td>File: 1</td>\n",
              "      <td>Sentence: 1</td>\n",
              "      <td>Anamnesis</td>\n",
              "      <td>NOUN</td>\n",
              "      <td>0</td>\n",
              "    </tr>\n",
              "    <tr>\n",
              "      <th>1</th>\n",
              "      <td>File: 1</td>\n",
              "      <td>Sentence: 1</td>\n",
              "      <td>\\n</td>\n",
              "      <td>SPACE</td>\n",
              "      <td>9</td>\n",
              "    </tr>\n",
              "    <tr>\n",
              "      <th>2</th>\n",
              "      <td>File: 1</td>\n",
              "      <td>Sentence: 1</td>\n",
              "      <td>Varón</td>\n",
              "      <td>PROPN</td>\n",
              "      <td>10</td>\n",
              "    </tr>\n",
              "    <tr>\n",
              "      <th>3</th>\n",
              "      <td>File: 1</td>\n",
              "      <td>Sentence: 1</td>\n",
              "      <td>de</td>\n",
              "      <td>ADP</td>\n",
              "      <td>16</td>\n",
              "    </tr>\n",
              "    <tr>\n",
              "      <th>4</th>\n",
              "      <td>File: 1</td>\n",
              "      <td>Sentence: 1</td>\n",
              "      <td>74</td>\n",
              "      <td>NUM</td>\n",
              "      <td>19</td>\n",
              "    </tr>\n",
              "    <tr>\n",
              "      <th>...</th>\n",
              "      <td>...</td>\n",
              "      <td>...</td>\n",
              "      <td>...</td>\n",
              "      <td>...</td>\n",
              "      <td>...</td>\n",
              "    </tr>\n",
              "    <tr>\n",
              "      <th>225260</th>\n",
              "      <td>File: 250</td>\n",
              "      <td>Sentence: 9546</td>\n",
              "      <td>hasta</td>\n",
              "      <td>ADP</td>\n",
              "      <td>5936</td>\n",
              "    </tr>\n",
              "    <tr>\n",
              "      <th>225261</th>\n",
              "      <td>File: 250</td>\n",
              "      <td>Sentence: 9546</td>\n",
              "      <td>la</td>\n",
              "      <td>DET</td>\n",
              "      <td>5942</td>\n",
              "    </tr>\n",
              "    <tr>\n",
              "      <th>225262</th>\n",
              "      <td>File: 250</td>\n",
              "      <td>Sentence: 9546</td>\n",
              "      <td>actualidad</td>\n",
              "      <td>NOUN</td>\n",
              "      <td>5945</td>\n",
              "    </tr>\n",
              "    <tr>\n",
              "      <th>225263</th>\n",
              "      <td>File: 250</td>\n",
              "      <td>Sentence: 9546</td>\n",
              "      <td>.</td>\n",
              "      <td>PUNCT</td>\n",
              "      <td>5955</td>\n",
              "    </tr>\n",
              "    <tr>\n",
              "      <th>225264</th>\n",
              "      <td>File: 250</td>\n",
              "      <td>Sentence: 9546</td>\n",
              "      <td>\\n</td>\n",
              "      <td>SPACE</td>\n",
              "      <td>5956</td>\n",
              "    </tr>\n",
              "  </tbody>\n",
              "</table>\n",
              "<p>225265 rows × 5 columns</p>\n",
              "</div>"
            ],
            "text/plain": [
              "       File_Index  Sentence_Index        Word    POS  Start_Char_position\n",
              "0         File: 1     Sentence: 1   Anamnesis   NOUN                    0\n",
              "1         File: 1     Sentence: 1          \\n  SPACE                    9\n",
              "2         File: 1     Sentence: 1       Varón  PROPN                   10\n",
              "3         File: 1     Sentence: 1          de    ADP                   16\n",
              "4         File: 1     Sentence: 1          74    NUM                   19\n",
              "...           ...             ...         ...    ...                  ...\n",
              "225260  File: 250  Sentence: 9546       hasta    ADP                 5936\n",
              "225261  File: 250  Sentence: 9546          la    DET                 5942\n",
              "225262  File: 250  Sentence: 9546  actualidad   NOUN                 5945\n",
              "225263  File: 250  Sentence: 9546           .  PUNCT                 5955\n",
              "225264  File: 250  Sentence: 9546          \\n  SPACE                 5956\n",
              "\n",
              "[225265 rows x 5 columns]"
            ]
          },
          "metadata": {
            "tags": []
          },
          "execution_count": 83
        }
      ]
    },
    {
      "cell_type": "code",
      "metadata": {
        "colab_type": "code",
        "id": "Zq1mOr7wNYg8",
        "colab": {
          "base_uri": "https://localhost:8080/",
          "height": 68
        },
        "outputId": "d7c96dd0-a6fa-4218-98f2-24206b5b788b"
      },
      "source": [
        "df_data_dev['POS'].unique()"
      ],
      "execution_count": null,
      "outputs": [
        {
          "output_type": "execute_result",
          "data": {
            "text/plain": [
              "array(['NOUN', 'SPACE', 'PROPN', 'ADP', 'NUM', 'PUNCT', 'AUX', 'ADJ',\n",
              "       'CCONJ', 'PRON', 'VERB', 'INTJ', 'DET', 'ADV', 'SCONJ', 'PART',\n",
              "       'SYM'], dtype=object)"
            ]
          },
          "metadata": {
            "tags": []
          },
          "execution_count": 84
        }
      ]
    },
    {
      "cell_type": "code",
      "metadata": {
        "colab_type": "code",
        "id": "Xv73RcnrNYg-",
        "colab": {
          "base_uri": "https://localhost:8080/",
          "height": 51
        },
        "outputId": "d6655d2c-0749-45c9-baf9-172b2e76f2c0"
      },
      "source": [
        "print(\"Number of rows in the collection of train files: %d\" %df_data_dev.shape[0])\n",
        "print(\"Number of sentences in all the train files: %s\" %df_data_dev['Sentence_Index'].unique()[-1])"
      ],
      "execution_count": null,
      "outputs": [
        {
          "output_type": "stream",
          "text": [
            "Number of rows in the collection of train files: 225265\n",
            "Number of sentences in all the train files: Sentence: 9546\n"
          ],
          "name": "stdout"
        }
      ]
    },
    {
      "cell_type": "markdown",
      "metadata": {
        "colab_type": "text",
        "id": "LUyYBpK1NYg1"
      },
      "source": [
        "#### **Creating the test and background dataframe of text**"
      ]
    },
    {
      "cell_type": "code",
      "metadata": {
        "id": "2j2yLn9B5nNS",
        "colab_type": "code",
        "colab": {
          "base_uri": "https://localhost:8080/",
          "height": 419
        },
        "outputId": "399e9d9d-0ff4-40a2-dced-95ebb311ce82"
      },
      "source": [
        "df_data_test = tokenize_txt(files_txt_test, data_txt_test)\n",
        "df_data_test"
      ],
      "execution_count": null,
      "outputs": [
        {
          "output_type": "execute_result",
          "data": {
            "text/html": [
              "<div>\n",
              "<style scoped>\n",
              "    .dataframe tbody tr th:only-of-type {\n",
              "        vertical-align: middle;\n",
              "    }\n",
              "\n",
              "    .dataframe tbody tr th {\n",
              "        vertical-align: top;\n",
              "    }\n",
              "\n",
              "    .dataframe thead th {\n",
              "        text-align: right;\n",
              "    }\n",
              "</style>\n",
              "<table border=\"1\" class=\"dataframe\">\n",
              "  <thead>\n",
              "    <tr style=\"text-align: right;\">\n",
              "      <th></th>\n",
              "      <th>File_Index</th>\n",
              "      <th>Sentence_Index</th>\n",
              "      <th>Word</th>\n",
              "      <th>POS</th>\n",
              "      <th>Start_Char_position</th>\n",
              "    </tr>\n",
              "  </thead>\n",
              "  <tbody>\n",
              "    <tr>\n",
              "      <th>0</th>\n",
              "      <td>File: 1</td>\n",
              "      <td>Sentence: 1</td>\n",
              "      <td>Paciente</td>\n",
              "      <td>PROPN</td>\n",
              "      <td>0</td>\n",
              "    </tr>\n",
              "    <tr>\n",
              "      <th>1</th>\n",
              "      <td>File: 1</td>\n",
              "      <td>Sentence: 1</td>\n",
              "      <td>mujer</td>\n",
              "      <td>NOUN</td>\n",
              "      <td>9</td>\n",
              "    </tr>\n",
              "    <tr>\n",
              "      <th>2</th>\n",
              "      <td>File: 1</td>\n",
              "      <td>Sentence: 1</td>\n",
              "      <td>,</td>\n",
              "      <td>PUNCT</td>\n",
              "      <td>14</td>\n",
              "    </tr>\n",
              "    <tr>\n",
              "      <th>3</th>\n",
              "      <td>File: 1</td>\n",
              "      <td>Sentence: 1</td>\n",
              "      <td>75</td>\n",
              "      <td>NUM</td>\n",
              "      <td>16</td>\n",
              "    </tr>\n",
              "    <tr>\n",
              "      <th>4</th>\n",
              "      <td>File: 1</td>\n",
              "      <td>Sentence: 1</td>\n",
              "      <td>años</td>\n",
              "      <td>NOUN</td>\n",
              "      <td>19</td>\n",
              "    </tr>\n",
              "    <tr>\n",
              "      <th>...</th>\n",
              "      <td>...</td>\n",
              "      <td>...</td>\n",
              "      <td>...</td>\n",
              "      <td>...</td>\n",
              "      <td>...</td>\n",
              "    </tr>\n",
              "    <tr>\n",
              "      <th>2167543</th>\n",
              "      <td>File: 5232</td>\n",
              "      <td>Sentence: 88839</td>\n",
              "      <td>433</td>\n",
              "      <td>NUM</td>\n",
              "      <td>6226</td>\n",
              "    </tr>\n",
              "    <tr>\n",
              "      <th>2167544</th>\n",
              "      <td>File: 5232</td>\n",
              "      <td>Sentence: 88839</td>\n",
              "      <td>U</td>\n",
              "      <td>PROPN</td>\n",
              "      <td>6230</td>\n",
              "    </tr>\n",
              "    <tr>\n",
              "      <th>2167545</th>\n",
              "      <td>File: 5232</td>\n",
              "      <td>Sentence: 88839</td>\n",
              "      <td>/</td>\n",
              "      <td>PUNCT</td>\n",
              "      <td>6231</td>\n",
              "    </tr>\n",
              "    <tr>\n",
              "      <th>2167546</th>\n",
              "      <td>File: 5232</td>\n",
              "      <td>Sentence: 88839</td>\n",
              "      <td>ml</td>\n",
              "      <td>NOUN</td>\n",
              "      <td>6232</td>\n",
              "    </tr>\n",
              "    <tr>\n",
              "      <th>2167547</th>\n",
              "      <td>File: 5232</td>\n",
              "      <td>Sentence: 88839</td>\n",
              "      <td>.</td>\n",
              "      <td>PUNCT</td>\n",
              "      <td>6234</td>\n",
              "    </tr>\n",
              "  </tbody>\n",
              "</table>\n",
              "<p>2167548 rows × 5 columns</p>\n",
              "</div>"
            ],
            "text/plain": [
              "         File_Index   Sentence_Index      Word    POS  Start_Char_position\n",
              "0           File: 1      Sentence: 1  Paciente  PROPN                    0\n",
              "1           File: 1      Sentence: 1     mujer   NOUN                    9\n",
              "2           File: 1      Sentence: 1         ,  PUNCT                   14\n",
              "3           File: 1      Sentence: 1        75    NUM                   16\n",
              "4           File: 1      Sentence: 1      años   NOUN                   19\n",
              "...             ...              ...       ...    ...                  ...\n",
              "2167543  File: 5232  Sentence: 88839       433    NUM                 6226\n",
              "2167544  File: 5232  Sentence: 88839         U  PROPN                 6230\n",
              "2167545  File: 5232  Sentence: 88839         /  PUNCT                 6231\n",
              "2167546  File: 5232  Sentence: 88839        ml   NOUN                 6232\n",
              "2167547  File: 5232  Sentence: 88839         .  PUNCT                 6234\n",
              "\n",
              "[2167548 rows x 5 columns]"
            ]
          },
          "metadata": {
            "tags": []
          },
          "execution_count": 21
        }
      ]
    },
    {
      "cell_type": "code",
      "metadata": {
        "id": "6oRJkx2r6O9V",
        "colab_type": "code",
        "colab": {
          "base_uri": "https://localhost:8080/",
          "height": 68
        },
        "outputId": "16589b63-7cf4-46bc-8d5b-eb719e543d74"
      },
      "source": [
        "df_data_test['POS'].unique()"
      ],
      "execution_count": null,
      "outputs": [
        {
          "output_type": "execute_result",
          "data": {
            "text/plain": [
              "array(['PROPN', 'NOUN', 'PUNCT', 'NUM', 'VERB', 'DET', 'SCONJ', 'ADJ',\n",
              "       'ADP', 'AUX', 'ADV', 'INTJ', 'CCONJ', 'SPACE', 'PRON', 'SYM',\n",
              "       'PART'], dtype=object)"
            ]
          },
          "metadata": {
            "tags": []
          },
          "execution_count": 22
        }
      ]
    },
    {
      "cell_type": "code",
      "metadata": {
        "id": "-K3qnSuJ6AnC",
        "colab_type": "code",
        "colab": {
          "base_uri": "https://localhost:8080/",
          "height": 51
        },
        "outputId": "e98af5a6-25b0-4dc5-860c-caae033632c8"
      },
      "source": [
        "print(\"Number of rows in the collection of train files: %d\" %df_data_test.shape[0])\n",
        "print(\"Number of sentences in all the train files: %s\" %df_data_test['Sentence_Index'].unique()[-1])"
      ],
      "execution_count": null,
      "outputs": [
        {
          "output_type": "stream",
          "text": [
            "Number of rows in the collection of train files: 2167548\n",
            "Number of sentences in all the train files: Sentence: 88839\n"
          ],
          "name": "stdout"
        }
      ]
    },
    {
      "cell_type": "markdown",
      "metadata": {
        "id": "gswgTqe-KsRr",
        "colab_type": "text"
      },
      "source": [
        "#### **Creating the test with gold standards dataframe of text**"
      ]
    },
    {
      "cell_type": "code",
      "metadata": {
        "id": "0KMSDWhgKr_9",
        "colab_type": "code",
        "colab": {
          "base_uri": "https://localhost:8080/",
          "height": 419
        },
        "outputId": "87e2334d-5fce-4efd-a93e-e430650ff08c"
      },
      "source": [
        "df_data_test_true = tokenize_txt(files_txt_test_true, data_txt_test_true)\n",
        "df_data_test_true"
      ],
      "execution_count": null,
      "outputs": [
        {
          "output_type": "execute_result",
          "data": {
            "text/html": [
              "<div>\n",
              "<style scoped>\n",
              "    .dataframe tbody tr th:only-of-type {\n",
              "        vertical-align: middle;\n",
              "    }\n",
              "\n",
              "    .dataframe tbody tr th {\n",
              "        vertical-align: top;\n",
              "    }\n",
              "\n",
              "    .dataframe thead th {\n",
              "        text-align: right;\n",
              "    }\n",
              "</style>\n",
              "<table border=\"1\" class=\"dataframe\">\n",
              "  <thead>\n",
              "    <tr style=\"text-align: right;\">\n",
              "      <th></th>\n",
              "      <th>File_Index</th>\n",
              "      <th>Sentence_Index</th>\n",
              "      <th>Word</th>\n",
              "      <th>POS</th>\n",
              "      <th>Start_Char_position</th>\n",
              "    </tr>\n",
              "  </thead>\n",
              "  <tbody>\n",
              "    <tr>\n",
              "      <th>0</th>\n",
              "      <td>File: 1</td>\n",
              "      <td>Sentence: 1</td>\n",
              "      <td>Anamnesis</td>\n",
              "      <td>NOUN</td>\n",
              "      <td>0</td>\n",
              "    </tr>\n",
              "    <tr>\n",
              "      <th>1</th>\n",
              "      <td>File: 1</td>\n",
              "      <td>Sentence: 1</td>\n",
              "      <td>\\n</td>\n",
              "      <td>SPACE</td>\n",
              "      <td>9</td>\n",
              "    </tr>\n",
              "    <tr>\n",
              "      <th>2</th>\n",
              "      <td>File: 1</td>\n",
              "      <td>Sentence: 1</td>\n",
              "      <td>Se</td>\n",
              "      <td>PRON</td>\n",
              "      <td>10</td>\n",
              "    </tr>\n",
              "    <tr>\n",
              "      <th>3</th>\n",
              "      <td>File: 1</td>\n",
              "      <td>Sentence: 1</td>\n",
              "      <td>trata</td>\n",
              "      <td>VERB</td>\n",
              "      <td>13</td>\n",
              "    </tr>\n",
              "    <tr>\n",
              "      <th>4</th>\n",
              "      <td>File: 1</td>\n",
              "      <td>Sentence: 1</td>\n",
              "      <td>de</td>\n",
              "      <td>ADP</td>\n",
              "      <td>19</td>\n",
              "    </tr>\n",
              "    <tr>\n",
              "      <th>...</th>\n",
              "      <td>...</td>\n",
              "      <td>...</td>\n",
              "      <td>...</td>\n",
              "      <td>...</td>\n",
              "      <td>...</td>\n",
              "    </tr>\n",
              "    <tr>\n",
              "      <th>247665</th>\n",
              "      <td>File: 300</td>\n",
              "      <td>Sentence: 11235</td>\n",
              "      <td>433</td>\n",
              "      <td>NUM</td>\n",
              "      <td>6226</td>\n",
              "    </tr>\n",
              "    <tr>\n",
              "      <th>247666</th>\n",
              "      <td>File: 300</td>\n",
              "      <td>Sentence: 11235</td>\n",
              "      <td>U</td>\n",
              "      <td>PROPN</td>\n",
              "      <td>6230</td>\n",
              "    </tr>\n",
              "    <tr>\n",
              "      <th>247667</th>\n",
              "      <td>File: 300</td>\n",
              "      <td>Sentence: 11235</td>\n",
              "      <td>/</td>\n",
              "      <td>PUNCT</td>\n",
              "      <td>6231</td>\n",
              "    </tr>\n",
              "    <tr>\n",
              "      <th>247668</th>\n",
              "      <td>File: 300</td>\n",
              "      <td>Sentence: 11235</td>\n",
              "      <td>ml</td>\n",
              "      <td>NOUN</td>\n",
              "      <td>6232</td>\n",
              "    </tr>\n",
              "    <tr>\n",
              "      <th>247669</th>\n",
              "      <td>File: 300</td>\n",
              "      <td>Sentence: 11235</td>\n",
              "      <td>.</td>\n",
              "      <td>PUNCT</td>\n",
              "      <td>6234</td>\n",
              "    </tr>\n",
              "  </tbody>\n",
              "</table>\n",
              "<p>247670 rows × 5 columns</p>\n",
              "</div>"
            ],
            "text/plain": [
              "       File_Index   Sentence_Index       Word    POS  Start_Char_position\n",
              "0         File: 1      Sentence: 1  Anamnesis   NOUN                    0\n",
              "1         File: 1      Sentence: 1         \\n  SPACE                    9\n",
              "2         File: 1      Sentence: 1         Se   PRON                   10\n",
              "3         File: 1      Sentence: 1      trata   VERB                   13\n",
              "4         File: 1      Sentence: 1         de    ADP                   19\n",
              "...           ...              ...        ...    ...                  ...\n",
              "247665  File: 300  Sentence: 11235        433    NUM                 6226\n",
              "247666  File: 300  Sentence: 11235          U  PROPN                 6230\n",
              "247667  File: 300  Sentence: 11235          /  PUNCT                 6231\n",
              "247668  File: 300  Sentence: 11235         ml   NOUN                 6232\n",
              "247669  File: 300  Sentence: 11235          .  PUNCT                 6234\n",
              "\n",
              "[247670 rows x 5 columns]"
            ]
          },
          "metadata": {
            "tags": []
          },
          "execution_count": 8
        }
      ]
    },
    {
      "cell_type": "code",
      "metadata": {
        "id": "6CUZp9J0K5_u",
        "colab_type": "code",
        "colab": {
          "base_uri": "https://localhost:8080/",
          "height": 102
        },
        "outputId": "99e6e026-1773-46c4-c4bd-cc7d1b4d0225"
      },
      "source": [
        "print(df_data_test_true['POS'].unique())\n",
        "\n",
        "print(\"\\nNumber of rows in the collection of train files: %d\" %df_data_test_true.shape[0])\n",
        "print(\"Number of sentences in all the train files: %s\" %df_data_test_true['Sentence_Index'].unique()[-1])"
      ],
      "execution_count": null,
      "outputs": [
        {
          "output_type": "stream",
          "text": [
            "['NOUN' 'SPACE' 'PRON' 'VERB' 'ADP' 'DET' 'NUM' 'PUNCT' 'ADJ' 'CCONJ'\n",
            " 'AUX' 'PROPN' 'ADV' 'INTJ' 'SCONJ' 'SYM' 'PART']\n",
            "\n",
            "Number of rows in the collection of train files: 247670\n",
            "Number of sentences in all the train files: Sentence: 11235\n"
          ],
          "name": "stdout"
        }
      ]
    },
    {
      "cell_type": "markdown",
      "metadata": {
        "id": "AldmTLmrBOii",
        "colab_type": "text"
      },
      "source": [
        "### **Annotated files:**\n",
        "\n",
        "Working with all the annotated files to create a unique dataframe"
      ]
    },
    {
      "cell_type": "markdown",
      "metadata": {
        "id": "rBWceek46ejL",
        "colab_type": "text"
      },
      "source": [
        "**Example of an annotation file in the train set**"
      ]
    },
    {
      "cell_type": "code",
      "metadata": {
        "id": "mT4yRFGIRn_O",
        "colab_type": "code",
        "colab": {
          "base_uri": "https://localhost:8080/",
          "height": 102
        },
        "outputId": "e646d9b6-3260-4a0b-e189-e946beee9a1b"
      },
      "source": [
        "ann_0 = ann_train[0] # first annotated file\n",
        "# First line in the first file is:\n",
        "print(ann_0[0])\n",
        "print()\n",
        "# the first entity in the text is: \n",
        "print(ann_0[0][-1])\n",
        "print(\"Number of words in the entity : %d\" %len(ann_0[0][-1].split(\" \")) )\n"
      ],
      "execution_count": null,
      "outputs": [
        {
          "output_type": "stream",
          "text": [
            "['T1', 'MORFOLOGIA_NEOPLASIA 2719 2740', 'Carcinoma microcítico\\n']\n",
            "\n",
            "Carcinoma microcítico\n",
            "\n",
            "Number of words in the entity : 2\n"
          ],
          "name": "stdout"
        }
      ]
    },
    {
      "cell_type": "code",
      "metadata": {
        "id": "zhCIn1zl73if",
        "colab_type": "code",
        "colab": {
          "base_uri": "https://localhost:8080/",
          "height": 34
        },
        "outputId": "fbd3b0bf-f724-4a76-f6d4-ac8d3fa0e044"
      },
      "source": [
        "len(ann_dev)"
      ],
      "execution_count": null,
      "outputs": [
        {
          "output_type": "execute_result",
          "data": {
            "text/plain": [
              "250"
            ]
          },
          "metadata": {
            "tags": []
          },
          "execution_count": 25
        }
      ]
    },
    {
      "cell_type": "markdown",
      "metadata": {
        "id": "zZa4rGgkkarH",
        "colab_type": "text"
      },
      "source": [
        "#### **Extracting statistics on the annotations**"
      ]
    },
    {
      "cell_type": "code",
      "metadata": {
        "id": "oJG8thSgNWeh",
        "colab_type": "code",
        "colab": {}
      },
      "source": [
        "# Find the row among every file with the longest entity (the entities are at position: ann[i][-1] os each row i)\n",
        "def ann_statistics(ann): # receives the ann files \n",
        "  max_len_f = []\n",
        "  position_max_len_f = []\n",
        "  entity_lengths = []\n",
        "  num_entities = []\n",
        "  for f in range(len(ann)): # f (file)\n",
        "    ann_f = ann[f]\n",
        "    entity_len = [len(ann_f[i][-1].split(\" \")) for i in range(len(ann_f))]\n",
        "    entity_lengths.extend(entity_len)\n",
        "    if (ann_f != []): # if it isn't an empty file\n",
        "      max_len_f.append(max(entity_len)) # appending the maximum within each file\n",
        "      position_max_len_f.append(np.argmax(entity_len))\n",
        "    else:\n",
        "      max_len_f.append(0)\n",
        "      position_max_len_f.append(9)\n",
        "    \n",
        "    num_entities.append(len(ann_f)) # count the number of entities of each .ann file\n",
        "\n",
        "  max_len = max(max_len_f)\n",
        "  print(\"\\nMaximum entity length: %d\" %max_len)\n",
        "  max_len_file = np.argmax(max_len_f)\n",
        "  print(\"\\nAnnotation file with maximum entity length: %d\" %max_len_file)\n",
        "  print(\"\\nEntity position in the file: %d\" %position_max_len_f[max_len_file])\n",
        "  print(\"\\nEntity: %s\" %ann[max_len_file][position_max_len_f[max_len_file]])\n",
        "\n",
        "  print(\"\\nAverage entity length: %d\" %round(np.average(entity_lengths)))\n",
        "\n",
        "  plt.hist(entity_lengths, bins=range(1,max_len))\n",
        "  plt.title(\"Distribution of entity lengths\")\n",
        "  plt.xlabel(\"Number of words in an entity\")\n",
        "  plt.ylabel(\"Frequency\")\n",
        "\n",
        "  return max_len # this value will be used in further sections "
      ],
      "execution_count": null,
      "outputs": []
    },
    {
      "cell_type": "markdown",
      "metadata": {
        "id": "s3v4tmfU7ZEo",
        "colab_type": "text"
      },
      "source": [
        "**Statistics of the .ann train files**"
      ]
    },
    {
      "cell_type": "code",
      "metadata": {
        "id": "SQ4hyzDz7eNf",
        "colab_type": "code",
        "colab": {
          "base_uri": "https://localhost:8080/",
          "height": 485
        },
        "outputId": "1ca32de7-081f-43af-9c2f-dc08c282a2b6"
      },
      "source": [
        "max_len_train = ann_statistics(ann_train)\n"
      ],
      "execution_count": null,
      "outputs": [
        {
          "output_type": "stream",
          "text": [
            "\n",
            "Maximum entity length: 16\n",
            "\n",
            "Annotation file with maximum entity length: 147\n",
            "\n",
            "Entity position in the file: 7\n",
            "\n",
            "Entity: ['T8', 'MORFOLOGIA_NEOPLASIA 847 960', 'osteosarcoma de bajo grado (de 4x3 cm) fusocelular, esclerosante, con formación de matriz ósea, bien diferenciado\\n']\n",
            "\n",
            "Average entity length: 2\n"
          ],
          "name": "stdout"
        },
        {
          "output_type": "display_data",
          "data": {
            "image/png": "[encoded data removed]",
            "text/plain": [
              "<Figure size 432x288 with 1 Axes>"
            ]
          },
          "metadata": {
            "tags": [],
            "needs_background": "light"
          }
        }
      ]
    },
    {
      "cell_type": "markdown",
      "metadata": {
        "id": "24xaSCIc7dgE",
        "colab_type": "text"
      },
      "source": [
        "**Statistics of the .ann development files**"
      ]
    },
    {
      "cell_type": "code",
      "metadata": {
        "id": "7sLc7BUs7dLx",
        "colab_type": "code",
        "colab": {
          "base_uri": "https://localhost:8080/",
          "height": 164
        },
        "outputId": "8b88fad3-a716-498d-97b3-311b8f0f86c3"
      },
      "source": [
        "max_len_dev = ann_statistics(ann_dev)"
      ],
      "execution_count": null,
      "outputs": [
        {
          "output_type": "error",
          "ename": "NameError",
          "evalue": "ignored",
          "traceback": [
            "\u001b[0;31m---------------------------------------------------------------------------\u001b[0m",
            "\u001b[0;31mNameError\u001b[0m                                 Traceback (most recent call last)",
            "\u001b[0;32m<ipython-input-58-5db83af291db>\u001b[0m in \u001b[0;36m<module>\u001b[0;34m()\u001b[0m\n\u001b[0;32m----> 1\u001b[0;31m \u001b[0mmax_len_dev\u001b[0m \u001b[0;34m=\u001b[0m \u001b[0mann_statistics\u001b[0m\u001b[0;34m(\u001b[0m\u001b[0mann_dev\u001b[0m\u001b[0;34m)\u001b[0m\u001b[0;34m\u001b[0m\u001b[0;34m\u001b[0m\u001b[0m\n\u001b[0m",
            "\u001b[0;31mNameError\u001b[0m: name 'ann_dev' is not defined"
          ]
        }
      ]
    },
    {
      "cell_type": "markdown",
      "metadata": {
        "id": "tQEbc6LCLLFI",
        "colab_type": "text"
      },
      "source": [
        "**Statistics of the .ann test files**"
      ]
    },
    {
      "cell_type": "code",
      "metadata": {
        "id": "9LDfag9oLNIh",
        "colab_type": "code",
        "colab": {
          "base_uri": "https://localhost:8080/",
          "height": 485
        },
        "outputId": "7d67d938-8a7e-44c1-d25d-bf074d000f5e"
      },
      "source": [
        "max_len_test_true = ann_statistics(ann_test_true)"
      ],
      "execution_count": null,
      "outputs": [
        {
          "output_type": "stream",
          "text": [
            "\n",
            "Maximum entity length: 25\n",
            "\n",
            "Annotation file with maximum entity length: 134\n",
            "\n",
            "Entity position in the file: 10\n",
            "\n",
            "Entity: ['T11', 'MORFOLOGIA_NEOPLASIA 3701 3878', 'carcinoma indiferenciado de células pequeñas combinado con carcinoma papilar de células transicionales de alto grado y metaplasia intestinal con focos de displasia de alto grado\\n']\n",
            "\n",
            "Average entity length: 2\n"
          ],
          "name": "stdout"
        },
        {
          "output_type": "display_data",
          "data": {
            "image/png": "[encoded data removed]",
            "text/plain": [
              "<Figure size 432x288 with 1 Axes>"
            ]
          },
          "metadata": {
            "tags": [],
            "needs_background": "light"
          }
        }
      ]
    },
    {
      "cell_type": "markdown",
      "metadata": {
        "id": "XQlPvVDw9O-f",
        "colab_type": "text"
      },
      "source": [
        "#### **Extracting the entities from the .ann file**\n"
      ]
    },
    {
      "cell_type": "code",
      "metadata": {
        "id": "FCeAMbYw9Xai",
        "colab_type": "code",
        "colab": {}
      },
      "source": [
        "# ann_train[i][1]: contains both the entity type and position in the text\n",
        "print(ann_train[0][1])"
      ],
      "execution_count": null,
      "outputs": []
    },
    {
      "cell_type": "code",
      "metadata": {
        "id": "OTnlZM5IUmyY",
        "colab_type": "code",
        "colab": {}
      },
      "source": [
        "def extract_entity_info(ann):  \n",
        "  e_type = []\n",
        "  start_End_offset = []\n",
        "  start_End_offset2 = []\n",
        "  entity_length = []\n",
        "\n",
        "  for i in range(len(ann)): # loop over every annotated file\n",
        "    a_i = ann[i]\n",
        "    for j in range(len(a_i)): # loop over the lines at each annotated file\n",
        "      e_type.append(a_i[j][1].strip(\" 0123456789;\")) # To obtain the entity \n",
        "      \n",
        "      # obtaining the start char position by removing the entities found above\n",
        "      start_char = a_i[j][1].strip(str(e_type[j]))\n",
        "      start_End_offset.append(start_char) \n",
        "\n",
        "      # Creating the Start_End offsets of entities formed by various words\n",
        "      s_E_offset_split = start_char.split(\" \")[1] \n",
        "      #  splits ' 4603 4636' into three elements ['', '4603', '4636'], we are interested in element [1]\n",
        "\n",
        "      # Processing the third element in ['T2', 'MORFOLOGIA_NEOPLASIA 10370 10379', 'neoplasia\\n']\n",
        "      entity_words = ann[i][j][2].split(\" \") # splitting the entity into words\n",
        "\n",
        "      start_End = []\n",
        "      len_words = 0\n",
        "\n",
        "      for wi in range(len(entity_words)):\n",
        "        if wi == 0: # if it's the first word in the entity\n",
        "          start_End.append(s_E_offset_split + \" \" + str(int(s_E_offset_split)+len(entity_words[wi])-1))\n",
        "        else:\n",
        "          start_End.append(str(int(s_E_offset_split) + len_words) + \" \" + str(int(s_E_offset_split) + len_words + len(entity_words[wi])-1))\n",
        "\n",
        "        len_words = len_words + len(entity_words[wi]) + 1 # this plus 1 are the spaces\n",
        "\n",
        "      start_End = ';'.join(start_End) # combining the elements in start_End into a single string\n",
        "      # ex. ['4207;4212', '4214;4223'] into 4207;4212 4214;4223\n",
        "      start_End_offset2.append(start_End)\n",
        "      entity_length.append(len(entity_words))\n",
        "\n",
        "  e_types = np.unique(e_type)\n",
        "  print(e_types) \n",
        "\n",
        "  return start_End_offset2, e_type, entity_length"
      ],
      "execution_count": null,
      "outputs": []
    },
    {
      "cell_type": "markdown",
      "metadata": {
        "id": "x0lxJBZR-18X",
        "colab_type": "text"
      },
      "source": [
        "#### **Create a dataframe with the entity information**\n"
      ]
    },
    {
      "cell_type": "code",
      "metadata": {
        "id": "jiZ9UV2tKVzG",
        "colab_type": "code",
        "colab": {}
      },
      "source": [
        "def create_entity_df(ann, start_End_offset2, e_type):\n",
        "  df_ann = pd.DataFrame(columns = [\"File_Index\", \"Entity_ID\", \"Type Start_End_offset\", \"Entity\"])\n",
        "\n",
        "  for i in range(len(ann)):\n",
        "    # Appending the index file to each line in the annotated files\n",
        "    ann2 = [np.hstack((\"File: \"+str(i+1),ann[i][j])) for j in range(len(ann[i]))]\n",
        "\n",
        "    df = pd.DataFrame(ann2, columns = [\"File_Index\", \"Entity_ID\", \"Type Start_End_offset\", \"Entity\"])\n",
        "\n",
        "    df_ann = df_ann.append(df)\n",
        "\n",
        "  # We want to create a dataframe with the entity information:\n",
        "  df_ann['Type'] = e_type\n",
        "  # df_ann['Start_End_offset'] = start_End_offset # keep this to check \n",
        "  df_ann['Start_End_offset'] = start_End_offset2\n",
        "\n",
        "  df_ann = df_ann.drop(['Type Start_End_offset'], axis=1)\n",
        "\n",
        "  new_order = [0, 1, 3, 4, 2]\n",
        "  df_ann = df_ann[df_ann.columns[new_order]]\n",
        "\n",
        "  return df_ann"
      ],
      "execution_count": null,
      "outputs": []
    },
    {
      "cell_type": "markdown",
      "metadata": {
        "id": "b7VU4I9C_ym2",
        "colab_type": "text"
      },
      "source": [
        "**Train set**"
      ]
    },
    {
      "cell_type": "code",
      "metadata": {
        "id": "y6tNDx42_3ju",
        "colab_type": "code",
        "colab": {
          "base_uri": "https://localhost:8080/",
          "height": 436
        },
        "outputId": "497014ee-9df8-492f-807f-c4de2587da0e"
      },
      "source": [
        "start_End_offset2_train, e_type_train, entity_length_train = extract_entity_info(ann_train)\n",
        "df_ann_train = create_entity_df(ann_train, start_End_offset2_train, e_type_train)\n",
        "df_ann_train"
      ],
      "execution_count": null,
      "outputs": [
        {
          "output_type": "stream",
          "text": [
            "['MORFOLOGIA_NEOPLASIA']\n"
          ],
          "name": "stdout"
        },
        {
          "output_type": "execute_result",
          "data": {
            "text/html": [
              "<div>\n",
              "<style scoped>\n",
              "    .dataframe tbody tr th:only-of-type {\n",
              "        vertical-align: middle;\n",
              "    }\n",
              "\n",
              "    .dataframe tbody tr th {\n",
              "        vertical-align: top;\n",
              "    }\n",
              "\n",
              "    .dataframe thead th {\n",
              "        text-align: right;\n",
              "    }\n",
              "</style>\n",
              "<table border=\"1\" class=\"dataframe\">\n",
              "  <thead>\n",
              "    <tr style=\"text-align: right;\">\n",
              "      <th></th>\n",
              "      <th>File_Index</th>\n",
              "      <th>Entity_ID</th>\n",
              "      <th>Type</th>\n",
              "      <th>Start_End_offset</th>\n",
              "      <th>Entity</th>\n",
              "    </tr>\n",
              "  </thead>\n",
              "  <tbody>\n",
              "    <tr>\n",
              "      <th>0</th>\n",
              "      <td>File: 1</td>\n",
              "      <td>T1</td>\n",
              "      <td>MORFOLOGIA_NEOPLASIA</td>\n",
              "      <td>2719 2727;2729 2740</td>\n",
              "      <td>Carcinoma microcítico\\n</td>\n",
              "    </tr>\n",
              "    <tr>\n",
              "      <th>1</th>\n",
              "      <td>File: 1</td>\n",
              "      <td>T2</td>\n",
              "      <td>MORFOLOGIA_NEOPLASIA</td>\n",
              "      <td>2950 2958;2960 2971</td>\n",
              "      <td>carcinoma microcítico\\n</td>\n",
              "    </tr>\n",
              "    <tr>\n",
              "      <th>2</th>\n",
              "      <td>File: 1</td>\n",
              "      <td>T3</td>\n",
              "      <td>MORFOLOGIA_NEOPLASIA</td>\n",
              "      <td>2988 2990</td>\n",
              "      <td>M0\\n</td>\n",
              "    </tr>\n",
              "    <tr>\n",
              "      <th>0</th>\n",
              "      <td>File: 2</td>\n",
              "      <td>T1</td>\n",
              "      <td>MORFOLOGIA_NEOPLASIA</td>\n",
              "      <td>6833 6844</td>\n",
              "      <td>metastásica\\n</td>\n",
              "    </tr>\n",
              "    <tr>\n",
              "      <th>1</th>\n",
              "      <td>File: 2</td>\n",
              "      <td>T2</td>\n",
              "      <td>MORFOLOGIA_NEOPLASIA</td>\n",
              "      <td>1191 1201</td>\n",
              "      <td>metástasis\\n</td>\n",
              "    </tr>\n",
              "    <tr>\n",
              "      <th>...</th>\n",
              "      <td>...</td>\n",
              "      <td>...</td>\n",
              "      <td>...</td>\n",
              "      <td>...</td>\n",
              "      <td>...</td>\n",
              "    </tr>\n",
              "    <tr>\n",
              "      <th>11</th>\n",
              "      <td>File: 501</td>\n",
              "      <td>T12</td>\n",
              "      <td>MORFOLOGIA_NEOPLASIA</td>\n",
              "      <td>379 392</td>\n",
              "      <td>paraganglioma\\n</td>\n",
              "    </tr>\n",
              "    <tr>\n",
              "      <th>12</th>\n",
              "      <td>File: 501</td>\n",
              "      <td>T13</td>\n",
              "      <td>MORFOLOGIA_NEOPLASIA</td>\n",
              "      <td>1070 1083</td>\n",
              "      <td>paraganglioma\\n</td>\n",
              "    </tr>\n",
              "    <tr>\n",
              "      <th>13</th>\n",
              "      <td>File: 501</td>\n",
              "      <td>T14</td>\n",
              "      <td>MORFOLOGIA_NEOPLASIA</td>\n",
              "      <td>1677 1690</td>\n",
              "      <td>paraganglioma\\n</td>\n",
              "    </tr>\n",
              "    <tr>\n",
              "      <th>14</th>\n",
              "      <td>File: 501</td>\n",
              "      <td>T15</td>\n",
              "      <td>MORFOLOGIA_NEOPLASIA</td>\n",
              "      <td>1611 1621</td>\n",
              "      <td>tumoración\\n</td>\n",
              "    </tr>\n",
              "    <tr>\n",
              "      <th>15</th>\n",
              "      <td>File: 501</td>\n",
              "      <td>T16</td>\n",
              "      <td>MORFOLOGIA_NEOPLASIA</td>\n",
              "      <td>3896 3907;3909 3913</td>\n",
              "      <td>infiltración ósea\\n</td>\n",
              "    </tr>\n",
              "  </tbody>\n",
              "</table>\n",
              "<p>6396 rows × 5 columns</p>\n",
              "</div>"
            ],
            "text/plain": [
              "   File_Index Entity_ID  ...     Start_End_offset                   Entity\n",
              "0     File: 1        T1  ...  2719 2727;2729 2740  Carcinoma microcítico\\n\n",
              "1     File: 1        T2  ...  2950 2958;2960 2971  carcinoma microcítico\\n\n",
              "2     File: 1        T3  ...            2988 2990                     M0\\n\n",
              "0     File: 2        T1  ...            6833 6844            metastásica\\n\n",
              "1     File: 2        T2  ...            1191 1201             metástasis\\n\n",
              "..        ...       ...  ...                  ...                      ...\n",
              "11  File: 501       T12  ...              379 392          paraganglioma\\n\n",
              "12  File: 501       T13  ...            1070 1083          paraganglioma\\n\n",
              "13  File: 501       T14  ...            1677 1690          paraganglioma\\n\n",
              "14  File: 501       T15  ...            1611 1621             tumoración\\n\n",
              "15  File: 501       T16  ...  3896 3907;3909 3913      infiltración ósea\\n\n",
              "\n",
              "[6396 rows x 5 columns]"
            ]
          },
          "metadata": {
            "tags": []
          },
          "execution_count": 32
        }
      ]
    },
    {
      "cell_type": "code",
      "metadata": {
        "id": "82l8BYH8A4Of",
        "colab_type": "code",
        "colab": {
          "base_uri": "https://localhost:8080/",
          "height": 119
        },
        "outputId": "f7508609-404f-47bf-9514-23b6fe675c51"
      },
      "source": [
        "# Check for null values:\n",
        "df_ann_train.isnull().sum()"
      ],
      "execution_count": null,
      "outputs": [
        {
          "output_type": "execute_result",
          "data": {
            "text/plain": [
              "File_Index          0\n",
              "Entity_ID           0\n",
              "Type                0\n",
              "Start_End_offset    0\n",
              "Entity              0\n",
              "dtype: int64"
            ]
          },
          "metadata": {
            "tags": []
          },
          "execution_count": 33
        }
      ]
    },
    {
      "cell_type": "markdown",
      "metadata": {
        "id": "Cb-wpSZ5_1Hr",
        "colab_type": "text"
      },
      "source": [
        "**Development set**"
      ]
    },
    {
      "cell_type": "code",
      "metadata": {
        "id": "kcI_EoTwABdq",
        "colab_type": "code",
        "colab": {
          "base_uri": "https://localhost:8080/",
          "height": 436
        },
        "outputId": "6acfcaae-fed2-4344-e68d-1a254b9c5191"
      },
      "source": [
        "start_End_offset2_dev, e_type_dev, entity_length_dev = extract_entity_info(ann_dev)\n",
        "df_ann_dev = create_entity_df(ann_dev, start_End_offset2_dev, e_type_dev)\n",
        "df_ann_dev"
      ],
      "execution_count": null,
      "outputs": [
        {
          "output_type": "stream",
          "text": [
            "['MORFOLOGIA_NEOPLASIA']\n"
          ],
          "name": "stdout"
        },
        {
          "output_type": "execute_result",
          "data": {
            "text/html": [
              "<div>\n",
              "<style scoped>\n",
              "    .dataframe tbody tr th:only-of-type {\n",
              "        vertical-align: middle;\n",
              "    }\n",
              "\n",
              "    .dataframe tbody tr th {\n",
              "        vertical-align: top;\n",
              "    }\n",
              "\n",
              "    .dataframe thead th {\n",
              "        text-align: right;\n",
              "    }\n",
              "</style>\n",
              "<table border=\"1\" class=\"dataframe\">\n",
              "  <thead>\n",
              "    <tr style=\"text-align: right;\">\n",
              "      <th></th>\n",
              "      <th>File_Index</th>\n",
              "      <th>Entity_ID</th>\n",
              "      <th>Type</th>\n",
              "      <th>Start_End_offset</th>\n",
              "      <th>Entity</th>\n",
              "    </tr>\n",
              "  </thead>\n",
              "  <tbody>\n",
              "    <tr>\n",
              "      <th>0</th>\n",
              "      <td>File: 1</td>\n",
              "      <td>T1</td>\n",
              "      <td>MORFOLOGIA_NEOPLASIA</td>\n",
              "      <td>2428 2435;2437 2445</td>\n",
              "      <td>lesiones cutáneas\\n</td>\n",
              "    </tr>\n",
              "    <tr>\n",
              "      <th>1</th>\n",
              "      <td>File: 1</td>\n",
              "      <td>T2</td>\n",
              "      <td>MORFOLOGIA_NEOPLASIA</td>\n",
              "      <td>994 1001;1003 1016;1018 1019;1021 1022;1024 1030</td>\n",
              "      <td>lesiones osteoblásticas en la calota\\n</td>\n",
              "    </tr>\n",
              "    <tr>\n",
              "      <th>2</th>\n",
              "      <td>File: 1</td>\n",
              "      <td>T3</td>\n",
              "      <td>MORFOLOGIA_NEOPLASIA</td>\n",
              "      <td>1700 1707;1709 1719</td>\n",
              "      <td>lesiones pulmonares\\n</td>\n",
              "    </tr>\n",
              "    <tr>\n",
              "      <th>3</th>\n",
              "      <td>File: 1</td>\n",
              "      <td>T4</td>\n",
              "      <td>MORFOLOGIA_NEOPLASIA</td>\n",
              "      <td>1253 1258;1260 1267</td>\n",
              "      <td>lesión cutánea\\n</td>\n",
              "    </tr>\n",
              "    <tr>\n",
              "      <th>4</th>\n",
              "      <td>File: 1</td>\n",
              "      <td>T5</td>\n",
              "      <td>MORFOLOGIA_NEOPLASIA</td>\n",
              "      <td>273 284</td>\n",
              "      <td>metastásica\\n</td>\n",
              "    </tr>\n",
              "    <tr>\n",
              "      <th>...</th>\n",
              "      <td>...</td>\n",
              "      <td>...</td>\n",
              "      <td>...</td>\n",
              "      <td>...</td>\n",
              "      <td>...</td>\n",
              "    </tr>\n",
              "    <tr>\n",
              "      <th>19</th>\n",
              "      <td>File: 250</td>\n",
              "      <td>T20</td>\n",
              "      <td>MORFOLOGIA_NEOPLASIA</td>\n",
              "      <td>2774 2787;2789 2796;2798 2800;2802 2811</td>\n",
              "      <td>adenocarcinoma gástrico rIV (PULMONAR\\n</td>\n",
              "    </tr>\n",
              "    <tr>\n",
              "      <th>20</th>\n",
              "      <td>File: 250</td>\n",
              "      <td>T21</td>\n",
              "      <td>MORFOLOGIA_NEOPLASIA</td>\n",
              "      <td>4438 4447;4449 4449;4451 4455;4457 4467</td>\n",
              "      <td>progresión a nivel peritoneal\\n</td>\n",
              "    </tr>\n",
              "    <tr>\n",
              "      <th>21</th>\n",
              "      <td>File: 250</td>\n",
              "      <td>T22</td>\n",
              "      <td>MORFOLOGIA_NEOPLASIA</td>\n",
              "      <td>4471 4478;4480 4492</td>\n",
              "      <td>implante rectovesical\\n</td>\n",
              "    </tr>\n",
              "    <tr>\n",
              "      <th>22</th>\n",
              "      <td>File: 250</td>\n",
              "      <td>T23</td>\n",
              "      <td>MORFOLOGIA_NEOPLASIA</td>\n",
              "      <td>5352 5360;5362 5363;5365 5368;5370 5377;5379 5...</td>\n",
              "      <td>implantes en cara anterior de recto\\n</td>\n",
              "    </tr>\n",
              "    <tr>\n",
              "      <th>23</th>\n",
              "      <td>File: 250</td>\n",
              "      <td>T24</td>\n",
              "      <td>MORFOLOGIA_NEOPLASIA</td>\n",
              "      <td>5515 5522;5524 5525;5527 5536</td>\n",
              "      <td>implante en mesocolon\\n</td>\n",
              "    </tr>\n",
              "  </tbody>\n",
              "</table>\n",
              "<p>3341 rows × 5 columns</p>\n",
              "</div>"
            ],
            "text/plain": [
              "   File_Index  ...                                   Entity\n",
              "0     File: 1  ...                      lesiones cutáneas\\n\n",
              "1     File: 1  ...   lesiones osteoblásticas en la calota\\n\n",
              "2     File: 1  ...                    lesiones pulmonares\\n\n",
              "3     File: 1  ...                         lesión cutánea\\n\n",
              "4     File: 1  ...                            metastásica\\n\n",
              "..        ...  ...                                      ...\n",
              "19  File: 250  ...  adenocarcinoma gástrico rIV (PULMONAR\\n\n",
              "20  File: 250  ...          progresión a nivel peritoneal\\n\n",
              "21  File: 250  ...                  implante rectovesical\\n\n",
              "22  File: 250  ...    implantes en cara anterior de recto\\n\n",
              "23  File: 250  ...                  implante en mesocolon\\n\n",
              "\n",
              "[3341 rows x 5 columns]"
            ]
          },
          "metadata": {
            "tags": []
          },
          "execution_count": 87
        }
      ]
    },
    {
      "cell_type": "code",
      "metadata": {
        "id": "Qt_7Qd77A5QN",
        "colab_type": "code",
        "colab": {
          "base_uri": "https://localhost:8080/",
          "height": 119
        },
        "outputId": "8b635455-3f5f-484a-a72b-803558efb765"
      },
      "source": [
        "# Check for null values:\n",
        "df_ann_dev.isnull().sum()"
      ],
      "execution_count": null,
      "outputs": [
        {
          "output_type": "execute_result",
          "data": {
            "text/plain": [
              "File_Index          0\n",
              "Entity_ID           0\n",
              "Type                0\n",
              "Start_End_offset    0\n",
              "Entity              0\n",
              "dtype: int64"
            ]
          },
          "metadata": {
            "tags": []
          },
          "execution_count": 88
        }
      ]
    },
    {
      "cell_type": "code",
      "metadata": {
        "id": "dnosAbluYLcT",
        "colab_type": "code",
        "colab": {}
      },
      "source": [
        "#print(ann[0][0][2])\n",
        "#entity_words[0]"
      ],
      "execution_count": null,
      "outputs": []
    },
    {
      "cell_type": "markdown",
      "metadata": {
        "id": "2EPOlLrGLXUD",
        "colab_type": "text"
      },
      "source": [
        "**Test with gold standards set**"
      ]
    },
    {
      "cell_type": "code",
      "metadata": {
        "id": "cusZ6pYCLbuW",
        "colab_type": "code",
        "colab": {
          "base_uri": "https://localhost:8080/",
          "height": 436
        },
        "outputId": "ea3de8ea-70d5-47f6-bf7b-a8d01c796934"
      },
      "source": [
        "start_End_offset2_test, e_type_test, entity_length_test = extract_entity_info(ann_test_true)\n",
        "df_ann_test_true = create_entity_df(ann_test_true, start_End_offset2_test, e_type_test)\n",
        "df_ann_test_true"
      ],
      "execution_count": null,
      "outputs": [
        {
          "output_type": "stream",
          "text": [
            "['MORFOLOGIA_NEOPLASIA']\n"
          ],
          "name": "stdout"
        },
        {
          "output_type": "execute_result",
          "data": {
            "text/html": [
              "<div>\n",
              "<style scoped>\n",
              "    .dataframe tbody tr th:only-of-type {\n",
              "        vertical-align: middle;\n",
              "    }\n",
              "\n",
              "    .dataframe tbody tr th {\n",
              "        vertical-align: top;\n",
              "    }\n",
              "\n",
              "    .dataframe thead th {\n",
              "        text-align: right;\n",
              "    }\n",
              "</style>\n",
              "<table border=\"1\" class=\"dataframe\">\n",
              "  <thead>\n",
              "    <tr style=\"text-align: right;\">\n",
              "      <th></th>\n",
              "      <th>File_Index</th>\n",
              "      <th>Entity_ID</th>\n",
              "      <th>Type</th>\n",
              "      <th>Start_End_offset</th>\n",
              "      <th>Entity</th>\n",
              "    </tr>\n",
              "  </thead>\n",
              "  <tbody>\n",
              "    <tr>\n",
              "      <th>0</th>\n",
              "      <td>File: 1</td>\n",
              "      <td>T1</td>\n",
              "      <td>MORFOLOGIA_NEOPLASIA</td>\n",
              "      <td>2810 2824</td>\n",
              "      <td>adenocarcinoma\\n</td>\n",
              "    </tr>\n",
              "    <tr>\n",
              "      <th>1</th>\n",
              "      <td>File: 1</td>\n",
              "      <td>T2</td>\n",
              "      <td>MORFOLOGIA_NEOPLASIA</td>\n",
              "      <td>2979 2993</td>\n",
              "      <td>adenocarcinoma\\n</td>\n",
              "    </tr>\n",
              "    <tr>\n",
              "      <th>2</th>\n",
              "      <td>File: 1</td>\n",
              "      <td>T3</td>\n",
              "      <td>MORFOLOGIA_NEOPLASIA</td>\n",
              "      <td>1115 1128;1130 1133;1135 1147</td>\n",
              "      <td>adenocarcinoma bien diferenciado\\n</td>\n",
              "    </tr>\n",
              "    <tr>\n",
              "      <th>3</th>\n",
              "      <td>File: 1</td>\n",
              "      <td>T4</td>\n",
              "      <td>MORFOLOGIA_NEOPLASIA</td>\n",
              "      <td>1911 1924;1926 1929;1931 1943</td>\n",
              "      <td>adenocarcinoma bien diferenciado\\n</td>\n",
              "    </tr>\n",
              "    <tr>\n",
              "      <th>4</th>\n",
              "      <td>File: 1</td>\n",
              "      <td>T5</td>\n",
              "      <td>MORFOLOGIA_NEOPLASIA</td>\n",
              "      <td>4046 4055;4057 4072</td>\n",
              "      <td>adenopatía supraclavicular\\n</td>\n",
              "    </tr>\n",
              "    <tr>\n",
              "      <th>...</th>\n",
              "      <td>...</td>\n",
              "      <td>...</td>\n",
              "      <td>...</td>\n",
              "      <td>...</td>\n",
              "      <td>...</td>\n",
              "    </tr>\n",
              "    <tr>\n",
              "      <th>8</th>\n",
              "      <td>File: 300</td>\n",
              "      <td>T9</td>\n",
              "      <td>MORFOLOGIA_NEOPLASIA</td>\n",
              "      <td>1464 1474</td>\n",
              "      <td>metástasis\\n</td>\n",
              "    </tr>\n",
              "    <tr>\n",
              "      <th>9</th>\n",
              "      <td>File: 300</td>\n",
              "      <td>T10</td>\n",
              "      <td>MORFOLOGIA_NEOPLASIA</td>\n",
              "      <td>677 684</td>\n",
              "      <td>tumoral\\n</td>\n",
              "    </tr>\n",
              "    <tr>\n",
              "      <th>10</th>\n",
              "      <td>File: 300</td>\n",
              "      <td>T11</td>\n",
              "      <td>MORFOLOGIA_NEOPLASIA</td>\n",
              "      <td>1098 1105</td>\n",
              "      <td>tumoral\\n</td>\n",
              "    </tr>\n",
              "    <tr>\n",
              "      <th>11</th>\n",
              "      <td>File: 300</td>\n",
              "      <td>T12</td>\n",
              "      <td>MORFOLOGIA_NEOPLASIA</td>\n",
              "      <td>1912 1915</td>\n",
              "      <td>CMm\\n</td>\n",
              "    </tr>\n",
              "    <tr>\n",
              "      <th>12</th>\n",
              "      <td>File: 300</td>\n",
              "      <td>T13</td>\n",
              "      <td>MORFOLOGIA_NEOPLASIA</td>\n",
              "      <td>1596 1605;1607 1614</td>\n",
              "      <td>afectación anexial\\n</td>\n",
              "    </tr>\n",
              "  </tbody>\n",
              "</table>\n",
              "<p>3633 rows × 5 columns</p>\n",
              "</div>"
            ],
            "text/plain": [
              "   File_Index  ...                              Entity\n",
              "0     File: 1  ...                    adenocarcinoma\\n\n",
              "1     File: 1  ...                    adenocarcinoma\\n\n",
              "2     File: 1  ...  adenocarcinoma bien diferenciado\\n\n",
              "3     File: 1  ...  adenocarcinoma bien diferenciado\\n\n",
              "4     File: 1  ...        adenopatía supraclavicular\\n\n",
              "..        ...  ...                                 ...\n",
              "8   File: 300  ...                        metástasis\\n\n",
              "9   File: 300  ...                           tumoral\\n\n",
              "10  File: 300  ...                           tumoral\\n\n",
              "11  File: 300  ...                               CMm\\n\n",
              "12  File: 300  ...                afectación anexial\\n\n",
              "\n",
              "[3633 rows x 5 columns]"
            ]
          },
          "metadata": {
            "tags": []
          },
          "execution_count": 75
        }
      ]
    },
    {
      "cell_type": "code",
      "metadata": {
        "id": "pBdFCYVxLfBh",
        "colab_type": "code",
        "colab": {
          "base_uri": "https://localhost:8080/",
          "height": 119
        },
        "outputId": "f7ca7da4-0cfd-4e08-ea29-083357796f23"
      },
      "source": [
        "# Check for null values:\n",
        "df_ann_test_true.isnull().sum()"
      ],
      "execution_count": null,
      "outputs": [
        {
          "output_type": "execute_result",
          "data": {
            "text/plain": [
              "File_Index          0\n",
              "Entity_ID           0\n",
              "Type                0\n",
              "Start_End_offset    0\n",
              "Entity              0\n",
              "dtype: int64"
            ]
          },
          "metadata": {
            "tags": []
          },
          "execution_count": 76
        }
      ]
    },
    {
      "cell_type": "markdown",
      "metadata": {
        "id": "DU0F1fEKIYSr",
        "colab_type": "text"
      },
      "source": [
        "**The labels of this dataset are:**\n",
        "\n",
        "['MORFOLOGIA_NEOPLASIA']\n",
        "\n",
        "Therefore, to construct the BIO format for this specific problem, the tags that will be employed are:\n",
        "- 'O': if the word is not an entity\n",
        "- 'B-MOR': if the word is at the beginning of a ['MORFOLOGIA_NEOPLASIA'] entity\n",
        "- 'I-MOR': if the word is intermediate to a ['MORFOLOGIA_NEOPLASIA'] entity\n"
      ]
    },
    {
      "cell_type": "code",
      "metadata": {
        "id": "92jnDHBy4yfV",
        "colab_type": "code",
        "colab": {}
      },
      "source": [
        "def splitting(d,i):\n",
        "  if len(d)>=i+1: \n",
        "    new_start = d[i].split(\" \")[0]\n",
        "  else: \n",
        "    new_start = -1 # to state the is no entity \n",
        "  return new_start"
      ],
      "execution_count": null,
      "outputs": []
    },
    {
      "cell_type": "code",
      "metadata": {
        "id": "qUD9DwcqHYeE",
        "colab_type": "code",
        "colab": {}
      },
      "source": [
        "def create_tags(df_ann, max_len, entity_length): # receives the dataframe with the annotations\n",
        "  # creating a tag to paste into the df_ann\n",
        "  df_ann['Tag'] = \"\"\n",
        "  df_ann['Tag'] = \"B-\" + df_ann['Type'].apply(lambda d: d[:3])# selecting just the first 3 characters in 'Type'\n",
        "  #df_ann['Start_Char_position'] = df_ann['Start_End_offset'].apply(lambda d: d.split(\" \")[0])\n",
        "  print(df_ann.head(10))\n",
        "  print()\n",
        "  df_ann['Entity_length'] = entity_length\n",
        "\n",
        "  # Creating a column for every pair of start_end of entities --> for those entities formed by more than one word\n",
        "  df_ann['Start_End_offset'] = df_ann['Start_End_offset'].apply(lambda d: d.split(\";\"))\n",
        "\n",
        "  for i in range(max_len): # the maximum number of words in an entity is 16\n",
        "    col_name = 'Start_Char_position_'+str(i)\n",
        "    df_ann[col_name] = df_ann['Start_End_offset'].apply(lambda d: splitting(d, i))\n",
        "    df_ann[col_name] = df_ann[col_name].astype(int)\n",
        "\n",
        "  #df_ann.loc[[4056]] # this is the entity formed by the largest number of words. (9 words)\n",
        "  return df_ann"
      ],
      "execution_count": null,
      "outputs": []
    },
    {
      "cell_type": "markdown",
      "metadata": {
        "id": "xLnXuqVaCh0p",
        "colab_type": "text"
      },
      "source": [
        "**Creating tags on train set**"
      ]
    },
    {
      "cell_type": "code",
      "metadata": {
        "id": "wz67e8HgCiOQ",
        "colab_type": "code",
        "colab": {
          "base_uri": "https://localhost:8080/",
          "height": 181
        },
        "outputId": "684126af-4548-43ad-a4f0-365d08a855ef"
      },
      "source": [
        "df_ann_train = create_tags(df_ann_train, max_len_train, entity_length_train)\n",
        "df_ann_train.head(5)"
      ],
      "execution_count": null,
      "outputs": [
        {
          "output_type": "error",
          "ename": "NameError",
          "evalue": "ignored",
          "traceback": [
            "\u001b[0;31m---------------------------------------------------------------------------\u001b[0m",
            "\u001b[0;31mNameError\u001b[0m                                 Traceback (most recent call last)",
            "\u001b[0;32m<ipython-input-79-fc65c74e32fb>\u001b[0m in \u001b[0;36m<module>\u001b[0;34m()\u001b[0m\n\u001b[0;32m----> 1\u001b[0;31m \u001b[0mdf_ann_train\u001b[0m \u001b[0;34m=\u001b[0m \u001b[0mcreate_tags\u001b[0m\u001b[0;34m(\u001b[0m\u001b[0mdf_ann_train\u001b[0m\u001b[0;34m,\u001b[0m \u001b[0mmax_len_train\u001b[0m\u001b[0;34m,\u001b[0m \u001b[0mentity_length_train\u001b[0m\u001b[0;34m)\u001b[0m\u001b[0;34m\u001b[0m\u001b[0;34m\u001b[0m\u001b[0m\n\u001b[0m\u001b[1;32m      2\u001b[0m \u001b[0mdf_ann_train\u001b[0m\u001b[0;34m.\u001b[0m\u001b[0mhead\u001b[0m\u001b[0;34m(\u001b[0m\u001b[0;36m5\u001b[0m\u001b[0;34m)\u001b[0m\u001b[0;34m\u001b[0m\u001b[0;34m\u001b[0m\u001b[0m\n",
            "\u001b[0;31mNameError\u001b[0m: name 'df_ann_train' is not defined"
          ]
        }
      ]
    },
    {
      "cell_type": "markdown",
      "metadata": {
        "id": "PanYsaMUCgjh",
        "colab_type": "text"
      },
      "source": [
        "**Creating tags on development set**"
      ]
    },
    {
      "cell_type": "code",
      "metadata": {
        "id": "nxAJeFJUDE5x",
        "colab_type": "code",
        "colab": {
          "base_uri": "https://localhost:8080/",
          "height": 564
        },
        "outputId": "7103d293-4fea-4be7-9b41-e1d55f5f2c99"
      },
      "source": [
        "df_ann_dev = create_tags(df_ann_dev, max_len_dev, entity_length_dev)\n",
        "df_ann_dev.head(5)"
      ],
      "execution_count": null,
      "outputs": [
        {
          "output_type": "stream",
          "text": [
            "  File_Index  ...    Tag\n",
            "0    File: 1  ...  B-MOR\n",
            "1    File: 1  ...  B-MOR\n",
            "2    File: 1  ...  B-MOR\n",
            "3    File: 1  ...  B-MOR\n",
            "4    File: 1  ...  B-MOR\n",
            "5    File: 1  ...  B-MOR\n",
            "6    File: 1  ...  B-MOR\n",
            "7    File: 1  ...  B-MOR\n",
            "8    File: 1  ...  B-MOR\n",
            "9    File: 1  ...  B-MOR\n",
            "\n",
            "[10 rows x 6 columns]\n",
            "\n"
          ],
          "name": "stdout"
        },
        {
          "output_type": "execute_result",
          "data": {
            "text/html": [
              "<div>\n",
              "<style scoped>\n",
              "    .dataframe tbody tr th:only-of-type {\n",
              "        vertical-align: middle;\n",
              "    }\n",
              "\n",
              "    .dataframe tbody tr th {\n",
              "        vertical-align: top;\n",
              "    }\n",
              "\n",
              "    .dataframe thead th {\n",
              "        text-align: right;\n",
              "    }\n",
              "</style>\n",
              "<table border=\"1\" class=\"dataframe\">\n",
              "  <thead>\n",
              "    <tr style=\"text-align: right;\">\n",
              "      <th></th>\n",
              "      <th>File_Index</th>\n",
              "      <th>Entity_ID</th>\n",
              "      <th>Type</th>\n",
              "      <th>Start_End_offset</th>\n",
              "      <th>Entity</th>\n",
              "      <th>Tag</th>\n",
              "      <th>Entity_length</th>\n",
              "      <th>Start_Char_position_0</th>\n",
              "      <th>Start_Char_position_1</th>\n",
              "      <th>Start_Char_position_2</th>\n",
              "      <th>Start_Char_position_3</th>\n",
              "      <th>Start_Char_position_4</th>\n",
              "      <th>Start_Char_position_5</th>\n",
              "      <th>Start_Char_position_6</th>\n",
              "      <th>Start_Char_position_7</th>\n",
              "      <th>Start_Char_position_8</th>\n",
              "      <th>Start_Char_position_9</th>\n",
              "      <th>Start_Char_position_10</th>\n",
              "      <th>Start_Char_position_11</th>\n",
              "      <th>Start_Char_position_12</th>\n",
              "      <th>Start_Char_position_13</th>\n",
              "      <th>Start_Char_position_14</th>\n",
              "      <th>Start_Char_position_15</th>\n",
              "      <th>Start_Char_position_16</th>\n",
              "    </tr>\n",
              "  </thead>\n",
              "  <tbody>\n",
              "    <tr>\n",
              "      <th>0</th>\n",
              "      <td>File: 1</td>\n",
              "      <td>T1</td>\n",
              "      <td>MORFOLOGIA_NEOPLASIA</td>\n",
              "      <td>[2428 2435, 2437 2445]</td>\n",
              "      <td>lesiones cutáneas\\n</td>\n",
              "      <td>B-MOR</td>\n",
              "      <td>2</td>\n",
              "      <td>2428</td>\n",
              "      <td>2437</td>\n",
              "      <td>-1</td>\n",
              "      <td>-1</td>\n",
              "      <td>-1</td>\n",
              "      <td>-1</td>\n",
              "      <td>-1</td>\n",
              "      <td>-1</td>\n",
              "      <td>-1</td>\n",
              "      <td>-1</td>\n",
              "      <td>-1</td>\n",
              "      <td>-1</td>\n",
              "      <td>-1</td>\n",
              "      <td>-1</td>\n",
              "      <td>-1</td>\n",
              "      <td>-1</td>\n",
              "      <td>-1</td>\n",
              "    </tr>\n",
              "    <tr>\n",
              "      <th>1</th>\n",
              "      <td>File: 1</td>\n",
              "      <td>T2</td>\n",
              "      <td>MORFOLOGIA_NEOPLASIA</td>\n",
              "      <td>[994 1001, 1003 1016, 1018 1019, 1021 1022, 10...</td>\n",
              "      <td>lesiones osteoblásticas en la calota\\n</td>\n",
              "      <td>B-MOR</td>\n",
              "      <td>5</td>\n",
              "      <td>994</td>\n",
              "      <td>1003</td>\n",
              "      <td>1018</td>\n",
              "      <td>1021</td>\n",
              "      <td>1024</td>\n",
              "      <td>-1</td>\n",
              "      <td>-1</td>\n",
              "      <td>-1</td>\n",
              "      <td>-1</td>\n",
              "      <td>-1</td>\n",
              "      <td>-1</td>\n",
              "      <td>-1</td>\n",
              "      <td>-1</td>\n",
              "      <td>-1</td>\n",
              "      <td>-1</td>\n",
              "      <td>-1</td>\n",
              "      <td>-1</td>\n",
              "    </tr>\n",
              "    <tr>\n",
              "      <th>2</th>\n",
              "      <td>File: 1</td>\n",
              "      <td>T3</td>\n",
              "      <td>MORFOLOGIA_NEOPLASIA</td>\n",
              "      <td>[1700 1707, 1709 1719]</td>\n",
              "      <td>lesiones pulmonares\\n</td>\n",
              "      <td>B-MOR</td>\n",
              "      <td>2</td>\n",
              "      <td>1700</td>\n",
              "      <td>1709</td>\n",
              "      <td>-1</td>\n",
              "      <td>-1</td>\n",
              "      <td>-1</td>\n",
              "      <td>-1</td>\n",
              "      <td>-1</td>\n",
              "      <td>-1</td>\n",
              "      <td>-1</td>\n",
              "      <td>-1</td>\n",
              "      <td>-1</td>\n",
              "      <td>-1</td>\n",
              "      <td>-1</td>\n",
              "      <td>-1</td>\n",
              "      <td>-1</td>\n",
              "      <td>-1</td>\n",
              "      <td>-1</td>\n",
              "    </tr>\n",
              "    <tr>\n",
              "      <th>3</th>\n",
              "      <td>File: 1</td>\n",
              "      <td>T4</td>\n",
              "      <td>MORFOLOGIA_NEOPLASIA</td>\n",
              "      <td>[1253 1258, 1260 1267]</td>\n",
              "      <td>lesión cutánea\\n</td>\n",
              "      <td>B-MOR</td>\n",
              "      <td>2</td>\n",
              "      <td>1253</td>\n",
              "      <td>1260</td>\n",
              "      <td>-1</td>\n",
              "      <td>-1</td>\n",
              "      <td>-1</td>\n",
              "      <td>-1</td>\n",
              "      <td>-1</td>\n",
              "      <td>-1</td>\n",
              "      <td>-1</td>\n",
              "      <td>-1</td>\n",
              "      <td>-1</td>\n",
              "      <td>-1</td>\n",
              "      <td>-1</td>\n",
              "      <td>-1</td>\n",
              "      <td>-1</td>\n",
              "      <td>-1</td>\n",
              "      <td>-1</td>\n",
              "    </tr>\n",
              "    <tr>\n",
              "      <th>4</th>\n",
              "      <td>File: 1</td>\n",
              "      <td>T5</td>\n",
              "      <td>MORFOLOGIA_NEOPLASIA</td>\n",
              "      <td>[273 284]</td>\n",
              "      <td>metastásica\\n</td>\n",
              "      <td>B-MOR</td>\n",
              "      <td>1</td>\n",
              "      <td>273</td>\n",
              "      <td>-1</td>\n",
              "      <td>-1</td>\n",
              "      <td>-1</td>\n",
              "      <td>-1</td>\n",
              "      <td>-1</td>\n",
              "      <td>-1</td>\n",
              "      <td>-1</td>\n",
              "      <td>-1</td>\n",
              "      <td>-1</td>\n",
              "      <td>-1</td>\n",
              "      <td>-1</td>\n",
              "      <td>-1</td>\n",
              "      <td>-1</td>\n",
              "      <td>-1</td>\n",
              "      <td>-1</td>\n",
              "      <td>-1</td>\n",
              "    </tr>\n",
              "  </tbody>\n",
              "</table>\n",
              "</div>"
            ],
            "text/plain": [
              "  File_Index Entity_ID  ... Start_Char_position_15 Start_Char_position_16\n",
              "0    File: 1        T1  ...                     -1                     -1\n",
              "1    File: 1        T2  ...                     -1                     -1\n",
              "2    File: 1        T3  ...                     -1                     -1\n",
              "3    File: 1        T4  ...                     -1                     -1\n",
              "4    File: 1        T5  ...                     -1                     -1\n",
              "\n",
              "[5 rows x 24 columns]"
            ]
          },
          "metadata": {
            "tags": []
          },
          "execution_count": 90
        }
      ]
    },
    {
      "cell_type": "markdown",
      "metadata": {
        "id": "se7mcPtCLswY",
        "colab_type": "text"
      },
      "source": [
        "**Creating tags in the test set**"
      ]
    },
    {
      "cell_type": "code",
      "metadata": {
        "id": "Yup_EKpKLx-w",
        "colab_type": "code",
        "colab": {
          "base_uri": "https://localhost:8080/",
          "height": 581
        },
        "outputId": "5b51cd28-c420-42ab-e728-15e27dacf988"
      },
      "source": [
        "df_ann_test_true = create_tags(df_ann_test_true, max_len_test_true, entity_length_test)\n",
        "df_ann_test_true.head(5)"
      ],
      "execution_count": null,
      "outputs": [
        {
          "output_type": "stream",
          "text": [
            "  File_Index Entity_ID  ...                              Entity    Tag\n",
            "0    File: 1        T1  ...                    adenocarcinoma\\n  B-MOR\n",
            "1    File: 1        T2  ...                    adenocarcinoma\\n  B-MOR\n",
            "2    File: 1        T3  ...  adenocarcinoma bien diferenciado\\n  B-MOR\n",
            "3    File: 1        T4  ...  adenocarcinoma bien diferenciado\\n  B-MOR\n",
            "4    File: 1        T5  ...        adenopatía supraclavicular\\n  B-MOR\n",
            "5    File: 1        T6  ...               afectación hepática\\n  B-MOR\n",
            "6    File: 1        T7  ...                lesiones hepáticas\\n  B-MOR\n",
            "7    File: 1        T8  ...                      metastásicas\\n  B-MOR\n",
            "8    File: 1        T9  ...                      metastásicas\\n  B-MOR\n",
            "9    File: 1       T10  ...                        metástasis\\n  B-MOR\n",
            "\n",
            "[10 rows x 6 columns]\n",
            "\n"
          ],
          "name": "stdout"
        },
        {
          "output_type": "execute_result",
          "data": {
            "text/html": [
              "<div>\n",
              "<style scoped>\n",
              "    .dataframe tbody tr th:only-of-type {\n",
              "        vertical-align: middle;\n",
              "    }\n",
              "\n",
              "    .dataframe tbody tr th {\n",
              "        vertical-align: top;\n",
              "    }\n",
              "\n",
              "    .dataframe thead th {\n",
              "        text-align: right;\n",
              "    }\n",
              "</style>\n",
              "<table border=\"1\" class=\"dataframe\">\n",
              "  <thead>\n",
              "    <tr style=\"text-align: right;\">\n",
              "      <th></th>\n",
              "      <th>File_Index</th>\n",
              "      <th>Entity_ID</th>\n",
              "      <th>Type</th>\n",
              "      <th>Start_End_offset</th>\n",
              "      <th>Entity</th>\n",
              "      <th>Tag</th>\n",
              "      <th>Entity_length</th>\n",
              "      <th>Start_Char_position_0</th>\n",
              "      <th>Start_Char_position_1</th>\n",
              "      <th>Start_Char_position_2</th>\n",
              "      <th>Start_Char_position_3</th>\n",
              "      <th>Start_Char_position_4</th>\n",
              "      <th>Start_Char_position_5</th>\n",
              "      <th>Start_Char_position_6</th>\n",
              "      <th>Start_Char_position_7</th>\n",
              "      <th>Start_Char_position_8</th>\n",
              "      <th>Start_Char_position_9</th>\n",
              "      <th>Start_Char_position_10</th>\n",
              "      <th>Start_Char_position_11</th>\n",
              "      <th>Start_Char_position_12</th>\n",
              "      <th>Start_Char_position_13</th>\n",
              "      <th>Start_Char_position_14</th>\n",
              "      <th>Start_Char_position_15</th>\n",
              "      <th>Start_Char_position_16</th>\n",
              "      <th>Start_Char_position_17</th>\n",
              "      <th>Start_Char_position_18</th>\n",
              "      <th>Start_Char_position_19</th>\n",
              "      <th>Start_Char_position_20</th>\n",
              "      <th>Start_Char_position_21</th>\n",
              "      <th>Start_Char_position_22</th>\n",
              "      <th>Start_Char_position_23</th>\n",
              "      <th>Start_Char_position_24</th>\n",
              "    </tr>\n",
              "  </thead>\n",
              "  <tbody>\n",
              "    <tr>\n",
              "      <th>0</th>\n",
              "      <td>File: 1</td>\n",
              "      <td>T1</td>\n",
              "      <td>MORFOLOGIA_NEOPLASIA</td>\n",
              "      <td>[2810 2824]</td>\n",
              "      <td>adenocarcinoma\\n</td>\n",
              "      <td>B-MOR</td>\n",
              "      <td>1</td>\n",
              "      <td>2810</td>\n",
              "      <td>-1</td>\n",
              "      <td>-1</td>\n",
              "      <td>-1</td>\n",
              "      <td>-1</td>\n",
              "      <td>-1</td>\n",
              "      <td>-1</td>\n",
              "      <td>-1</td>\n",
              "      <td>-1</td>\n",
              "      <td>-1</td>\n",
              "      <td>-1</td>\n",
              "      <td>-1</td>\n",
              "      <td>-1</td>\n",
              "      <td>-1</td>\n",
              "      <td>-1</td>\n",
              "      <td>-1</td>\n",
              "      <td>-1</td>\n",
              "      <td>-1</td>\n",
              "      <td>-1</td>\n",
              "      <td>-1</td>\n",
              "      <td>-1</td>\n",
              "      <td>-1</td>\n",
              "      <td>-1</td>\n",
              "      <td>-1</td>\n",
              "      <td>-1</td>\n",
              "    </tr>\n",
              "    <tr>\n",
              "      <th>1</th>\n",
              "      <td>File: 1</td>\n",
              "      <td>T2</td>\n",
              "      <td>MORFOLOGIA_NEOPLASIA</td>\n",
              "      <td>[2979 2993]</td>\n",
              "      <td>adenocarcinoma\\n</td>\n",
              "      <td>B-MOR</td>\n",
              "      <td>1</td>\n",
              "      <td>2979</td>\n",
              "      <td>-1</td>\n",
              "      <td>-1</td>\n",
              "      <td>-1</td>\n",
              "      <td>-1</td>\n",
              "      <td>-1</td>\n",
              "      <td>-1</td>\n",
              "      <td>-1</td>\n",
              "      <td>-1</td>\n",
              "      <td>-1</td>\n",
              "      <td>-1</td>\n",
              "      <td>-1</td>\n",
              "      <td>-1</td>\n",
              "      <td>-1</td>\n",
              "      <td>-1</td>\n",
              "      <td>-1</td>\n",
              "      <td>-1</td>\n",
              "      <td>-1</td>\n",
              "      <td>-1</td>\n",
              "      <td>-1</td>\n",
              "      <td>-1</td>\n",
              "      <td>-1</td>\n",
              "      <td>-1</td>\n",
              "      <td>-1</td>\n",
              "      <td>-1</td>\n",
              "    </tr>\n",
              "    <tr>\n",
              "      <th>2</th>\n",
              "      <td>File: 1</td>\n",
              "      <td>T3</td>\n",
              "      <td>MORFOLOGIA_NEOPLASIA</td>\n",
              "      <td>[1115 1128, 1130 1133, 1135 1147]</td>\n",
              "      <td>adenocarcinoma bien diferenciado\\n</td>\n",
              "      <td>B-MOR</td>\n",
              "      <td>3</td>\n",
              "      <td>1115</td>\n",
              "      <td>1130</td>\n",
              "      <td>1135</td>\n",
              "      <td>-1</td>\n",
              "      <td>-1</td>\n",
              "      <td>-1</td>\n",
              "      <td>-1</td>\n",
              "      <td>-1</td>\n",
              "      <td>-1</td>\n",
              "      <td>-1</td>\n",
              "      <td>-1</td>\n",
              "      <td>-1</td>\n",
              "      <td>-1</td>\n",
              "      <td>-1</td>\n",
              "      <td>-1</td>\n",
              "      <td>-1</td>\n",
              "      <td>-1</td>\n",
              "      <td>-1</td>\n",
              "      <td>-1</td>\n",
              "      <td>-1</td>\n",
              "      <td>-1</td>\n",
              "      <td>-1</td>\n",
              "      <td>-1</td>\n",
              "      <td>-1</td>\n",
              "      <td>-1</td>\n",
              "    </tr>\n",
              "    <tr>\n",
              "      <th>3</th>\n",
              "      <td>File: 1</td>\n",
              "      <td>T4</td>\n",
              "      <td>MORFOLOGIA_NEOPLASIA</td>\n",
              "      <td>[1911 1924, 1926 1929, 1931 1943]</td>\n",
              "      <td>adenocarcinoma bien diferenciado\\n</td>\n",
              "      <td>B-MOR</td>\n",
              "      <td>3</td>\n",
              "      <td>1911</td>\n",
              "      <td>1926</td>\n",
              "      <td>1931</td>\n",
              "      <td>-1</td>\n",
              "      <td>-1</td>\n",
              "      <td>-1</td>\n",
              "      <td>-1</td>\n",
              "      <td>-1</td>\n",
              "      <td>-1</td>\n",
              "      <td>-1</td>\n",
              "      <td>-1</td>\n",
              "      <td>-1</td>\n",
              "      <td>-1</td>\n",
              "      <td>-1</td>\n",
              "      <td>-1</td>\n",
              "      <td>-1</td>\n",
              "      <td>-1</td>\n",
              "      <td>-1</td>\n",
              "      <td>-1</td>\n",
              "      <td>-1</td>\n",
              "      <td>-1</td>\n",
              "      <td>-1</td>\n",
              "      <td>-1</td>\n",
              "      <td>-1</td>\n",
              "      <td>-1</td>\n",
              "    </tr>\n",
              "    <tr>\n",
              "      <th>4</th>\n",
              "      <td>File: 1</td>\n",
              "      <td>T5</td>\n",
              "      <td>MORFOLOGIA_NEOPLASIA</td>\n",
              "      <td>[4046 4055, 4057 4072]</td>\n",
              "      <td>adenopatía supraclavicular\\n</td>\n",
              "      <td>B-MOR</td>\n",
              "      <td>2</td>\n",
              "      <td>4046</td>\n",
              "      <td>4057</td>\n",
              "      <td>-1</td>\n",
              "      <td>-1</td>\n",
              "      <td>-1</td>\n",
              "      <td>-1</td>\n",
              "      <td>-1</td>\n",
              "      <td>-1</td>\n",
              "      <td>-1</td>\n",
              "      <td>-1</td>\n",
              "      <td>-1</td>\n",
              "      <td>-1</td>\n",
              "      <td>-1</td>\n",
              "      <td>-1</td>\n",
              "      <td>-1</td>\n",
              "      <td>-1</td>\n",
              "      <td>-1</td>\n",
              "      <td>-1</td>\n",
              "      <td>-1</td>\n",
              "      <td>-1</td>\n",
              "      <td>-1</td>\n",
              "      <td>-1</td>\n",
              "      <td>-1</td>\n",
              "      <td>-1</td>\n",
              "      <td>-1</td>\n",
              "    </tr>\n",
              "  </tbody>\n",
              "</table>\n",
              "</div>"
            ],
            "text/plain": [
              "  File_Index Entity_ID  ... Start_Char_position_23 Start_Char_position_24\n",
              "0    File: 1        T1  ...                     -1                     -1\n",
              "1    File: 1        T2  ...                     -1                     -1\n",
              "2    File: 1        T3  ...                     -1                     -1\n",
              "3    File: 1        T4  ...                     -1                     -1\n",
              "4    File: 1        T5  ...                     -1                     -1\n",
              "\n",
              "[5 rows x 32 columns]"
            ]
          },
          "metadata": {
            "tags": []
          },
          "execution_count": 80
        }
      ]
    },
    {
      "cell_type": "markdown",
      "metadata": {
        "id": "L9Gl5CcU9l-G",
        "colab_type": "text"
      },
      "source": [
        "### **Combining text files and annotated files**\n",
        "\n",
        "**Find those words in df_data which are an entity based on the position of their first character**\n",
        "\n",
        "This is done by merging the dataframe with the txt content (df_data) with the information collected from the annotated file (df_ann)."
      ]
    },
    {
      "cell_type": "code",
      "metadata": {
        "id": "NJ_03mHoe-ti",
        "colab_type": "code",
        "colab": {}
      },
      "source": [
        "# code to replace \"B-\" by \"I-\" for entities with various words\n",
        "def turn_to_Intermediate(d, i):\n",
        "  if str(d)!='nan': \n",
        "    new_tag = \"I-\" + str(d)[2:]\n",
        "  else: \n",
        "    new_tag = d # to state the is no entity \n",
        "  return new_tag"
      ],
      "execution_count": null,
      "outputs": []
    },
    {
      "cell_type": "code",
      "metadata": {
        "id": "lkZ-nPFXhFgC",
        "colab_type": "code",
        "colab": {}
      },
      "source": [
        "def turn_to_IOBES(d, i):\n",
        "  if str(d)!='nan': \n",
        "    if i > 0:\n",
        "      if d == i+1:# end\n",
        "        new_tag = \"E-MOR\"\n",
        "      else:\n",
        "        new_tag = \"I-MOR\"\n",
        "    else:\n",
        "      if d == 1: # single word entity\n",
        "        new_tag = \"S-MOR\"\n",
        "      else:\n",
        "        new_tag = \"B-MOR\"\n",
        "\n",
        "  else:\n",
        "    new_tag = d #nan\n",
        "  return new_tag"
      ],
      "execution_count": null,
      "outputs": []
    },
    {
      "cell_type": "code",
      "metadata": {
        "id": "WaFf2lEu9i4p",
        "colab_type": "code",
        "colab": {}
      },
      "source": [
        "def combine_txt_ann(df_ann, df_data, max_len):\n",
        "  # 1st. LEFT JOIN \n",
        "  # This code performs a left join between the df_data and df_ann to paste the Tag of each entity based on the character positions\n",
        "  for i in range(max_len):\n",
        "    col_name = 'Start_Char_position_'+str(i)\n",
        "    df_data = df_data.merge(df_ann[['File_Index',col_name,'Tag', 'Entity_length']], how = 'left', left_on=['File_Index','Start_Char_position'], right_on=['File_Index',col_name], suffixes=('','_'+str(i)))\n",
        "    # selecting the columns col_name and 'Tag' from df_ann\n",
        "\n",
        "    # drop intermediary columns 'Start_Char_position'\n",
        "    df_data = df_data.drop([col_name], axis=1)\n",
        "\n",
        "    if i>0: # code to replace \"B-\" by \"I-\" for entities with various words\n",
        "      col_name2 = 'Tag_'+str(i)\n",
        "      col_name3 = 'Entity_length_'+str(i)\n",
        "    else:\n",
        "      col_name2 = 'Tag'\n",
        "      col_name3 = 'Entity_length'\n",
        "\n",
        "    #df_data[col_name2] = df_data[col_name2].apply(lambda d: turn_to_Intermediate(d,i))\n",
        "    df_data[col_name2] = df_data[col_name3].apply(lambda d: turn_to_IOBES(d,i)) # to apply over each row\n",
        " \n",
        "  print(df_data.head(5))\n",
        "\n",
        "  # drop columns Entity_length\n",
        "  df_data = df_data.drop(['Entity_length'], axis=1)\n",
        "\n",
        "  for i in range(1,max_len): # max(entity_lengths) is the maximum number of words forming an entity\n",
        "    col_name = 'Entity_length_'+str(i)\n",
        "    df_data = df_data.drop([col_name], axis=1)\n",
        "\n",
        "  # 2nd. COMBINE INFORMATION FROM THE 'TAG' COLUMNS\n",
        "  df_data['Tag_new'] = \"\"\n",
        "  df_data['Tag_new'] = df_data[df_data.columns[5:]].apply(lambda x: ''.join(x.dropna().astype(str)),axis=1)\n",
        "\n",
        "  # Drop unneeded columns\n",
        "  df_data = df_data.drop(['Tag'], axis=1)\n",
        "  #df_data = df_data.drop(['Start_Char_position'], axis=1)\n",
        "\n",
        "  for i in range(1,max_len): # max(entity_lengths) is the maximum number of words forming an entity\n",
        "    col_name = 'Tag_'+str(i)\n",
        "    df_data = df_data.drop([col_name], axis=1)\n",
        "\n",
        "  # Rename column 'Tag_new' to 'Tag'\n",
        "  df_data.columns = [\"File_Index\",\"Sentence_Index\", \"Word\", \"POS\",\"start\", \"Tag\"]\n",
        "\n",
        "  # Fill in the empty rows of column 'Tag' with label 'O'\n",
        "  df_data['Tag'].replace(\"\", \"O\", inplace= True)\n",
        "\n",
        "  return df_data\n"
      ],
      "execution_count": null,
      "outputs": []
    },
    {
      "cell_type": "markdown",
      "metadata": {
        "id": "cMS-JiV93P1b",
        "colab_type": "text"
      },
      "source": [
        "### **Nested Entities:**\n",
        "\n",
        "**problem: there are entities of the same ann file that appear in various annotations. NESTED ENTITIES**\n",
        "\n",
        "The are two options to deal with nested entities:\n",
        "\n",
        "- Option 1. Keep the longest entity. Does not seem adequate. \n",
        "- Option 2. Use a new format different to BIO --> BIOES-V. where V indicates nested entities"
      ]
    },
    {
      "cell_type": "code",
      "metadata": {
        "id": "vjWsO9-KngO8",
        "colab_type": "code",
        "colab": {}
      },
      "source": [
        "# code to replace \"B-MORI-MOR\" by \"B-MOR\", 'I-MORI-MOR' by 'I-MOR' and 'I-MORB-MOR' by \"B-MOR\"\n",
        "def correct_tag(d):\n",
        "  if len(str(d)) > 5: # longer than 'B-MOR'\n",
        "    tag = \"V-MOR\"\n",
        "  else:\n",
        "    tag = str(d) # return its original value\n",
        "  return tag"
      ],
      "execution_count": null,
      "outputs": []
    },
    {
      "cell_type": "code",
      "metadata": {
        "id": "qbrOErpCDopZ",
        "colab_type": "code",
        "colab": {}
      },
      "source": [
        "df_data_train2 = df_data_train.copy()\n",
        "df_data_dev2 = df_data_dev.copy()"
      ],
      "execution_count": null,
      "outputs": []
    },
    {
      "cell_type": "code",
      "metadata": {
        "id": "RnzeflSJMHdX",
        "colab_type": "code",
        "colab": {}
      },
      "source": [
        "# test with gold standards\n",
        "df_data_test_true2 = df_data_test_true.copy()"
      ],
      "execution_count": null,
      "outputs": []
    },
    {
      "cell_type": "markdown",
      "metadata": {
        "id": "UAefWnXKEne3",
        "colab_type": "text"
      },
      "source": [
        "**Train set**"
      ]
    },
    {
      "cell_type": "code",
      "metadata": {
        "id": "8mAMboGLEruk",
        "colab_type": "code",
        "colab": {
          "base_uri": "https://localhost:8080/",
          "height": 187
        },
        "outputId": "bcc66690-11b4-4b12-c92a-f1581ab75a53"
      },
      "source": [
        "df_data_train2 = combine_txt_ann(df_ann_train, df_data_train2, max_len_train )\n",
        "print(df_data_train2['Tag'].unique())\n",
        "\n",
        "# replace nested entities\n",
        "df_data_train2['Tag'] = df_data_train2['Tag'].apply(lambda d: correct_tag(d))"
      ],
      "execution_count": null,
      "outputs": [
        {
          "output_type": "stream",
          "text": [
            "  File_Index Sentence_Index  ... Tag_15 Entity_length_15\n",
            "0    File: 1    Sentence: 1  ...    NaN              NaN\n",
            "1    File: 1    Sentence: 1  ...    NaN              NaN\n",
            "2    File: 1    Sentence: 1  ...    NaN              NaN\n",
            "3    File: 1    Sentence: 1  ...    NaN              NaN\n",
            "4    File: 1    Sentence: 1  ...    NaN              NaN\n",
            "\n",
            "[5 rows x 37 columns]\n",
            "['O' 'B-MOR' 'E-MOR' 'S-MOR' 'I-MOR' 'B-MORI-MOR' 'I-MORI-MOR'\n",
            " 'E-MORI-MOR' 'E-MORE-MOR' 'S-MORI-MOR']\n"
          ],
          "name": "stdout"
        }
      ]
    },
    {
      "cell_type": "code",
      "metadata": {
        "id": "bzJzzjyXF_1W",
        "colab_type": "code",
        "colab": {
          "base_uri": "https://localhost:8080/",
          "height": 204
        },
        "outputId": "55db448d-b2b2-479e-c81b-82a8ac9bb918"
      },
      "source": [
        "df_data_train2.head(5)"
      ],
      "execution_count": null,
      "outputs": [
        {
          "output_type": "execute_result",
          "data": {
            "text/html": [
              "<div>\n",
              "<style scoped>\n",
              "    .dataframe tbody tr th:only-of-type {\n",
              "        vertical-align: middle;\n",
              "    }\n",
              "\n",
              "    .dataframe tbody tr th {\n",
              "        vertical-align: top;\n",
              "    }\n",
              "\n",
              "    .dataframe thead th {\n",
              "        text-align: right;\n",
              "    }\n",
              "</style>\n",
              "<table border=\"1\" class=\"dataframe\">\n",
              "  <thead>\n",
              "    <tr style=\"text-align: right;\">\n",
              "      <th></th>\n",
              "      <th>File_Index</th>\n",
              "      <th>Sentence_Index</th>\n",
              "      <th>Word</th>\n",
              "      <th>POS</th>\n",
              "      <th>start</th>\n",
              "      <th>Tag</th>\n",
              "    </tr>\n",
              "  </thead>\n",
              "  <tbody>\n",
              "    <tr>\n",
              "      <th>0</th>\n",
              "      <td>File: 1</td>\n",
              "      <td>Sentence: 1</td>\n",
              "      <td>ANAMNESIS</td>\n",
              "      <td>NOUN</td>\n",
              "      <td>0</td>\n",
              "      <td>O</td>\n",
              "    </tr>\n",
              "    <tr>\n",
              "      <th>1</th>\n",
              "      <td>File: 1</td>\n",
              "      <td>Sentence: 1</td>\n",
              "      <td>\\n</td>\n",
              "      <td>SPACE</td>\n",
              "      <td>9</td>\n",
              "      <td>O</td>\n",
              "    </tr>\n",
              "    <tr>\n",
              "      <th>2</th>\n",
              "      <td>File: 1</td>\n",
              "      <td>Sentence: 1</td>\n",
              "      <td>Mujer</td>\n",
              "      <td>NOUN</td>\n",
              "      <td>10</td>\n",
              "      <td>O</td>\n",
              "    </tr>\n",
              "    <tr>\n",
              "      <th>3</th>\n",
              "      <td>File: 1</td>\n",
              "      <td>Sentence: 1</td>\n",
              "      <td>de</td>\n",
              "      <td>ADP</td>\n",
              "      <td>16</td>\n",
              "      <td>O</td>\n",
              "    </tr>\n",
              "    <tr>\n",
              "      <th>4</th>\n",
              "      <td>File: 1</td>\n",
              "      <td>Sentence: 1</td>\n",
              "      <td>67</td>\n",
              "      <td>NUM</td>\n",
              "      <td>19</td>\n",
              "      <td>O</td>\n",
              "    </tr>\n",
              "  </tbody>\n",
              "</table>\n",
              "</div>"
            ],
            "text/plain": [
              "  File_Index Sentence_Index       Word    POS  start Tag\n",
              "0    File: 1    Sentence: 1  ANAMNESIS   NOUN      0   O\n",
              "1    File: 1    Sentence: 1         \\n  SPACE      9   O\n",
              "2    File: 1    Sentence: 1      Mujer   NOUN     10   O\n",
              "3    File: 1    Sentence: 1         de    ADP     16   O\n",
              "4    File: 1    Sentence: 1         67    NUM     19   O"
            ]
          },
          "metadata": {
            "tags": []
          },
          "execution_count": 47
        }
      ]
    },
    {
      "cell_type": "code",
      "metadata": {
        "id": "6sYOfX7i8EUu",
        "colab_type": "code",
        "colab": {
          "base_uri": "https://localhost:8080/",
          "height": 419
        },
        "outputId": "71c4aef5-845f-4b1c-ade4-5a078abfa6fa"
      },
      "source": [
        "df_data_train2[df_data_train2['Tag']!='O']"
      ],
      "execution_count": null,
      "outputs": [
        {
          "output_type": "execute_result",
          "data": {
            "text/html": [
              "<div>\n",
              "<style scoped>\n",
              "    .dataframe tbody tr th:only-of-type {\n",
              "        vertical-align: middle;\n",
              "    }\n",
              "\n",
              "    .dataframe tbody tr th {\n",
              "        vertical-align: top;\n",
              "    }\n",
              "\n",
              "    .dataframe thead th {\n",
              "        text-align: right;\n",
              "    }\n",
              "</style>\n",
              "<table border=\"1\" class=\"dataframe\">\n",
              "  <thead>\n",
              "    <tr style=\"text-align: right;\">\n",
              "      <th></th>\n",
              "      <th>File_Index</th>\n",
              "      <th>Sentence_Index</th>\n",
              "      <th>Word</th>\n",
              "      <th>POS</th>\n",
              "      <th>start</th>\n",
              "      <th>Tag</th>\n",
              "    </tr>\n",
              "  </thead>\n",
              "  <tbody>\n",
              "    <tr>\n",
              "      <th>425</th>\n",
              "      <td>File: 1</td>\n",
              "      <td>Sentence: 20</td>\n",
              "      <td>Carcinoma</td>\n",
              "      <td>PROPN</td>\n",
              "      <td>2719</td>\n",
              "      <td>B-MOR</td>\n",
              "    </tr>\n",
              "    <tr>\n",
              "      <th>426</th>\n",
              "      <td>File: 1</td>\n",
              "      <td>Sentence: 20</td>\n",
              "      <td>microcítico</td>\n",
              "      <td>ADJ</td>\n",
              "      <td>2729</td>\n",
              "      <td>E-MOR</td>\n",
              "    </tr>\n",
              "    <tr>\n",
              "      <th>460</th>\n",
              "      <td>File: 1</td>\n",
              "      <td>Sentence: 22</td>\n",
              "      <td>carcinoma</td>\n",
              "      <td>INTJ</td>\n",
              "      <td>2950</td>\n",
              "      <td>B-MOR</td>\n",
              "    </tr>\n",
              "    <tr>\n",
              "      <th>461</th>\n",
              "      <td>File: 1</td>\n",
              "      <td>Sentence: 22</td>\n",
              "      <td>microcítico</td>\n",
              "      <td>ADJ</td>\n",
              "      <td>2960</td>\n",
              "      <td>E-MOR</td>\n",
              "    </tr>\n",
              "    <tr>\n",
              "      <th>465</th>\n",
              "      <td>File: 1</td>\n",
              "      <td>Sentence: 22</td>\n",
              "      <td>M0</td>\n",
              "      <td>PROPN</td>\n",
              "      <td>2988</td>\n",
              "      <td>S-MOR</td>\n",
              "    </tr>\n",
              "    <tr>\n",
              "      <th>...</th>\n",
              "      <td>...</td>\n",
              "      <td>...</td>\n",
              "      <td>...</td>\n",
              "      <td>...</td>\n",
              "      <td>...</td>\n",
              "      <td>...</td>\n",
              "    </tr>\n",
              "    <tr>\n",
              "      <th>453833</th>\n",
              "      <td>File: 501</td>\n",
              "      <td>Sentence: 19484</td>\n",
              "      <td>ósea</td>\n",
              "      <td>ADJ</td>\n",
              "      <td>3909</td>\n",
              "      <td>E-MOR</td>\n",
              "    </tr>\n",
              "    <tr>\n",
              "      <th>453858</th>\n",
              "      <td>File: 501</td>\n",
              "      <td>Sentence: 19485</td>\n",
              "      <td>afectación</td>\n",
              "      <td>NOUN</td>\n",
              "      <td>4054</td>\n",
              "      <td>B-MOR</td>\n",
              "    </tr>\n",
              "    <tr>\n",
              "      <th>453859</th>\n",
              "      <td>File: 501</td>\n",
              "      <td>Sentence: 19485</td>\n",
              "      <td>ósea</td>\n",
              "      <td>ADJ</td>\n",
              "      <td>4065</td>\n",
              "      <td>E-MOR</td>\n",
              "    </tr>\n",
              "    <tr>\n",
              "      <th>453879</th>\n",
              "      <td>File: 501</td>\n",
              "      <td>Sentence: 19487</td>\n",
              "      <td>Paraganglioma</td>\n",
              "      <td>PROPN</td>\n",
              "      <td>4157</td>\n",
              "      <td>S-MOR</td>\n",
              "    </tr>\n",
              "    <tr>\n",
              "      <th>453894</th>\n",
              "      <td>File: 501</td>\n",
              "      <td>Sentence: 19487</td>\n",
              "      <td>metástasis</td>\n",
              "      <td>NOUN</td>\n",
              "      <td>4281</td>\n",
              "      <td>S-MOR</td>\n",
              "    </tr>\n",
              "  </tbody>\n",
              "</table>\n",
              "<p>14667 rows × 6 columns</p>\n",
              "</div>"
            ],
            "text/plain": [
              "       File_Index   Sentence_Index           Word    POS  start    Tag\n",
              "425       File: 1     Sentence: 20      Carcinoma  PROPN   2719  B-MOR\n",
              "426       File: 1     Sentence: 20    microcítico    ADJ   2729  E-MOR\n",
              "460       File: 1     Sentence: 22      carcinoma   INTJ   2950  B-MOR\n",
              "461       File: 1     Sentence: 22    microcítico    ADJ   2960  E-MOR\n",
              "465       File: 1     Sentence: 22             M0  PROPN   2988  S-MOR\n",
              "...           ...              ...            ...    ...    ...    ...\n",
              "453833  File: 501  Sentence: 19484           ósea    ADJ   3909  E-MOR\n",
              "453858  File: 501  Sentence: 19485     afectación   NOUN   4054  B-MOR\n",
              "453859  File: 501  Sentence: 19485           ósea    ADJ   4065  E-MOR\n",
              "453879  File: 501  Sentence: 19487  Paraganglioma  PROPN   4157  S-MOR\n",
              "453894  File: 501  Sentence: 19487     metástasis   NOUN   4281  S-MOR\n",
              "\n",
              "[14667 rows x 6 columns]"
            ]
          },
          "metadata": {
            "tags": []
          },
          "execution_count": 48
        }
      ]
    },
    {
      "cell_type": "code",
      "metadata": {
        "id": "Q3tjGNycIo_f",
        "colab_type": "code",
        "colab": {
          "base_uri": "https://localhost:8080/",
          "height": 272
        },
        "outputId": "6ed1855d-a7ba-46c8-8e7e-e2ccead07b2a"
      },
      "source": [
        "num_BMOR_train = len(df_data_train2[df_data_train2['Tag']=='B-MOR'])\n",
        "num_IMOR_train = len(df_data_train2[df_data_train2['Tag']=='I-MOR'])\n",
        "num_EMOR_train = len(df_data_train2[df_data_train2['Tag']=='E-MOR'])\n",
        "num_SMOR_train = len(df_data_train2[df_data_train2['Tag']=='S-MOR'])\n",
        "num_VMOR_train = len(df_data_train2[df_data_train2['Tag']=='V-MOR'])\n",
        "\n",
        "num_O_train = len(df_data_train2[df_data_train2['Tag']=='O'])\n",
        "\n",
        "print(\"Number of B-MOR entities: %d\" %num_BMOR_train)\n",
        "print(\"Number of I-MOR entities: %d\" %num_IMOR_train)\n",
        "print(\"Number of E-MOR entities: %d\" %num_EMOR_train)\n",
        "print(\"Number of S-MOR entities: %d\" %num_SMOR_train)\n",
        "print(\"Number of V-MOR entities: %d\" %num_VMOR_train)\n",
        "print(\"Number of O (non entity): %d\" %num_O_train)\n",
        "\n",
        "print(\"\\nTotal number of identified entity words: %d\" %(num_BMOR_train + num_IMOR_train + num_EMOR_train + num_SMOR_train + num_VMOR_train))\n",
        "\n",
        "print(\"\\nTotal number of words that conform annotated entities: %d\" %np.sum(entity_length_train))\n",
        "\n",
        "print(\"\\nTotal number of words (entities and non-entities): %d\" %len(df_data_train2))\n",
        "print(\"\\nTotal number of words (entities and non-entities): %d\" %(num_BMOR_train + num_IMOR_train + \n",
        "                                                                  num_EMOR_train + num_SMOR_train + num_VMOR_train + num_O_train))"
      ],
      "execution_count": null,
      "outputs": [
        {
          "output_type": "stream",
          "text": [
            "Number of B-MOR entities: 3071\n",
            "Number of I-MOR entities: 5193\n",
            "Number of E-MOR entities: 3070\n",
            "Number of S-MOR entities: 3313\n",
            "Number of V-MOR entities: 20\n",
            "Number of O (non entity): 439863\n",
            "Nested train: 0\n",
            "\n",
            "Total number of identified entity words: 14667\n",
            "\n",
            "Total number of words that conform annotated entities: 14694\n",
            "\n",
            "Total number of words (entities and non-entities): 454530\n",
            "\n",
            "Total number of words (entities and non-entities): 454530\n"
          ],
          "name": "stdout"
        }
      ]
    },
    {
      "cell_type": "markdown",
      "metadata": {
        "id": "wrIfS4ulEnWS",
        "colab_type": "text"
      },
      "source": [
        "**Development set**"
      ]
    },
    {
      "cell_type": "code",
      "metadata": {
        "id": "q-76LE_6FIrE",
        "colab_type": "code",
        "colab": {
          "base_uri": "https://localhost:8080/",
          "height": 187
        },
        "outputId": "94c9e9bc-1a01-4faf-8d82-1e4c8658ab22"
      },
      "source": [
        "df_data_dev2 = combine_txt_ann(df_ann_dev, df_data_dev2, max_len_dev)\n",
        "print(df_data_dev2['Tag'].unique())\n",
        "\n",
        "# replace nested entities\n",
        "df_data_dev2['Tag'] = df_data_dev2['Tag'].apply(lambda d: correct_tag(d))"
      ],
      "execution_count": null,
      "outputs": [
        {
          "output_type": "stream",
          "text": [
            "  File_Index Sentence_Index  ... Tag_16 Entity_length_16\n",
            "0    File: 1    Sentence: 1  ...    NaN              NaN\n",
            "1    File: 1    Sentence: 1  ...    NaN              NaN\n",
            "2    File: 1    Sentence: 1  ...    NaN              NaN\n",
            "3    File: 1    Sentence: 1  ...    NaN              NaN\n",
            "4    File: 1    Sentence: 1  ...    NaN              NaN\n",
            "\n",
            "[5 rows x 39 columns]\n",
            "['O' 'B-MOR' 'I-MOR' 'E-MOR' 'S-MOR' 'B-MORI-MOR' 'E-MORE-MOR'\n",
            " 'S-MORI-MOR' 'I-MORI-MOR' 'I-MORE-MOR' 'E-MORI-MOR' 'B-MORE-MOR']\n"
          ],
          "name": "stdout"
        }
      ]
    },
    {
      "cell_type": "code",
      "metadata": {
        "id": "qoy7cAPlGBnR",
        "colab_type": "code",
        "colab": {
          "base_uri": "https://localhost:8080/",
          "height": 204
        },
        "outputId": "20f0e6e0-ddca-4017-f9c2-8f3ee302e0ad"
      },
      "source": [
        "df_data_dev2.head(5)"
      ],
      "execution_count": null,
      "outputs": [
        {
          "output_type": "execute_result",
          "data": {
            "text/html": [
              "<div>\n",
              "<style scoped>\n",
              "    .dataframe tbody tr th:only-of-type {\n",
              "        vertical-align: middle;\n",
              "    }\n",
              "\n",
              "    .dataframe tbody tr th {\n",
              "        vertical-align: top;\n",
              "    }\n",
              "\n",
              "    .dataframe thead th {\n",
              "        text-align: right;\n",
              "    }\n",
              "</style>\n",
              "<table border=\"1\" class=\"dataframe\">\n",
              "  <thead>\n",
              "    <tr style=\"text-align: right;\">\n",
              "      <th></th>\n",
              "      <th>File_Index</th>\n",
              "      <th>Sentence_Index</th>\n",
              "      <th>Word</th>\n",
              "      <th>POS</th>\n",
              "      <th>start</th>\n",
              "      <th>Tag</th>\n",
              "    </tr>\n",
              "  </thead>\n",
              "  <tbody>\n",
              "    <tr>\n",
              "      <th>0</th>\n",
              "      <td>File: 1</td>\n",
              "      <td>Sentence: 1</td>\n",
              "      <td>Anamnesis</td>\n",
              "      <td>NOUN</td>\n",
              "      <td>0</td>\n",
              "      <td>O</td>\n",
              "    </tr>\n",
              "    <tr>\n",
              "      <th>1</th>\n",
              "      <td>File: 1</td>\n",
              "      <td>Sentence: 1</td>\n",
              "      <td>\\n</td>\n",
              "      <td>SPACE</td>\n",
              "      <td>9</td>\n",
              "      <td>O</td>\n",
              "    </tr>\n",
              "    <tr>\n",
              "      <th>2</th>\n",
              "      <td>File: 1</td>\n",
              "      <td>Sentence: 1</td>\n",
              "      <td>Varón</td>\n",
              "      <td>PROPN</td>\n",
              "      <td>10</td>\n",
              "      <td>O</td>\n",
              "    </tr>\n",
              "    <tr>\n",
              "      <th>3</th>\n",
              "      <td>File: 1</td>\n",
              "      <td>Sentence: 1</td>\n",
              "      <td>de</td>\n",
              "      <td>ADP</td>\n",
              "      <td>16</td>\n",
              "      <td>O</td>\n",
              "    </tr>\n",
              "    <tr>\n",
              "      <th>4</th>\n",
              "      <td>File: 1</td>\n",
              "      <td>Sentence: 1</td>\n",
              "      <td>74</td>\n",
              "      <td>NUM</td>\n",
              "      <td>19</td>\n",
              "      <td>O</td>\n",
              "    </tr>\n",
              "  </tbody>\n",
              "</table>\n",
              "</div>"
            ],
            "text/plain": [
              "  File_Index Sentence_Index       Word    POS  start Tag\n",
              "0    File: 1    Sentence: 1  Anamnesis   NOUN      0   O\n",
              "1    File: 1    Sentence: 1         \\n  SPACE      9   O\n",
              "2    File: 1    Sentence: 1      Varón  PROPN     10   O\n",
              "3    File: 1    Sentence: 1         de    ADP     16   O\n",
              "4    File: 1    Sentence: 1         74    NUM     19   O"
            ]
          },
          "metadata": {
            "tags": []
          },
          "execution_count": 95
        }
      ]
    },
    {
      "cell_type": "code",
      "metadata": {
        "id": "AXmPEs9oHPCb",
        "colab_type": "code",
        "colab": {
          "base_uri": "https://localhost:8080/",
          "height": 272
        },
        "outputId": "1a1e5922-6edd-47ab-97f9-3d9e34901b99"
      },
      "source": [
        "num_BMOR_dev = len(df_data_dev2[df_data_dev2['Tag']=='B-MOR'])\n",
        "num_IMOR_dev = len(df_data_dev2[df_data_dev2['Tag']=='I-MOR'])\n",
        "num_EMOR_dev = len(df_data_dev2[df_data_dev2['Tag']=='E-MOR'])\n",
        "num_SMOR_dev = len(df_data_dev2[df_data_dev2['Tag']=='S-MOR'])\n",
        "num_VMOR_dev = len(df_data_dev2[df_data_dev2['Tag']=='V-MOR'])\n",
        "\n",
        "num_O_dev = len(df_data_dev2[df_data_dev2['Tag']=='O'])\n",
        "\n",
        "print(\"Number of B-MOR entities: %d\" %num_BMOR_dev)\n",
        "print(\"Number of I-MOR entities: %d\" %num_IMOR_dev)\n",
        "print(\"Number of E-MOR entities: %d\" %num_EMOR_dev)\n",
        "print(\"Number of S-MOR entities: %d\" %num_SMOR_dev)\n",
        "print(\"Number of V-MOR entities: %d\" %num_VMOR_dev)\n",
        "print(\"Number of O (non entity): %d\" %num_O_dev)\n",
        "\n",
        "print(\"\\nTotal number of identified entity words: %d\" %(num_BMOR_dev + num_IMOR_dev + num_EMOR_dev + num_SMOR_dev + num_VMOR_dev))\n",
        "\n",
        "print(\"\\nTotal number of words that conform annotated entities: %d\" %np.sum(entity_length_dev))\n",
        "\n",
        "print(\"\\nTotal number of words (entities and non-entities): %d\" %len(df_data_dev2))\n",
        "print(\"\\nTotal number of words (entities and non-entities): %d\" %(num_BMOR_dev + num_IMOR_dev + \n",
        "                                                                  num_EMOR_dev + num_SMOR_dev + num_VMOR_dev + num_O_dev))"
      ],
      "execution_count": null,
      "outputs": [
        {
          "output_type": "stream",
          "text": [
            "Number of B-MOR entities: 1639\n",
            "Number of I-MOR entities: 2579\n",
            "Number of E-MOR entities: 1634\n",
            "Number of S-MOR entities: 1689\n",
            "Number of V-MOR entities: 18\n",
            "Number of O (non entity): 217845\n",
            "Nested train: 0\n",
            "\n",
            "Total number of identified entity words: 7559\n",
            "\n",
            "Total number of words that conform annotated entities: 7582\n",
            "\n",
            "Total number of words (entities and non-entities): 225404\n",
            "\n",
            "Total number of words (entities and non-entities): 225404\n"
          ],
          "name": "stdout"
        }
      ]
    },
    {
      "cell_type": "code",
      "metadata": {
        "id": "u4sGPF36sY7o",
        "colab_type": "code",
        "colab": {}
      },
      "source": [
        "# Checking:\n",
        "#file1_final = df_data2[df_data2['File_Index']==\"File: 2\"][df_data2['Tag']!=\"O\"]\n",
        "#file1_final"
      ],
      "execution_count": null,
      "outputs": []
    },
    {
      "cell_type": "markdown",
      "metadata": {
        "id": "dAqPI0J0MQ0C",
        "colab_type": "text"
      },
      "source": [
        "**Test with gold standards set**"
      ]
    },
    {
      "cell_type": "code",
      "metadata": {
        "id": "FzkfitqLMWMc",
        "colab_type": "code",
        "colab": {
          "base_uri": "https://localhost:8080/",
          "height": 187
        },
        "outputId": "09cd5d37-6cdc-44d1-e813-958dad326715"
      },
      "source": [
        "df_data_test_true2 = combine_txt_ann(df_ann_test_true, df_data_test_true2, max_len_test_true)\n",
        "print(df_data_test_true2['Tag'].unique())\n",
        "\n",
        "# replace nested entities\n",
        "df_data_test_true2['Tag'] = df_data_test_true2['Tag'].apply(lambda d: correct_tag(d))"
      ],
      "execution_count": null,
      "outputs": [
        {
          "output_type": "stream",
          "text": [
            "  File_Index Sentence_Index  ... Tag_24 Entity_length_24\n",
            "0    File: 1    Sentence: 1  ...    NaN              NaN\n",
            "1    File: 1    Sentence: 1  ...    NaN              NaN\n",
            "2    File: 1    Sentence: 1  ...    NaN              NaN\n",
            "3    File: 1    Sentence: 1  ...    NaN              NaN\n",
            "4    File: 1    Sentence: 1  ...    NaN              NaN\n",
            "\n",
            "[5 rows x 55 columns]\n",
            "['O' 'S-MOR' 'B-MOR' 'I-MOR' 'E-MOR' 'S-MORE-MOR' 'S-MORI-MOR'\n",
            " 'B-MORI-MOR' 'I-MORI-MOR' 'E-MORI-MOR' 'E-MORE-MOR']\n"
          ],
          "name": "stdout"
        }
      ]
    },
    {
      "cell_type": "code",
      "metadata": {
        "id": "IN2duG9T2dBN",
        "colab_type": "code",
        "colab": {
          "base_uri": "https://localhost:8080/",
          "height": 34
        },
        "outputId": "2a702f29-0c54-443d-b828-ef89826de7e8"
      },
      "source": [
        "print(df_data_test_true2['Tag'].unique())"
      ],
      "execution_count": null,
      "outputs": [
        {
          "output_type": "stream",
          "text": [
            "['O' 'S-MOR' 'B-MOR' 'I-MOR' 'E-MOR' 'V-MOR']\n"
          ],
          "name": "stdout"
        }
      ]
    },
    {
      "cell_type": "code",
      "metadata": {
        "id": "oPiytixWMhRB",
        "colab_type": "code",
        "colab": {
          "base_uri": "https://localhost:8080/",
          "height": 204
        },
        "outputId": "9dd5cb0e-cbbf-49ee-9c5f-0680b3b843f5"
      },
      "source": [
        "df_data_test_true2.head(5)"
      ],
      "execution_count": null,
      "outputs": [
        {
          "output_type": "execute_result",
          "data": {
            "text/html": [
              "<div>\n",
              "<style scoped>\n",
              "    .dataframe tbody tr th:only-of-type {\n",
              "        vertical-align: middle;\n",
              "    }\n",
              "\n",
              "    .dataframe tbody tr th {\n",
              "        vertical-align: top;\n",
              "    }\n",
              "\n",
              "    .dataframe thead th {\n",
              "        text-align: right;\n",
              "    }\n",
              "</style>\n",
              "<table border=\"1\" class=\"dataframe\">\n",
              "  <thead>\n",
              "    <tr style=\"text-align: right;\">\n",
              "      <th></th>\n",
              "      <th>File_Index</th>\n",
              "      <th>Sentence_Index</th>\n",
              "      <th>Word</th>\n",
              "      <th>POS</th>\n",
              "      <th>start</th>\n",
              "      <th>Tag</th>\n",
              "    </tr>\n",
              "  </thead>\n",
              "  <tbody>\n",
              "    <tr>\n",
              "      <th>0</th>\n",
              "      <td>File: 1</td>\n",
              "      <td>Sentence: 1</td>\n",
              "      <td>Anamnesis</td>\n",
              "      <td>NOUN</td>\n",
              "      <td>0</td>\n",
              "      <td>O</td>\n",
              "    </tr>\n",
              "    <tr>\n",
              "      <th>1</th>\n",
              "      <td>File: 1</td>\n",
              "      <td>Sentence: 1</td>\n",
              "      <td>\\n</td>\n",
              "      <td>SPACE</td>\n",
              "      <td>9</td>\n",
              "      <td>O</td>\n",
              "    </tr>\n",
              "    <tr>\n",
              "      <th>2</th>\n",
              "      <td>File: 1</td>\n",
              "      <td>Sentence: 1</td>\n",
              "      <td>Se</td>\n",
              "      <td>PRON</td>\n",
              "      <td>10</td>\n",
              "      <td>O</td>\n",
              "    </tr>\n",
              "    <tr>\n",
              "      <th>3</th>\n",
              "      <td>File: 1</td>\n",
              "      <td>Sentence: 1</td>\n",
              "      <td>trata</td>\n",
              "      <td>VERB</td>\n",
              "      <td>13</td>\n",
              "      <td>O</td>\n",
              "    </tr>\n",
              "    <tr>\n",
              "      <th>4</th>\n",
              "      <td>File: 1</td>\n",
              "      <td>Sentence: 1</td>\n",
              "      <td>de</td>\n",
              "      <td>ADP</td>\n",
              "      <td>19</td>\n",
              "      <td>O</td>\n",
              "    </tr>\n",
              "  </tbody>\n",
              "</table>\n",
              "</div>"
            ],
            "text/plain": [
              "  File_Index Sentence_Index       Word    POS  start Tag\n",
              "0    File: 1    Sentence: 1  Anamnesis   NOUN      0   O\n",
              "1    File: 1    Sentence: 1         \\n  SPACE      9   O\n",
              "2    File: 1    Sentence: 1         Se   PRON     10   O\n",
              "3    File: 1    Sentence: 1      trata   VERB     13   O\n",
              "4    File: 1    Sentence: 1         de    ADP     19   O"
            ]
          },
          "metadata": {
            "tags": []
          },
          "execution_count": 88
        }
      ]
    },
    {
      "cell_type": "code",
      "metadata": {
        "id": "hAo0vtO7MkJz",
        "colab_type": "code",
        "colab": {
          "base_uri": "https://localhost:8080/",
          "height": 255
        },
        "outputId": "65b59c63-746e-4661-de7e-e3058f350694"
      },
      "source": [
        "num_BMOR_test = len(df_data_test_true2[df_data_test_true2['Tag']=='B-MOR'])\n",
        "num_IMOR_test = len(df_data_test_true2[df_data_test_true2['Tag']=='I-MOR'])\n",
        "num_EMOR_test = len(df_data_test_true2[df_data_test_true2['Tag']=='E-MOR'])\n",
        "num_SMOR_test = len(df_data_test_true2[df_data_test_true2['Tag']=='S-MOR'])\n",
        "num_VMOR_test = len(df_data_test_true2[df_data_test_true2['Tag']=='V-MOR'])\n",
        "\n",
        "num_O_test = len(df_data_test_true2[df_data_test_true2['Tag']=='O'])\n",
        "\n",
        "print(\"Number of B-MOR entities: %d\" %num_BMOR_test)\n",
        "print(\"Number of I-MOR entities: %d\" %num_IMOR_test)\n",
        "print(\"Number of E-MOR entities: %d\" %num_EMOR_test)\n",
        "print(\"Number of S-MOR entities: %d\" %num_SMOR_test)\n",
        "print(\"Number of V-MOR entities: %d\" %num_VMOR_test)\n",
        "print(\"Number of O (non entity): %d\" %num_O_test)\n",
        "\n",
        "\n",
        "print(\"\\nTotal number of identified entity words: %d\" %(num_BMOR_test + num_IMOR_test + num_EMOR_test + num_SMOR_test + num_VMOR_test))\n",
        "\n",
        "print(\"\\nTotal number of words that conform annotated entities: %d\" %np.sum(entity_length_test))\n",
        "\n",
        "print(\"\\nTotal number of words (entities and non-entities): %d\" %len(df_data_test_true2))\n",
        "print(\"\\nTotal number of words (entities and non-entities): %d\" %(num_BMOR_test + num_IMOR_test + \n",
        "                                                                  num_EMOR_test + num_SMOR_test + num_VMOR_test + num_O_test))"
      ],
      "execution_count": null,
      "outputs": [
        {
          "output_type": "stream",
          "text": [
            "Number of B-MOR entities: 1709\n",
            "Number of I-MOR entities: 2791\n",
            "Number of E-MOR entities: 1707\n",
            "Number of S-MOR entities: 1908\n",
            "Number of V-MOR entities: 22\n",
            "Number of O (non entity): 239701\n",
            "\n",
            "Total number of identified entity words: 8137\n",
            "\n",
            "Total number of words that conform annotated entities: 8165\n",
            "\n",
            "Total number of words (entities and non-entities): 247838\n",
            "\n",
            "Total number of words (entities and non-entities): 247838\n"
          ],
          "name": "stdout"
        }
      ]
    },
    {
      "cell_type": "markdown",
      "metadata": {
        "id": "_tQ-E6exbcNc",
        "colab_type": "text"
      },
      "source": [
        "**Now, the dataframes to work with are:**\n",
        "\n",
        "**Train set:**\n",
        "- df_data_train2\n",
        "- df_ann_train\n",
        "\n",
        "**Development set**\n",
        "- df_data_dev2\n",
        "- df_ann_dev"
      ]
    },
    {
      "cell_type": "code",
      "metadata": {
        "id": "ZjcKJ47R0EGd",
        "colab_type": "code",
        "colab": {
          "base_uri": "https://localhost:8080/",
          "height": 677
        },
        "outputId": "7a904dc3-846c-4d4a-fc70-5ae016f3c5a5"
      },
      "source": [
        "df_ann_dev"
      ],
      "execution_count": null,
      "outputs": [
        {
          "output_type": "execute_result",
          "data": {
            "text/html": [
              "<div>\n",
              "<style scoped>\n",
              "    .dataframe tbody tr th:only-of-type {\n",
              "        vertical-align: middle;\n",
              "    }\n",
              "\n",
              "    .dataframe tbody tr th {\n",
              "        vertical-align: top;\n",
              "    }\n",
              "\n",
              "    .dataframe thead th {\n",
              "        text-align: right;\n",
              "    }\n",
              "</style>\n",
              "<table border=\"1\" class=\"dataframe\">\n",
              "  <thead>\n",
              "    <tr style=\"text-align: right;\">\n",
              "      <th></th>\n",
              "      <th>File_Index</th>\n",
              "      <th>Entity_ID</th>\n",
              "      <th>Type</th>\n",
              "      <th>Start_End_offset</th>\n",
              "      <th>Entity</th>\n",
              "      <th>Tag</th>\n",
              "      <th>Entity_length</th>\n",
              "      <th>Start_Char_position_0</th>\n",
              "      <th>Start_Char_position_1</th>\n",
              "      <th>Start_Char_position_2</th>\n",
              "      <th>Start_Char_position_3</th>\n",
              "      <th>Start_Char_position_4</th>\n",
              "      <th>Start_Char_position_5</th>\n",
              "      <th>Start_Char_position_6</th>\n",
              "      <th>Start_Char_position_7</th>\n",
              "      <th>Start_Char_position_8</th>\n",
              "      <th>Start_Char_position_9</th>\n",
              "      <th>Start_Char_position_10</th>\n",
              "      <th>Start_Char_position_11</th>\n",
              "      <th>Start_Char_position_12</th>\n",
              "      <th>Start_Char_position_13</th>\n",
              "      <th>Start_Char_position_14</th>\n",
              "      <th>Start_Char_position_15</th>\n",
              "      <th>Start_Char_position_16</th>\n",
              "    </tr>\n",
              "  </thead>\n",
              "  <tbody>\n",
              "    <tr>\n",
              "      <th>0</th>\n",
              "      <td>File: 1</td>\n",
              "      <td>T1</td>\n",
              "      <td>MORFOLOGIA_NEOPLASIA</td>\n",
              "      <td>[2428 2435, 2437 2445]</td>\n",
              "      <td>lesiones cutáneas\\n</td>\n",
              "      <td>B-MOR</td>\n",
              "      <td>2</td>\n",
              "      <td>2428</td>\n",
              "      <td>2437</td>\n",
              "      <td>-1</td>\n",
              "      <td>-1</td>\n",
              "      <td>-1</td>\n",
              "      <td>-1</td>\n",
              "      <td>-1</td>\n",
              "      <td>-1</td>\n",
              "      <td>-1</td>\n",
              "      <td>-1</td>\n",
              "      <td>-1</td>\n",
              "      <td>-1</td>\n",
              "      <td>-1</td>\n",
              "      <td>-1</td>\n",
              "      <td>-1</td>\n",
              "      <td>-1</td>\n",
              "      <td>-1</td>\n",
              "    </tr>\n",
              "    <tr>\n",
              "      <th>1</th>\n",
              "      <td>File: 1</td>\n",
              "      <td>T2</td>\n",
              "      <td>MORFOLOGIA_NEOPLASIA</td>\n",
              "      <td>[994 1001, 1003 1016, 1018 1019, 1021 1022, 10...</td>\n",
              "      <td>lesiones osteoblásticas en la calota\\n</td>\n",
              "      <td>B-MOR</td>\n",
              "      <td>5</td>\n",
              "      <td>994</td>\n",
              "      <td>1003</td>\n",
              "      <td>1018</td>\n",
              "      <td>1021</td>\n",
              "      <td>1024</td>\n",
              "      <td>-1</td>\n",
              "      <td>-1</td>\n",
              "      <td>-1</td>\n",
              "      <td>-1</td>\n",
              "      <td>-1</td>\n",
              "      <td>-1</td>\n",
              "      <td>-1</td>\n",
              "      <td>-1</td>\n",
              "      <td>-1</td>\n",
              "      <td>-1</td>\n",
              "      <td>-1</td>\n",
              "      <td>-1</td>\n",
              "    </tr>\n",
              "    <tr>\n",
              "      <th>2</th>\n",
              "      <td>File: 1</td>\n",
              "      <td>T3</td>\n",
              "      <td>MORFOLOGIA_NEOPLASIA</td>\n",
              "      <td>[1700 1707, 1709 1719]</td>\n",
              "      <td>lesiones pulmonares\\n</td>\n",
              "      <td>B-MOR</td>\n",
              "      <td>2</td>\n",
              "      <td>1700</td>\n",
              "      <td>1709</td>\n",
              "      <td>-1</td>\n",
              "      <td>-1</td>\n",
              "      <td>-1</td>\n",
              "      <td>-1</td>\n",
              "      <td>-1</td>\n",
              "      <td>-1</td>\n",
              "      <td>-1</td>\n",
              "      <td>-1</td>\n",
              "      <td>-1</td>\n",
              "      <td>-1</td>\n",
              "      <td>-1</td>\n",
              "      <td>-1</td>\n",
              "      <td>-1</td>\n",
              "      <td>-1</td>\n",
              "      <td>-1</td>\n",
              "    </tr>\n",
              "    <tr>\n",
              "      <th>3</th>\n",
              "      <td>File: 1</td>\n",
              "      <td>T4</td>\n",
              "      <td>MORFOLOGIA_NEOPLASIA</td>\n",
              "      <td>[1253 1258, 1260 1267]</td>\n",
              "      <td>lesión cutánea\\n</td>\n",
              "      <td>B-MOR</td>\n",
              "      <td>2</td>\n",
              "      <td>1253</td>\n",
              "      <td>1260</td>\n",
              "      <td>-1</td>\n",
              "      <td>-1</td>\n",
              "      <td>-1</td>\n",
              "      <td>-1</td>\n",
              "      <td>-1</td>\n",
              "      <td>-1</td>\n",
              "      <td>-1</td>\n",
              "      <td>-1</td>\n",
              "      <td>-1</td>\n",
              "      <td>-1</td>\n",
              "      <td>-1</td>\n",
              "      <td>-1</td>\n",
              "      <td>-1</td>\n",
              "      <td>-1</td>\n",
              "      <td>-1</td>\n",
              "    </tr>\n",
              "    <tr>\n",
              "      <th>4</th>\n",
              "      <td>File: 1</td>\n",
              "      <td>T5</td>\n",
              "      <td>MORFOLOGIA_NEOPLASIA</td>\n",
              "      <td>[273 284]</td>\n",
              "      <td>metastásica\\n</td>\n",
              "      <td>B-MOR</td>\n",
              "      <td>1</td>\n",
              "      <td>273</td>\n",
              "      <td>-1</td>\n",
              "      <td>-1</td>\n",
              "      <td>-1</td>\n",
              "      <td>-1</td>\n",
              "      <td>-1</td>\n",
              "      <td>-1</td>\n",
              "      <td>-1</td>\n",
              "      <td>-1</td>\n",
              "      <td>-1</td>\n",
              "      <td>-1</td>\n",
              "      <td>-1</td>\n",
              "      <td>-1</td>\n",
              "      <td>-1</td>\n",
              "      <td>-1</td>\n",
              "      <td>-1</td>\n",
              "      <td>-1</td>\n",
              "    </tr>\n",
              "    <tr>\n",
              "      <th>...</th>\n",
              "      <td>...</td>\n",
              "      <td>...</td>\n",
              "      <td>...</td>\n",
              "      <td>...</td>\n",
              "      <td>...</td>\n",
              "      <td>...</td>\n",
              "      <td>...</td>\n",
              "      <td>...</td>\n",
              "      <td>...</td>\n",
              "      <td>...</td>\n",
              "      <td>...</td>\n",
              "      <td>...</td>\n",
              "      <td>...</td>\n",
              "      <td>...</td>\n",
              "      <td>...</td>\n",
              "      <td>...</td>\n",
              "      <td>...</td>\n",
              "      <td>...</td>\n",
              "      <td>...</td>\n",
              "      <td>...</td>\n",
              "      <td>...</td>\n",
              "      <td>...</td>\n",
              "      <td>...</td>\n",
              "      <td>...</td>\n",
              "    </tr>\n",
              "    <tr>\n",
              "      <th>19</th>\n",
              "      <td>File: 250</td>\n",
              "      <td>T20</td>\n",
              "      <td>MORFOLOGIA_NEOPLASIA</td>\n",
              "      <td>[2774 2787, 2789 2796, 2798 2800, 2802 2811]</td>\n",
              "      <td>adenocarcinoma gástrico rIV (PULMONAR\\n</td>\n",
              "      <td>B-MOR</td>\n",
              "      <td>4</td>\n",
              "      <td>2774</td>\n",
              "      <td>2789</td>\n",
              "      <td>2798</td>\n",
              "      <td>2802</td>\n",
              "      <td>-1</td>\n",
              "      <td>-1</td>\n",
              "      <td>-1</td>\n",
              "      <td>-1</td>\n",
              "      <td>-1</td>\n",
              "      <td>-1</td>\n",
              "      <td>-1</td>\n",
              "      <td>-1</td>\n",
              "      <td>-1</td>\n",
              "      <td>-1</td>\n",
              "      <td>-1</td>\n",
              "      <td>-1</td>\n",
              "      <td>-1</td>\n",
              "    </tr>\n",
              "    <tr>\n",
              "      <th>20</th>\n",
              "      <td>File: 250</td>\n",
              "      <td>T21</td>\n",
              "      <td>MORFOLOGIA_NEOPLASIA</td>\n",
              "      <td>[4438 4447, 4449 4449, 4451 4455, 4457 4467]</td>\n",
              "      <td>progresión a nivel peritoneal\\n</td>\n",
              "      <td>B-MOR</td>\n",
              "      <td>4</td>\n",
              "      <td>4438</td>\n",
              "      <td>4449</td>\n",
              "      <td>4451</td>\n",
              "      <td>4457</td>\n",
              "      <td>-1</td>\n",
              "      <td>-1</td>\n",
              "      <td>-1</td>\n",
              "      <td>-1</td>\n",
              "      <td>-1</td>\n",
              "      <td>-1</td>\n",
              "      <td>-1</td>\n",
              "      <td>-1</td>\n",
              "      <td>-1</td>\n",
              "      <td>-1</td>\n",
              "      <td>-1</td>\n",
              "      <td>-1</td>\n",
              "      <td>-1</td>\n",
              "    </tr>\n",
              "    <tr>\n",
              "      <th>21</th>\n",
              "      <td>File: 250</td>\n",
              "      <td>T22</td>\n",
              "      <td>MORFOLOGIA_NEOPLASIA</td>\n",
              "      <td>[4471 4478, 4480 4492]</td>\n",
              "      <td>implante rectovesical\\n</td>\n",
              "      <td>B-MOR</td>\n",
              "      <td>2</td>\n",
              "      <td>4471</td>\n",
              "      <td>4480</td>\n",
              "      <td>-1</td>\n",
              "      <td>-1</td>\n",
              "      <td>-1</td>\n",
              "      <td>-1</td>\n",
              "      <td>-1</td>\n",
              "      <td>-1</td>\n",
              "      <td>-1</td>\n",
              "      <td>-1</td>\n",
              "      <td>-1</td>\n",
              "      <td>-1</td>\n",
              "      <td>-1</td>\n",
              "      <td>-1</td>\n",
              "      <td>-1</td>\n",
              "      <td>-1</td>\n",
              "      <td>-1</td>\n",
              "    </tr>\n",
              "    <tr>\n",
              "      <th>22</th>\n",
              "      <td>File: 250</td>\n",
              "      <td>T23</td>\n",
              "      <td>MORFOLOGIA_NEOPLASIA</td>\n",
              "      <td>[5352 5360, 5362 5363, 5365 5368, 5370 5377, 5...</td>\n",
              "      <td>implantes en cara anterior de recto\\n</td>\n",
              "      <td>B-MOR</td>\n",
              "      <td>6</td>\n",
              "      <td>5352</td>\n",
              "      <td>5362</td>\n",
              "      <td>5365</td>\n",
              "      <td>5370</td>\n",
              "      <td>5379</td>\n",
              "      <td>5382</td>\n",
              "      <td>-1</td>\n",
              "      <td>-1</td>\n",
              "      <td>-1</td>\n",
              "      <td>-1</td>\n",
              "      <td>-1</td>\n",
              "      <td>-1</td>\n",
              "      <td>-1</td>\n",
              "      <td>-1</td>\n",
              "      <td>-1</td>\n",
              "      <td>-1</td>\n",
              "      <td>-1</td>\n",
              "    </tr>\n",
              "    <tr>\n",
              "      <th>23</th>\n",
              "      <td>File: 250</td>\n",
              "      <td>T24</td>\n",
              "      <td>MORFOLOGIA_NEOPLASIA</td>\n",
              "      <td>[5515 5522, 5524 5525, 5527 5536]</td>\n",
              "      <td>implante en mesocolon\\n</td>\n",
              "      <td>B-MOR</td>\n",
              "      <td>3</td>\n",
              "      <td>5515</td>\n",
              "      <td>5524</td>\n",
              "      <td>5527</td>\n",
              "      <td>-1</td>\n",
              "      <td>-1</td>\n",
              "      <td>-1</td>\n",
              "      <td>-1</td>\n",
              "      <td>-1</td>\n",
              "      <td>-1</td>\n",
              "      <td>-1</td>\n",
              "      <td>-1</td>\n",
              "      <td>-1</td>\n",
              "      <td>-1</td>\n",
              "      <td>-1</td>\n",
              "      <td>-1</td>\n",
              "      <td>-1</td>\n",
              "      <td>-1</td>\n",
              "    </tr>\n",
              "  </tbody>\n",
              "</table>\n",
              "<p>3341 rows × 24 columns</p>\n",
              "</div>"
            ],
            "text/plain": [
              "   File_Index Entity_ID  ... Start_Char_position_15 Start_Char_position_16\n",
              "0     File: 1        T1  ...                     -1                     -1\n",
              "1     File: 1        T2  ...                     -1                     -1\n",
              "2     File: 1        T3  ...                     -1                     -1\n",
              "3     File: 1        T4  ...                     -1                     -1\n",
              "4     File: 1        T5  ...                     -1                     -1\n",
              "..        ...       ...  ...                    ...                    ...\n",
              "19  File: 250       T20  ...                     -1                     -1\n",
              "20  File: 250       T21  ...                     -1                     -1\n",
              "21  File: 250       T22  ...                     -1                     -1\n",
              "22  File: 250       T23  ...                     -1                     -1\n",
              "23  File: 250       T24  ...                     -1                     -1\n",
              "\n",
              "[3341 rows x 24 columns]"
            ]
          },
          "metadata": {
            "tags": []
          },
          "execution_count": 97
        }
      ]
    },
    {
      "cell_type": "code",
      "metadata": {
        "id": "hGfzZ0O6dm9Q",
        "colab_type": "code",
        "colab": {}
      },
      "source": [
        "# We just want to keep the first 5 columns of df_ann\n",
        "\n",
        "# Train set\n",
        "col_names = df_ann_train.columns[6:]\n",
        "for name in col_names:\n",
        "  df_ann_train = df_ann_train.drop([name], axis=1)\n",
        "\n",
        "# Development set\n",
        "col_names = df_ann_dev.columns[6:]\n",
        "for name in col_names:\n",
        "  df_ann_dev = df_ann_dev.drop([name], axis=1)"
      ],
      "execution_count": null,
      "outputs": []
    },
    {
      "cell_type": "code",
      "metadata": {
        "id": "5LfUP3wdSg2g",
        "colab_type": "code",
        "colab": {}
      },
      "source": [
        "# Test set with gold standards\n",
        "col_names = df_ann_test_true.columns[6:]\n",
        "for name in col_names:\n",
        "  df_ann_test_true = df_ann_test_true.drop([name], axis=1)"
      ],
      "execution_count": null,
      "outputs": []
    },
    {
      "cell_type": "code",
      "metadata": {
        "id": "hNui_fBN0NZa",
        "colab_type": "code",
        "colab": {
          "base_uri": "https://localhost:8080/",
          "height": 359
        },
        "outputId": "39fe4404-0a83-46cf-e6bf-8bd0c02bfe44"
      },
      "source": [
        "df_ann_train.head(10)"
      ],
      "execution_count": null,
      "outputs": [
        {
          "output_type": "execute_result",
          "data": {
            "text/html": [
              "<div>\n",
              "<style scoped>\n",
              "    .dataframe tbody tr th:only-of-type {\n",
              "        vertical-align: middle;\n",
              "    }\n",
              "\n",
              "    .dataframe tbody tr th {\n",
              "        vertical-align: top;\n",
              "    }\n",
              "\n",
              "    .dataframe thead th {\n",
              "        text-align: right;\n",
              "    }\n",
              "</style>\n",
              "<table border=\"1\" class=\"dataframe\">\n",
              "  <thead>\n",
              "    <tr style=\"text-align: right;\">\n",
              "      <th></th>\n",
              "      <th>File_Index</th>\n",
              "      <th>Entity_ID</th>\n",
              "      <th>Type</th>\n",
              "      <th>Start_End_offset</th>\n",
              "      <th>Entity</th>\n",
              "      <th>Tag</th>\n",
              "    </tr>\n",
              "  </thead>\n",
              "  <tbody>\n",
              "    <tr>\n",
              "      <th>0</th>\n",
              "      <td>File: 1</td>\n",
              "      <td>T1</td>\n",
              "      <td>MORFOLOGIA_NEOPLASIA</td>\n",
              "      <td>[2719 2727, 2729 2740]</td>\n",
              "      <td>Carcinoma microcítico\\n</td>\n",
              "      <td>B-MOR</td>\n",
              "    </tr>\n",
              "    <tr>\n",
              "      <th>1</th>\n",
              "      <td>File: 1</td>\n",
              "      <td>T2</td>\n",
              "      <td>MORFOLOGIA_NEOPLASIA</td>\n",
              "      <td>[2950 2958, 2960 2971]</td>\n",
              "      <td>carcinoma microcítico\\n</td>\n",
              "      <td>B-MOR</td>\n",
              "    </tr>\n",
              "    <tr>\n",
              "      <th>2</th>\n",
              "      <td>File: 1</td>\n",
              "      <td>T3</td>\n",
              "      <td>MORFOLOGIA_NEOPLASIA</td>\n",
              "      <td>[2988 2990]</td>\n",
              "      <td>M0\\n</td>\n",
              "      <td>B-MOR</td>\n",
              "    </tr>\n",
              "    <tr>\n",
              "      <th>0</th>\n",
              "      <td>File: 2</td>\n",
              "      <td>T1</td>\n",
              "      <td>MORFOLOGIA_NEOPLASIA</td>\n",
              "      <td>[6833 6844]</td>\n",
              "      <td>metastásica\\n</td>\n",
              "      <td>B-MOR</td>\n",
              "    </tr>\n",
              "    <tr>\n",
              "      <th>1</th>\n",
              "      <td>File: 2</td>\n",
              "      <td>T2</td>\n",
              "      <td>MORFOLOGIA_NEOPLASIA</td>\n",
              "      <td>[1191 1201]</td>\n",
              "      <td>metástasis\\n</td>\n",
              "      <td>B-MOR</td>\n",
              "    </tr>\n",
              "    <tr>\n",
              "      <th>2</th>\n",
              "      <td>File: 2</td>\n",
              "      <td>T3</td>\n",
              "      <td>MORFOLOGIA_NEOPLASIA</td>\n",
              "      <td>[2039 2049]</td>\n",
              "      <td>metástasis\\n</td>\n",
              "      <td>B-MOR</td>\n",
              "    </tr>\n",
              "    <tr>\n",
              "      <th>3</th>\n",
              "      <td>File: 2</td>\n",
              "      <td>T4</td>\n",
              "      <td>MORFOLOGIA_NEOPLASIA</td>\n",
              "      <td>[976 985]</td>\n",
              "      <td>neoplasia\\n</td>\n",
              "      <td>B-MOR</td>\n",
              "    </tr>\n",
              "    <tr>\n",
              "      <th>4</th>\n",
              "      <td>File: 2</td>\n",
              "      <td>T5</td>\n",
              "      <td>MORFOLOGIA_NEOPLASIA</td>\n",
              "      <td>[2666 2675]</td>\n",
              "      <td>neoplasia\\n</td>\n",
              "      <td>B-MOR</td>\n",
              "    </tr>\n",
              "    <tr>\n",
              "      <th>5</th>\n",
              "      <td>File: 2</td>\n",
              "      <td>T6</td>\n",
              "      <td>MORFOLOGIA_NEOPLASIA</td>\n",
              "      <td>[212 217]</td>\n",
              "      <td>tumor\\n</td>\n",
              "      <td>B-MOR</td>\n",
              "    </tr>\n",
              "    <tr>\n",
              "      <th>6</th>\n",
              "      <td>File: 2</td>\n",
              "      <td>T7</td>\n",
              "      <td>MORFOLOGIA_NEOPLASIA</td>\n",
              "      <td>[7122 7132]</td>\n",
              "      <td>tumoración\\n</td>\n",
              "      <td>B-MOR</td>\n",
              "    </tr>\n",
              "  </tbody>\n",
              "</table>\n",
              "</div>"
            ],
            "text/plain": [
              "  File_Index Entity_ID  ...                   Entity    Tag\n",
              "0    File: 1        T1  ...  Carcinoma microcítico\\n  B-MOR\n",
              "1    File: 1        T2  ...  carcinoma microcítico\\n  B-MOR\n",
              "2    File: 1        T3  ...                     M0\\n  B-MOR\n",
              "0    File: 2        T1  ...            metastásica\\n  B-MOR\n",
              "1    File: 2        T2  ...             metástasis\\n  B-MOR\n",
              "2    File: 2        T3  ...             metástasis\\n  B-MOR\n",
              "3    File: 2        T4  ...              neoplasia\\n  B-MOR\n",
              "4    File: 2        T5  ...              neoplasia\\n  B-MOR\n",
              "5    File: 2        T6  ...                  tumor\\n  B-MOR\n",
              "6    File: 2        T7  ...             tumoración\\n  B-MOR\n",
              "\n",
              "[10 rows x 6 columns]"
            ]
          },
          "metadata": {
            "tags": []
          },
          "execution_count": 55
        }
      ]
    },
    {
      "cell_type": "code",
      "metadata": {
        "id": "gihYnVbhSqGB",
        "colab_type": "code",
        "colab": {
          "base_uri": "https://localhost:8080/",
          "height": 359
        },
        "outputId": "91d53baa-79bd-496e-cf1c-35adc5bc60dd"
      },
      "source": [
        "df_ann_test_true.head(10)"
      ],
      "execution_count": null,
      "outputs": [
        {
          "output_type": "execute_result",
          "data": {
            "text/html": [
              "<div>\n",
              "<style scoped>\n",
              "    .dataframe tbody tr th:only-of-type {\n",
              "        vertical-align: middle;\n",
              "    }\n",
              "\n",
              "    .dataframe tbody tr th {\n",
              "        vertical-align: top;\n",
              "    }\n",
              "\n",
              "    .dataframe thead th {\n",
              "        text-align: right;\n",
              "    }\n",
              "</style>\n",
              "<table border=\"1\" class=\"dataframe\">\n",
              "  <thead>\n",
              "    <tr style=\"text-align: right;\">\n",
              "      <th></th>\n",
              "      <th>File_Index</th>\n",
              "      <th>Entity_ID</th>\n",
              "      <th>Type</th>\n",
              "      <th>Start_End_offset</th>\n",
              "      <th>Entity</th>\n",
              "      <th>Tag</th>\n",
              "    </tr>\n",
              "  </thead>\n",
              "  <tbody>\n",
              "    <tr>\n",
              "      <th>0</th>\n",
              "      <td>File: 1</td>\n",
              "      <td>T1</td>\n",
              "      <td>MORFOLOGIA_NEOPLASIA</td>\n",
              "      <td>[2810 2824]</td>\n",
              "      <td>adenocarcinoma\\n</td>\n",
              "      <td>B-MOR</td>\n",
              "    </tr>\n",
              "    <tr>\n",
              "      <th>1</th>\n",
              "      <td>File: 1</td>\n",
              "      <td>T2</td>\n",
              "      <td>MORFOLOGIA_NEOPLASIA</td>\n",
              "      <td>[2979 2993]</td>\n",
              "      <td>adenocarcinoma\\n</td>\n",
              "      <td>B-MOR</td>\n",
              "    </tr>\n",
              "    <tr>\n",
              "      <th>2</th>\n",
              "      <td>File: 1</td>\n",
              "      <td>T3</td>\n",
              "      <td>MORFOLOGIA_NEOPLASIA</td>\n",
              "      <td>[1115 1128, 1130 1133, 1135 1147]</td>\n",
              "      <td>adenocarcinoma bien diferenciado\\n</td>\n",
              "      <td>B-MOR</td>\n",
              "    </tr>\n",
              "    <tr>\n",
              "      <th>3</th>\n",
              "      <td>File: 1</td>\n",
              "      <td>T4</td>\n",
              "      <td>MORFOLOGIA_NEOPLASIA</td>\n",
              "      <td>[1911 1924, 1926 1929, 1931 1943]</td>\n",
              "      <td>adenocarcinoma bien diferenciado\\n</td>\n",
              "      <td>B-MOR</td>\n",
              "    </tr>\n",
              "    <tr>\n",
              "      <th>4</th>\n",
              "      <td>File: 1</td>\n",
              "      <td>T5</td>\n",
              "      <td>MORFOLOGIA_NEOPLASIA</td>\n",
              "      <td>[4046 4055, 4057 4072]</td>\n",
              "      <td>adenopatía supraclavicular\\n</td>\n",
              "      <td>B-MOR</td>\n",
              "    </tr>\n",
              "    <tr>\n",
              "      <th>5</th>\n",
              "      <td>File: 1</td>\n",
              "      <td>T6</td>\n",
              "      <td>MORFOLOGIA_NEOPLASIA</td>\n",
              "      <td>[2172 2181, 2183 2191]</td>\n",
              "      <td>afectación hepática\\n</td>\n",
              "      <td>B-MOR</td>\n",
              "    </tr>\n",
              "    <tr>\n",
              "      <th>6</th>\n",
              "      <td>File: 1</td>\n",
              "      <td>T7</td>\n",
              "      <td>MORFOLOGIA_NEOPLASIA</td>\n",
              "      <td>[3531 3538, 3540 3549]</td>\n",
              "      <td>lesiones hepáticas\\n</td>\n",
              "      <td>B-MOR</td>\n",
              "    </tr>\n",
              "    <tr>\n",
              "      <th>7</th>\n",
              "      <td>File: 1</td>\n",
              "      <td>T8</td>\n",
              "      <td>MORFOLOGIA_NEOPLASIA</td>\n",
              "      <td>[882 894]</td>\n",
              "      <td>metastásicas\\n</td>\n",
              "      <td>B-MOR</td>\n",
              "    </tr>\n",
              "    <tr>\n",
              "      <th>8</th>\n",
              "      <td>File: 1</td>\n",
              "      <td>T9</td>\n",
              "      <td>MORFOLOGIA_NEOPLASIA</td>\n",
              "      <td>[1678 1690]</td>\n",
              "      <td>metastásicas\\n</td>\n",
              "      <td>B-MOR</td>\n",
              "    </tr>\n",
              "    <tr>\n",
              "      <th>9</th>\n",
              "      <td>File: 1</td>\n",
              "      <td>T10</td>\n",
              "      <td>MORFOLOGIA_NEOPLASIA</td>\n",
              "      <td>[2494 2504]</td>\n",
              "      <td>metástasis\\n</td>\n",
              "      <td>B-MOR</td>\n",
              "    </tr>\n",
              "  </tbody>\n",
              "</table>\n",
              "</div>"
            ],
            "text/plain": [
              "  File_Index Entity_ID  ...                              Entity    Tag\n",
              "0    File: 1        T1  ...                    adenocarcinoma\\n  B-MOR\n",
              "1    File: 1        T2  ...                    adenocarcinoma\\n  B-MOR\n",
              "2    File: 1        T3  ...  adenocarcinoma bien diferenciado\\n  B-MOR\n",
              "3    File: 1        T4  ...  adenocarcinoma bien diferenciado\\n  B-MOR\n",
              "4    File: 1        T5  ...        adenopatía supraclavicular\\n  B-MOR\n",
              "5    File: 1        T6  ...               afectación hepática\\n  B-MOR\n",
              "6    File: 1        T7  ...                lesiones hepáticas\\n  B-MOR\n",
              "7    File: 1        T8  ...                      metastásicas\\n  B-MOR\n",
              "8    File: 1        T9  ...                      metastásicas\\n  B-MOR\n",
              "9    File: 1       T10  ...                        metástasis\\n  B-MOR\n",
              "\n",
              "[10 rows x 6 columns]"
            ]
          },
          "metadata": {
            "tags": []
          },
          "execution_count": 91
        }
      ]
    },
    {
      "cell_type": "code",
      "metadata": {
        "id": "kNVEzO3t2rQV",
        "colab_type": "code",
        "colab": {
          "base_uri": "https://localhost:8080/",
          "height": 419
        },
        "outputId": "fed96251-133f-4e85-b6e0-e2f08c13c331"
      },
      "source": [
        "df_data_test_true2"
      ],
      "execution_count": null,
      "outputs": [
        {
          "output_type": "execute_result",
          "data": {
            "text/html": [
              "<div>\n",
              "<style scoped>\n",
              "    .dataframe tbody tr th:only-of-type {\n",
              "        vertical-align: middle;\n",
              "    }\n",
              "\n",
              "    .dataframe tbody tr th {\n",
              "        vertical-align: top;\n",
              "    }\n",
              "\n",
              "    .dataframe thead th {\n",
              "        text-align: right;\n",
              "    }\n",
              "</style>\n",
              "<table border=\"1\" class=\"dataframe\">\n",
              "  <thead>\n",
              "    <tr style=\"text-align: right;\">\n",
              "      <th></th>\n",
              "      <th>File_Index</th>\n",
              "      <th>Sentence_Index</th>\n",
              "      <th>Word</th>\n",
              "      <th>POS</th>\n",
              "      <th>start</th>\n",
              "      <th>Tag</th>\n",
              "    </tr>\n",
              "  </thead>\n",
              "  <tbody>\n",
              "    <tr>\n",
              "      <th>0</th>\n",
              "      <td>File: 1</td>\n",
              "      <td>Sentence: 1</td>\n",
              "      <td>Anamnesis</td>\n",
              "      <td>NOUN</td>\n",
              "      <td>0</td>\n",
              "      <td>O</td>\n",
              "    </tr>\n",
              "    <tr>\n",
              "      <th>1</th>\n",
              "      <td>File: 1</td>\n",
              "      <td>Sentence: 1</td>\n",
              "      <td>\\n</td>\n",
              "      <td>SPACE</td>\n",
              "      <td>9</td>\n",
              "      <td>O</td>\n",
              "    </tr>\n",
              "    <tr>\n",
              "      <th>2</th>\n",
              "      <td>File: 1</td>\n",
              "      <td>Sentence: 1</td>\n",
              "      <td>Se</td>\n",
              "      <td>PRON</td>\n",
              "      <td>10</td>\n",
              "      <td>O</td>\n",
              "    </tr>\n",
              "    <tr>\n",
              "      <th>3</th>\n",
              "      <td>File: 1</td>\n",
              "      <td>Sentence: 1</td>\n",
              "      <td>trata</td>\n",
              "      <td>VERB</td>\n",
              "      <td>13</td>\n",
              "      <td>O</td>\n",
              "    </tr>\n",
              "    <tr>\n",
              "      <th>4</th>\n",
              "      <td>File: 1</td>\n",
              "      <td>Sentence: 1</td>\n",
              "      <td>de</td>\n",
              "      <td>ADP</td>\n",
              "      <td>19</td>\n",
              "      <td>O</td>\n",
              "    </tr>\n",
              "    <tr>\n",
              "      <th>...</th>\n",
              "      <td>...</td>\n",
              "      <td>...</td>\n",
              "      <td>...</td>\n",
              "      <td>...</td>\n",
              "      <td>...</td>\n",
              "      <td>...</td>\n",
              "    </tr>\n",
              "    <tr>\n",
              "      <th>247833</th>\n",
              "      <td>File: 300</td>\n",
              "      <td>Sentence: 11235</td>\n",
              "      <td>433</td>\n",
              "      <td>NUM</td>\n",
              "      <td>6226</td>\n",
              "      <td>O</td>\n",
              "    </tr>\n",
              "    <tr>\n",
              "      <th>247834</th>\n",
              "      <td>File: 300</td>\n",
              "      <td>Sentence: 11235</td>\n",
              "      <td>U</td>\n",
              "      <td>PROPN</td>\n",
              "      <td>6230</td>\n",
              "      <td>O</td>\n",
              "    </tr>\n",
              "    <tr>\n",
              "      <th>247835</th>\n",
              "      <td>File: 300</td>\n",
              "      <td>Sentence: 11235</td>\n",
              "      <td>/</td>\n",
              "      <td>PUNCT</td>\n",
              "      <td>6231</td>\n",
              "      <td>O</td>\n",
              "    </tr>\n",
              "    <tr>\n",
              "      <th>247836</th>\n",
              "      <td>File: 300</td>\n",
              "      <td>Sentence: 11235</td>\n",
              "      <td>ml</td>\n",
              "      <td>NOUN</td>\n",
              "      <td>6232</td>\n",
              "      <td>O</td>\n",
              "    </tr>\n",
              "    <tr>\n",
              "      <th>247837</th>\n",
              "      <td>File: 300</td>\n",
              "      <td>Sentence: 11235</td>\n",
              "      <td>.</td>\n",
              "      <td>PUNCT</td>\n",
              "      <td>6234</td>\n",
              "      <td>O</td>\n",
              "    </tr>\n",
              "  </tbody>\n",
              "</table>\n",
              "<p>247838 rows × 6 columns</p>\n",
              "</div>"
            ],
            "text/plain": [
              "       File_Index   Sentence_Index       Word    POS  start Tag\n",
              "0         File: 1      Sentence: 1  Anamnesis   NOUN      0   O\n",
              "1         File: 1      Sentence: 1         \\n  SPACE      9   O\n",
              "2         File: 1      Sentence: 1         Se   PRON     10   O\n",
              "3         File: 1      Sentence: 1      trata   VERB     13   O\n",
              "4         File: 1      Sentence: 1         de    ADP     19   O\n",
              "...           ...              ...        ...    ...    ...  ..\n",
              "247833  File: 300  Sentence: 11235        433    NUM   6226   O\n",
              "247834  File: 300  Sentence: 11235          U  PROPN   6230   O\n",
              "247835  File: 300  Sentence: 11235          /  PUNCT   6231   O\n",
              "247836  File: 300  Sentence: 11235         ml   NOUN   6232   O\n",
              "247837  File: 300  Sentence: 11235          .  PUNCT   6234   O\n",
              "\n",
              "[247838 rows x 6 columns]"
            ]
          },
          "metadata": {
            "tags": []
          },
          "execution_count": 93
        }
      ]
    },
    {
      "cell_type": "code",
      "metadata": {
        "id": "ChCzDMbz2jMj",
        "colab_type": "code",
        "colab": {}
      },
      "source": [
        "df_data_test_true2 = df_data_test_true2.drop_duplicates(['File_Index','Sentence_Index','start'], keep = 'first')\n"
      ],
      "execution_count": null,
      "outputs": []
    },
    {
      "cell_type": "code",
      "metadata": {
        "id": "bgkSsFfH23pC",
        "colab_type": "code",
        "colab": {
          "base_uri": "https://localhost:8080/",
          "height": 419
        },
        "outputId": "cc802d36-86c0-41ef-fc45-fa20ae73af64"
      },
      "source": [
        "df_data_test_true2"
      ],
      "execution_count": null,
      "outputs": [
        {
          "output_type": "execute_result",
          "data": {
            "text/html": [
              "<div>\n",
              "<style scoped>\n",
              "    .dataframe tbody tr th:only-of-type {\n",
              "        vertical-align: middle;\n",
              "    }\n",
              "\n",
              "    .dataframe tbody tr th {\n",
              "        vertical-align: top;\n",
              "    }\n",
              "\n",
              "    .dataframe thead th {\n",
              "        text-align: right;\n",
              "    }\n",
              "</style>\n",
              "<table border=\"1\" class=\"dataframe\">\n",
              "  <thead>\n",
              "    <tr style=\"text-align: right;\">\n",
              "      <th></th>\n",
              "      <th>File_Index</th>\n",
              "      <th>Sentence_Index</th>\n",
              "      <th>Word</th>\n",
              "      <th>POS</th>\n",
              "      <th>start</th>\n",
              "      <th>Tag</th>\n",
              "    </tr>\n",
              "  </thead>\n",
              "  <tbody>\n",
              "    <tr>\n",
              "      <th>0</th>\n",
              "      <td>File: 1</td>\n",
              "      <td>Sentence: 1</td>\n",
              "      <td>Anamnesis</td>\n",
              "      <td>NOUN</td>\n",
              "      <td>0</td>\n",
              "      <td>O</td>\n",
              "    </tr>\n",
              "    <tr>\n",
              "      <th>1</th>\n",
              "      <td>File: 1</td>\n",
              "      <td>Sentence: 1</td>\n",
              "      <td>\\n</td>\n",
              "      <td>SPACE</td>\n",
              "      <td>9</td>\n",
              "      <td>O</td>\n",
              "    </tr>\n",
              "    <tr>\n",
              "      <th>2</th>\n",
              "      <td>File: 1</td>\n",
              "      <td>Sentence: 1</td>\n",
              "      <td>Se</td>\n",
              "      <td>PRON</td>\n",
              "      <td>10</td>\n",
              "      <td>O</td>\n",
              "    </tr>\n",
              "    <tr>\n",
              "      <th>3</th>\n",
              "      <td>File: 1</td>\n",
              "      <td>Sentence: 1</td>\n",
              "      <td>trata</td>\n",
              "      <td>VERB</td>\n",
              "      <td>13</td>\n",
              "      <td>O</td>\n",
              "    </tr>\n",
              "    <tr>\n",
              "      <th>4</th>\n",
              "      <td>File: 1</td>\n",
              "      <td>Sentence: 1</td>\n",
              "      <td>de</td>\n",
              "      <td>ADP</td>\n",
              "      <td>19</td>\n",
              "      <td>O</td>\n",
              "    </tr>\n",
              "    <tr>\n",
              "      <th>...</th>\n",
              "      <td>...</td>\n",
              "      <td>...</td>\n",
              "      <td>...</td>\n",
              "      <td>...</td>\n",
              "      <td>...</td>\n",
              "      <td>...</td>\n",
              "    </tr>\n",
              "    <tr>\n",
              "      <th>247833</th>\n",
              "      <td>File: 300</td>\n",
              "      <td>Sentence: 11235</td>\n",
              "      <td>433</td>\n",
              "      <td>NUM</td>\n",
              "      <td>6226</td>\n",
              "      <td>O</td>\n",
              "    </tr>\n",
              "    <tr>\n",
              "      <th>247834</th>\n",
              "      <td>File: 300</td>\n",
              "      <td>Sentence: 11235</td>\n",
              "      <td>U</td>\n",
              "      <td>PROPN</td>\n",
              "      <td>6230</td>\n",
              "      <td>O</td>\n",
              "    </tr>\n",
              "    <tr>\n",
              "      <th>247835</th>\n",
              "      <td>File: 300</td>\n",
              "      <td>Sentence: 11235</td>\n",
              "      <td>/</td>\n",
              "      <td>PUNCT</td>\n",
              "      <td>6231</td>\n",
              "      <td>O</td>\n",
              "    </tr>\n",
              "    <tr>\n",
              "      <th>247836</th>\n",
              "      <td>File: 300</td>\n",
              "      <td>Sentence: 11235</td>\n",
              "      <td>ml</td>\n",
              "      <td>NOUN</td>\n",
              "      <td>6232</td>\n",
              "      <td>O</td>\n",
              "    </tr>\n",
              "    <tr>\n",
              "      <th>247837</th>\n",
              "      <td>File: 300</td>\n",
              "      <td>Sentence: 11235</td>\n",
              "      <td>.</td>\n",
              "      <td>PUNCT</td>\n",
              "      <td>6234</td>\n",
              "      <td>O</td>\n",
              "    </tr>\n",
              "  </tbody>\n",
              "</table>\n",
              "<p>247670 rows × 6 columns</p>\n",
              "</div>"
            ],
            "text/plain": [
              "       File_Index   Sentence_Index       Word    POS  start Tag\n",
              "0         File: 1      Sentence: 1  Anamnesis   NOUN      0   O\n",
              "1         File: 1      Sentence: 1         \\n  SPACE      9   O\n",
              "2         File: 1      Sentence: 1         Se   PRON     10   O\n",
              "3         File: 1      Sentence: 1      trata   VERB     13   O\n",
              "4         File: 1      Sentence: 1         de    ADP     19   O\n",
              "...           ...              ...        ...    ...    ...  ..\n",
              "247833  File: 300  Sentence: 11235        433    NUM   6226   O\n",
              "247834  File: 300  Sentence: 11235          U  PROPN   6230   O\n",
              "247835  File: 300  Sentence: 11235          /  PUNCT   6231   O\n",
              "247836  File: 300  Sentence: 11235         ml   NOUN   6232   O\n",
              "247837  File: 300  Sentence: 11235          .  PUNCT   6234   O\n",
              "\n",
              "[247670 rows x 6 columns]"
            ]
          },
          "metadata": {
            "tags": []
          },
          "execution_count": 95
        }
      ]
    },
    {
      "cell_type": "markdown",
      "metadata": {
        "id": "XLwUH_gMDloF",
        "colab_type": "text"
      },
      "source": [
        "### **PREPROCESSING**"
      ]
    },
    {
      "cell_type": "code",
      "metadata": {
        "id": "G_fEoMNCbPxr",
        "colab_type": "code",
        "colab": {}
      },
      "source": [
        "# This is a class to get sentence. The each sentence will be list of tuples with its tag and pos.\n",
        "class sentence(object):\n",
        "    def __init__(self, df):\n",
        "        self.n_sent = 1\n",
        "        self.df = df\n",
        "        self.empty = False\n",
        "        agg = lambda s : [(w, p, t, i) for w, p, t, i in zip(s['Word'].values.tolist(),\n",
        "                                                       s['POS'].values.tolist(),\n",
        "                                                       s['Tag'].values.tolist(),\n",
        "                                                       s['start'].values.tolist())]\n",
        "        self.grouped = self.df.groupby(\"Sentence_Index\").apply(agg)\n",
        "        self.sentences = [s for s in self.grouped]\n",
        "        \n",
        "    def get_text(self):\n",
        "        try:\n",
        "            s = self.grouped['Sentence: {}'.format(self.n_sent)]\n",
        "            self.n_sent +=1\n",
        "            return s\n",
        "        except:\n",
        "            return None"
      ],
      "execution_count": null,
      "outputs": []
    },
    {
      "cell_type": "code",
      "metadata": {
        "id": "G_I3W3R7exuq",
        "colab_type": "code",
        "colab": {}
      },
      "source": [
        "# This is a class to get sentence. The each sentence will be list of tuples with its tag and pos.\n",
        "class sentence_test(object):\n",
        "    def __init__(self, df):\n",
        "        self.n_sent = 1\n",
        "        self.df = df\n",
        "        self.empty = False\n",
        "        agg = lambda s : [(w, p, i) for w, p, i in zip(s['Word'].values.tolist(),\n",
        "                                                       s['POS'].values.tolist(),\n",
        "                                                       s['Start_Char_position'].values.tolist())]\n",
        "        self.grouped = self.df.groupby(\"Sentence_Index\").apply(agg)\n",
        "        self.sentences = [s for s in self.grouped]\n",
        "        \n",
        "    def get_text(self):\n",
        "        try:\n",
        "            s = self.grouped['Sentence: {}'.format(self.n_sent)]\n",
        "            self.n_sent +=1\n",
        "            return s\n",
        "        except:\n",
        "            return None"
      ],
      "execution_count": null,
      "outputs": []
    },
    {
      "cell_type": "code",
      "metadata": {
        "id": "tazg1dK7x9Hi",
        "colab_type": "code",
        "colab": {}
      },
      "source": [
        "df_data_train2copy = df_data_train2.copy()\n",
        "df_data_dev2copy = df_data_dev2.copy()\n",
        "df_data_testcopy = df_data_test.copy()"
      ],
      "execution_count": null,
      "outputs": []
    },
    {
      "cell_type": "code",
      "metadata": {
        "id": "WpYSmQ9KS1NK",
        "colab_type": "code",
        "colab": {}
      },
      "source": [
        "df_data_test_true2copy = df_data_test_true2.copy()"
      ],
      "execution_count": null,
      "outputs": []
    },
    {
      "cell_type": "code",
      "metadata": {
        "id": "9l7WW20syrl4",
        "colab_type": "code",
        "colab": {}
      },
      "source": [
        "# Turn \"Sentence: 1\" to 1 and \"File: 1\" to 1\n",
        "df_data_train2['Sentence_Index'] = df_data_train2['Sentence_Index'].map(lambda d: d[10:])\n",
        "df_data_train2['Sentence_Index'] = df_data_train2['Sentence_Index'].astype(np.long)\n",
        "df_data_train2['File_Index'] = df_data_train2['File_Index'].map(lambda d: d[6:])\n",
        "df_data_train2['File_Index'] = df_data_train2['File_Index'].astype(np.long)\n",
        "\n",
        "# Turn \"Sentence: 1\" to 1 and \"File: 1\" to 1\n",
        "df_data_dev2['Sentence_Index'] = df_data_dev2['Sentence_Index'].map(lambda d: d[10:])\n",
        "df_data_dev2['Sentence_Index'] = df_data_dev2['Sentence_Index'].astype(np.long)\n",
        "df_data_dev2['File_Index'] = df_data_dev2['File_Index'].map(lambda d: d[6:])\n",
        "df_data_dev2['File_Index'] = df_data_dev2['File_Index'].astype(np.long)\n",
        "\n",
        "# Turn \"Sentence: 1\" to 1 and \"File: 1\" to 1\n",
        "df_data_test['Sentence_Index'] = df_data_test['Sentence_Index'].map(lambda d: d[10:])\n",
        "df_data_test['Sentence_Index'] = df_data_test['Sentence_Index'].astype(np.long)\n",
        "df_data_test['File_Index'] = df_data_test['File_Index'].map(lambda d: d[6:])\n",
        "df_data_test['File_Index'] = df_data_test['File_Index'].astype(np.long)\n",
        "\n",
        "# Turn \"Sentence: 1\" to 1 and \"File: 1\" to 1\n",
        "df_data_test_true2['Sentence_Index'] = df_data_test_true2['Sentence_Index'].map(lambda d: d[10:])\n",
        "df_data_test_true2['Sentence_Index'] = df_data_test_true2['Sentence_Index'].astype(np.long)\n",
        "df_data_test_true2['File_Index'] = df_data_test_true2['File_Index'].map(lambda d: d[6:])\n",
        "df_data_test_true2['File_Index'] = df_data_test_true2['File_Index'].astype(np.long)"
      ],
      "execution_count": null,
      "outputs": []
    },
    {
      "cell_type": "markdown",
      "metadata": {
        "id": "LTKD2nRYYFGC",
        "colab_type": "text"
      },
      "source": [
        "**Creating the sentence tuples from each file individually**"
      ]
    },
    {
      "cell_type": "code",
      "metadata": {
        "id": "bIoy-HdrbTi2",
        "colab_type": "code",
        "colab": {
          "base_uri": "https://localhost:8080/",
          "height": 54
        },
        "outputId": "1bba2e4b-183a-4704-a2bb-cae5098e7a7a"
      },
      "source": [
        "# TRAIN SET\n",
        "\n",
        "getter = sentence(df_data_train2)\n",
        "sentences_train = getter.sentences\n",
        "\n",
        "# (word, position, tag)\n",
        "print(sentences_train[0]) # first sentence "
      ],
      "execution_count": null,
      "outputs": [
        {
          "output_type": "stream",
          "text": [
            "[('ANAMNESIS', 'NOUN', 'O', 0), ('\\n', 'SPACE', 'O', 9), ('Mujer', 'NOUN', 'O', 10), ('de', 'ADP', 'O', 16), ('67', 'NUM', 'O', 19), ('años', 'NOUN', 'O', 22), ('con', 'ADP', 'O', 27), ('antecedentes', 'NOUN', 'O', 31), ('personales', 'ADJ', 'O', 44), ('de', 'ADP', 'O', 55), ('hipotiroidismo', 'NOUN', 'O', 58), ('en', 'ADP', 'O', 73), ('tratamiento', 'NOUN', 'O', 76), ('con', 'ADP', 'O', 88), ('levotiroxina', 'NOUN', 'O', 92), ('y', 'CCONJ', 'O', 105), ('fumadora', 'ADJ', 'O', 107), ('activa', 'ADJ', 'O', 116), ('de', 'ADP', 'O', 123), ('12.5', 'NUM', 'O', 126), ('paquetes', 'NOUN', 'O', 131), ('/', 'PUNCT', 'O', 139), ('año', 'NOUN', 'O', 140), ('.', 'PUNCT', 'O', 143)]\n"
          ],
          "name": "stdout"
        }
      ]
    },
    {
      "cell_type": "code",
      "metadata": {
        "id": "Bsq63OQFzD0B",
        "colab_type": "code",
        "colab": {}
      },
      "source": [
        "# DEVELOPMENT processed by clinical case\n",
        "getter_by_cc = df_data_dev2.groupby(\"File_Index\").apply(sentence)\n",
        "\n",
        "sentences_dev_by_cc = []\n",
        "\n",
        "for getter_i in getter_by_cc: # iterating over all the files\n",
        "  sentences_dev_by_cc.append(getter_i.sentences)\n",
        "\n",
        "# -----\n",
        "\n",
        "# without considering clinical cases independently\n",
        "getter = sentence(df_data_dev2)\n",
        "sentences_dev = getter.sentences"
      ],
      "execution_count": null,
      "outputs": []
    },
    {
      "cell_type": "code",
      "metadata": {
        "id": "zYk77MsPzdFP",
        "colab_type": "code",
        "colab": {
          "base_uri": "https://localhost:8080/",
          "height": 88
        },
        "outputId": "df1b13b0-0037-4518-dee0-0e6f8b7f5cb7"
      },
      "source": [
        "print(sentences_dev_by_cc[0][1]) # second sentence of the first file (clinical case)\n",
        "print()\n",
        "print(sentences_dev[1])"
      ],
      "execution_count": null,
      "outputs": [
        {
          "output_type": "stream",
          "text": [
            "[('Inicia', 'VERB', 'O', 237), ('tratamiento', 'NOUN', 'O', 244), ('de', 'ADP', 'O', 256), ('primera', 'ADJ', 'O', 259), ('línea', 'NOUN', 'O', 267), ('metastásica', 'ADJ', 'S-MOR', 273), ('con', 'ADP', 'O', 285), ('CDDP-gemcitabina', 'PROPN', 'O', 289), ('con', 'ADP', 'O', 306), ('estabilidad', 'NOUN', 'O', 310), ('tras', 'ADP', 'O', 322), ('tres', 'NUM', 'O', 327), ('ciclos', 'NOUN', 'O', 332), ('y', 'CCONJ', 'O', 339), ('mantenida', 'ADJ', 'O', 341), ('tras', 'ADP', 'O', 351), ('seis', 'NUM', 'O', 356), ('ciclos', 'NOUN', 'O', 361), ('.', 'PUNCT', 'O', 367)]\n",
            "\n",
            "[('Inicia', 'VERB', 'O', 237), ('tratamiento', 'NOUN', 'O', 244), ('de', 'ADP', 'O', 256), ('primera', 'ADJ', 'O', 259), ('línea', 'NOUN', 'O', 267), ('metastásica', 'ADJ', 'S-MOR', 273), ('con', 'ADP', 'O', 285), ('CDDP-gemcitabina', 'PROPN', 'O', 289), ('con', 'ADP', 'O', 306), ('estabilidad', 'NOUN', 'O', 310), ('tras', 'ADP', 'O', 322), ('tres', 'NUM', 'O', 327), ('ciclos', 'NOUN', 'O', 332), ('y', 'CCONJ', 'O', 339), ('mantenida', 'ADJ', 'O', 341), ('tras', 'ADP', 'O', 351), ('seis', 'NUM', 'O', 356), ('ciclos', 'NOUN', 'O', 361), ('.', 'PUNCT', 'O', 367)]\n"
          ],
          "name": "stdout"
        }
      ]
    },
    {
      "cell_type": "code",
      "metadata": {
        "id": "b5kmtTEHPlvd",
        "colab_type": "code",
        "colab": {
          "base_uri": "https://localhost:8080/",
          "height": 419
        },
        "outputId": "509ecabc-a523-438e-a426-def3e885cb11"
      },
      "source": [
        "df_data_test"
      ],
      "execution_count": null,
      "outputs": [
        {
          "output_type": "execute_result",
          "data": {
            "text/html": [
              "<div>\n",
              "<style scoped>\n",
              "    .dataframe tbody tr th:only-of-type {\n",
              "        vertical-align: middle;\n",
              "    }\n",
              "\n",
              "    .dataframe tbody tr th {\n",
              "        vertical-align: top;\n",
              "    }\n",
              "\n",
              "    .dataframe thead th {\n",
              "        text-align: right;\n",
              "    }\n",
              "</style>\n",
              "<table border=\"1\" class=\"dataframe\">\n",
              "  <thead>\n",
              "    <tr style=\"text-align: right;\">\n",
              "      <th></th>\n",
              "      <th>File_Index</th>\n",
              "      <th>Sentence_Index</th>\n",
              "      <th>Word</th>\n",
              "      <th>POS</th>\n",
              "      <th>Start_Char_position</th>\n",
              "    </tr>\n",
              "  </thead>\n",
              "  <tbody>\n",
              "    <tr>\n",
              "      <th>0</th>\n",
              "      <td>1</td>\n",
              "      <td>1</td>\n",
              "      <td>Paciente</td>\n",
              "      <td>PROPN</td>\n",
              "      <td>0</td>\n",
              "    </tr>\n",
              "    <tr>\n",
              "      <th>1</th>\n",
              "      <td>1</td>\n",
              "      <td>1</td>\n",
              "      <td>mujer</td>\n",
              "      <td>NOUN</td>\n",
              "      <td>9</td>\n",
              "    </tr>\n",
              "    <tr>\n",
              "      <th>2</th>\n",
              "      <td>1</td>\n",
              "      <td>1</td>\n",
              "      <td>,</td>\n",
              "      <td>PUNCT</td>\n",
              "      <td>14</td>\n",
              "    </tr>\n",
              "    <tr>\n",
              "      <th>3</th>\n",
              "      <td>1</td>\n",
              "      <td>1</td>\n",
              "      <td>75</td>\n",
              "      <td>NUM</td>\n",
              "      <td>16</td>\n",
              "    </tr>\n",
              "    <tr>\n",
              "      <th>4</th>\n",
              "      <td>1</td>\n",
              "      <td>1</td>\n",
              "      <td>años</td>\n",
              "      <td>NOUN</td>\n",
              "      <td>19</td>\n",
              "    </tr>\n",
              "    <tr>\n",
              "      <th>...</th>\n",
              "      <td>...</td>\n",
              "      <td>...</td>\n",
              "      <td>...</td>\n",
              "      <td>...</td>\n",
              "      <td>...</td>\n",
              "    </tr>\n",
              "    <tr>\n",
              "      <th>2167543</th>\n",
              "      <td>5232</td>\n",
              "      <td>88839</td>\n",
              "      <td>433</td>\n",
              "      <td>NUM</td>\n",
              "      <td>6226</td>\n",
              "    </tr>\n",
              "    <tr>\n",
              "      <th>2167544</th>\n",
              "      <td>5232</td>\n",
              "      <td>88839</td>\n",
              "      <td>U</td>\n",
              "      <td>PROPN</td>\n",
              "      <td>6230</td>\n",
              "    </tr>\n",
              "    <tr>\n",
              "      <th>2167545</th>\n",
              "      <td>5232</td>\n",
              "      <td>88839</td>\n",
              "      <td>/</td>\n",
              "      <td>PUNCT</td>\n",
              "      <td>6231</td>\n",
              "    </tr>\n",
              "    <tr>\n",
              "      <th>2167546</th>\n",
              "      <td>5232</td>\n",
              "      <td>88839</td>\n",
              "      <td>ml</td>\n",
              "      <td>NOUN</td>\n",
              "      <td>6232</td>\n",
              "    </tr>\n",
              "    <tr>\n",
              "      <th>2167547</th>\n",
              "      <td>5232</td>\n",
              "      <td>88839</td>\n",
              "      <td>.</td>\n",
              "      <td>PUNCT</td>\n",
              "      <td>6234</td>\n",
              "    </tr>\n",
              "  </tbody>\n",
              "</table>\n",
              "<p>2167548 rows × 5 columns</p>\n",
              "</div>"
            ],
            "text/plain": [
              "         File_Index  Sentence_Index      Word    POS  Start_Char_position\n",
              "0                 1               1  Paciente  PROPN                    0\n",
              "1                 1               1     mujer   NOUN                    9\n",
              "2                 1               1         ,  PUNCT                   14\n",
              "3                 1               1        75    NUM                   16\n",
              "4                 1               1      años   NOUN                   19\n",
              "...             ...             ...       ...    ...                  ...\n",
              "2167543        5232           88839       433    NUM                 6226\n",
              "2167544        5232           88839         U  PROPN                 6230\n",
              "2167545        5232           88839         /  PUNCT                 6231\n",
              "2167546        5232           88839        ml   NOUN                 6232\n",
              "2167547        5232           88839         .  PUNCT                 6234\n",
              "\n",
              "[2167548 rows x 5 columns]"
            ]
          },
          "metadata": {
            "tags": []
          },
          "execution_count": 65
        }
      ]
    },
    {
      "cell_type": "code",
      "metadata": {
        "id": "wfBo9lDoeCAl",
        "colab_type": "code",
        "colab": {}
      },
      "source": [
        "# TEST and background processed by clinical case\n",
        "getter_by_cc_test = df_data_test.groupby(\"File_Index\").apply(sentence_test)\n",
        "\n",
        "sentences_test_by_cc = []\n",
        "\n",
        "for getter_i in getter_by_cc_test: # iterating over all the files\n",
        "  sentences_test_by_cc.append(getter_i.sentences)\n",
        "\n",
        "# -----\n",
        "\n",
        "# without considering clinical cases independently\n",
        "getter_test = sentence_test(df_data_test)\n",
        "sentences_test= getter_test.sentences"
      ],
      "execution_count": null,
      "outputs": []
    },
    {
      "cell_type": "code",
      "metadata": {
        "id": "xGLYUm2Jfwi1",
        "colab_type": "code",
        "colab": {
          "base_uri": "https://localhost:8080/",
          "height": 88
        },
        "outputId": "37a6d3f4-6415-4037-9386-94f34d5b3405"
      },
      "source": [
        "print(sentences_test_by_cc[0][1]) # second sentence of the first file (clinical case)\n",
        "print()\n",
        "print(sentences_test[1])"
      ],
      "execution_count": null,
      "outputs": [
        {
          "output_type": "stream",
          "text": [
            "[('A', 'ADP', 110), ('los', 'DET', 112), ('59', 'NUM', 116), ('años', 'NOUN', 119), ('fué', 'AUX', 124), ('diagnosticada', 'VERB', 128), ('de', 'ADP', 142), ('fiebre', 'NOUN', 145), ('de', 'ADP', 152), ('probable', 'ADJ', 155), ('etiología', 'NOUN', 164), ('específica', 'ADJ', 174), (',', 'PUNCT', 184), ('tratada', 'ADJ', 186), ('con', 'ADP', 194), ('tuberculostáticos', 'NOUN', 198), (',', 'PUNCT', 215), ('según', 'ADP', 217), ('pauta', 'NOUN', 223), ('habitual', 'ADJ', 229), ('.', 'PUNCT', 237)]\n",
            "\n",
            "[('A', 'ADP', 110), ('los', 'DET', 112), ('59', 'NUM', 116), ('años', 'NOUN', 119), ('fué', 'AUX', 124), ('diagnosticada', 'VERB', 128), ('de', 'ADP', 142), ('fiebre', 'NOUN', 145), ('de', 'ADP', 152), ('probable', 'ADJ', 155), ('etiología', 'NOUN', 164), ('específica', 'ADJ', 174), (',', 'PUNCT', 184), ('tratada', 'ADJ', 186), ('con', 'ADP', 194), ('tuberculostáticos', 'NOUN', 198), (',', 'PUNCT', 215), ('según', 'ADP', 217), ('pauta', 'NOUN', 223), ('habitual', 'ADJ', 229), ('.', 'PUNCT', 237)]\n"
          ],
          "name": "stdout"
        }
      ]
    },
    {
      "cell_type": "code",
      "metadata": {
        "id": "2ZqT3rinTHpk",
        "colab_type": "code",
        "colab": {}
      },
      "source": [
        "# TEST with gold standards processed by clinical case\n",
        "getter_by_cc_test = df_data_test_true2.groupby(\"File_Index\").apply(sentence)\n",
        "\n",
        "sentences_test_true_by_cc = []\n",
        "\n",
        "for getter_i in getter_by_cc_test: # iterating over all the files\n",
        "  sentences_test_true_by_cc.append(getter_i.sentences)\n",
        "\n",
        "# -----\n",
        "\n",
        "# without considering clinical cases independently\n",
        "getter_test = sentence(df_data_test_true2)\n",
        "sentences_test_true= getter_test.sentences"
      ],
      "execution_count": null,
      "outputs": []
    },
    {
      "cell_type": "code",
      "metadata": {
        "id": "K14LkM7QAOuj",
        "colab_type": "code",
        "colab": {
          "base_uri": "https://localhost:8080/",
          "height": 232
        },
        "outputId": "fbd58b19-eac5-45b8-ff8a-98083673e104"
      },
      "source": [
        "sentences_train_COPY = sentences_train.copy()\n",
        "\n",
        "sentences_dev_COPY = sentences_dev.copy()\n",
        "sentences_dev_by_cc_COPY = sentences_dev_by_cc.copy()\n",
        "\n",
        "sentences_test_COPY = sentences_test.copy()\n",
        "sentences_test_by_cc_COPY = sentences_test_by_cc.copy()\n",
        "\n",
        "sentences_test_true_COPY = sentences_test_true.copy()\n",
        "sentences_test_true_by_cc_COPY = sentences_test_true_by_cc.copy()"
      ],
      "execution_count": null,
      "outputs": [
        {
          "output_type": "error",
          "ename": "NameError",
          "evalue": "ignored",
          "traceback": [
            "\u001b[0;31m---------------------------------------------------------------------------\u001b[0m",
            "\u001b[0;31mNameError\u001b[0m                                 Traceback (most recent call last)",
            "\u001b[0;32m<ipython-input-102-ae4faa89e187>\u001b[0m in \u001b[0;36m<module>\u001b[0;34m()\u001b[0m\n\u001b[0;32m----> 1\u001b[0;31m \u001b[0msentences_train_COPY\u001b[0m \u001b[0;34m=\u001b[0m \u001b[0msentences_train\u001b[0m\u001b[0;34m.\u001b[0m\u001b[0mcopy\u001b[0m\u001b[0;34m(\u001b[0m\u001b[0;34m)\u001b[0m\u001b[0;34m\u001b[0m\u001b[0;34m\u001b[0m\u001b[0m\n\u001b[0m\u001b[1;32m      2\u001b[0m \u001b[0msentences_dev_COPY\u001b[0m \u001b[0;34m=\u001b[0m \u001b[0msentences_dev\u001b[0m\u001b[0;34m.\u001b[0m\u001b[0mcopy\u001b[0m\u001b[0;34m(\u001b[0m\u001b[0;34m)\u001b[0m\u001b[0;34m\u001b[0m\u001b[0;34m\u001b[0m\u001b[0m\n\u001b[1;32m      3\u001b[0m \u001b[0msentences_dev_by_cc_COPY\u001b[0m \u001b[0;34m=\u001b[0m \u001b[0msentences_dev_by_cc\u001b[0m\u001b[0;34m.\u001b[0m\u001b[0mcopy\u001b[0m\u001b[0;34m(\u001b[0m\u001b[0;34m)\u001b[0m\u001b[0;34m\u001b[0m\u001b[0;34m\u001b[0m\u001b[0m\n\u001b[1;32m      4\u001b[0m \u001b[0msentences_test_COPY\u001b[0m \u001b[0;34m=\u001b[0m \u001b[0msentences_test\u001b[0m\u001b[0;34m.\u001b[0m\u001b[0mcopy\u001b[0m\u001b[0;34m(\u001b[0m\u001b[0;34m)\u001b[0m\u001b[0;34m\u001b[0m\u001b[0;34m\u001b[0m\u001b[0m\n\u001b[1;32m      5\u001b[0m \u001b[0msentences_test_by_cc_COPY\u001b[0m \u001b[0;34m=\u001b[0m \u001b[0msentences_test_by_cc\u001b[0m\u001b[0;34m.\u001b[0m\u001b[0mcopy\u001b[0m\u001b[0;34m(\u001b[0m\u001b[0;34m)\u001b[0m\u001b[0;34m\u001b[0m\u001b[0;34m\u001b[0m\u001b[0m\n",
            "\u001b[0;31mNameError\u001b[0m: name 'sentences_train' is not defined"
          ]
        }
      ]
    },
    {
      "cell_type": "code",
      "metadata": {
        "id": "Xbt-NZPWx6QS",
        "colab_type": "code",
        "colab": {}
      },
      "source": [
        "def preprocess_word(w):\n",
        "  # 1st turn to lowercase\n",
        "  w = w.lower()\n",
        "  # 2nd remove accents and strange characters\n",
        "  w = unidecode.unidecode(w)\n",
        "  return w"
      ],
      "execution_count": null,
      "outputs": []
    },
    {
      "cell_type": "code",
      "metadata": {
        "id": "Cf_LWRZL293n",
        "colab_type": "code",
        "colab": {}
      },
      "source": [
        "preprocess = False\n",
        "\n",
        "if (preprocess==True):\n",
        "  sentences_train = [[(preprocess_word(w[0]),w[1],w[2]) for w in s] for s in sentences_train]\n",
        "  sentences_dev = [[(preprocess_word(w[0]),w[1],w[2]) for w in s] for s in sentences_dev]\n",
        "  sentences_dev_by_cc = [[[(preprocess_word(w[0]),w[1],w[2]) for w in s] for s in cc] for cc in sentences_dev_by_cc]\n",
        "\n",
        "else:\n",
        "  sentences_train = sentences_train_COPY\n",
        "  sentences_dev = sentences_dev_COPY\n",
        "  sentences_dev_by_cc = sentences_dev_by_cc_COPY"
      ],
      "execution_count": null,
      "outputs": []
    },
    {
      "cell_type": "markdown",
      "metadata": {
        "id": "MW998TYDRYwS",
        "colab_type": "text"
      },
      "source": [
        "## **Export Data**\n",
        "\n",
        "- sentences_train\n",
        "- sentences_dev\n",
        "- sentences_dev_by_cc\n",
        "\n",
        "- df_data_train2\n",
        "- df_data_dev2"
      ]
    },
    {
      "cell_type": "code",
      "metadata": {
        "id": "OLiK9xvseMLc",
        "colab_type": "code",
        "colab": {
          "base_uri": "https://localhost:8080/",
          "height": 102
        },
        "outputId": "4e4c3cd8-88a7-496b-cd32-509da287ad6e"
      },
      "source": [
        "!ls 'drive/My Drive/Ejemplos NER - TFM/data'"
      ],
      "execution_count": null,
      "outputs": [
        {
          "output_type": "stream",
          "text": [
            "df_data_complete.csv  files_txt_dev\t   sentences_dev_by_cc2\n",
            "df_data_dev2_2.csv    files_txt_test\t   sentences_test\n",
            "df_data_dev2.csv      sentences_dev\t   sentences_test_by_cc\n",
            "df_data_test.csv      sentences_dev2\t   sentences_train\n",
            "df_data_train2.csv    sentences_dev_by_cc\n"
          ],
          "name": "stdout"
        }
      ]
    },
    {
      "cell_type": "code",
      "metadata": {
        "id": "yp9roUECapWu",
        "colab_type": "code",
        "colab": {}
      },
      "source": [
        "import pickle as pkl"
      ],
      "execution_count": null,
      "outputs": []
    },
    {
      "cell_type": "code",
      "metadata": {
        "id": "H0n7viGfbhj8",
        "colab_type": "code",
        "colab": {}
      },
      "source": [
        "# Train dataset\n",
        "\n",
        "with open(path+'data/sentences_train', 'wb') as file: \n",
        "  pkl.dump(sentences_train, file)\n",
        "file.close()\n",
        "\n",
        "df_data_train2.to_csv(path+'data/df_data_train2.csv', index = False, header=True)"
      ],
      "execution_count": null,
      "outputs": []
    },
    {
      "cell_type": "code",
      "metadata": {
        "id": "6XhyRtvZs11w",
        "colab_type": "code",
        "colab": {}
      },
      "source": [
        "# Development dataset\n",
        "with open(path+'data/sentences_dev', 'wb') as file: \n",
        "  pkl.dump(sentences_dev, file)\n",
        "file.close()\n",
        "\n",
        "with open(path+'data/sentences_dev_by_cc', 'wb') as file: \n",
        "  pkl.dump(sentences_dev_by_cc, file)\n",
        "file.close()\n",
        "\n",
        "df_data_dev2.to_csv(path+'data/df_data_dev2.csv', index = False, header=True)"
      ],
      "execution_count": null,
      "outputs": []
    },
    {
      "cell_type": "code",
      "metadata": {
        "id": "HKzMm-xNf_fu",
        "colab_type": "code",
        "colab": {}
      },
      "source": [
        "# TEST and background FILES:\n",
        "with open(path+'data/sentences_test', 'wb') as file: \n",
        "  pkl.dump(sentences_test, file)\n",
        "file.close()\n",
        "\n",
        "with open(path+'data/sentences_test_by_cc', 'wb') as file: \n",
        "  pkl.dump(sentences_test_by_cc, file)\n",
        "file.close()\n",
        "\n",
        "df_data_test.to_csv(path+'data/df_data_test.csv', index = False, header=True)\n",
        "\n"
      ],
      "execution_count": null,
      "outputs": []
    },
    {
      "cell_type": "code",
      "metadata": {
        "id": "lAPfWsPRUHJ7",
        "colab_type": "code",
        "colab": {}
      },
      "source": [
        "# Test with gold standards dataset\n",
        "\n",
        "with open(path+'data/sentences_test_true', 'wb') as file: \n",
        "  pkl.dump(sentences_test_true, file)\n",
        "file.close()\n",
        "\n",
        "with open(path+'data/sentences_test_true_by_cc', 'wb') as file: \n",
        "  pkl.dump(sentences_test_true_by_cc, file)\n",
        "file.close()\n",
        "\n",
        "df_data_test_true2.to_csv(path+'data/df_data_test_true2.csv', index = False, header=True)"
      ],
      "execution_count": null,
      "outputs": []
    },
    {
      "cell_type": "code",
      "metadata": {
        "id": "AobFcHW_T29p",
        "colab_type": "code",
        "colab": {}
      },
      "source": [
        "# Store the names of the files\n",
        "\n",
        "with open(path+'data/files_txt_test', 'wb') as file: \n",
        "  pkl.dump(files_txt_test, file)\n",
        "file.close()\n",
        "\n",
        "with open(path+'data/files_txt_dev', 'wb') as file: \n",
        "  pkl.dump(files_txt_dev, file)\n",
        "file.close()\n",
        "\n",
        "with open(path+'data/files_txt_test_true', 'wb') as file: \n",
        "  pkl.dump(files_txt_test_true, file)\n",
        "file.close()"
      ],
      "execution_count": null,
      "outputs": []
    }
  ]
}